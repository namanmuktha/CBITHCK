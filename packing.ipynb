{
 "cells": [
  {
   "cell_type": "code",
   "execution_count": 1,
   "metadata": {},
   "outputs": [],
   "source": [
    "import numpy as np \n",
    "import pandas as pd\n"
   ]
  },
  {
   "cell_type": "code",
   "execution_count": 2,
   "metadata": {},
   "outputs": [],
   "source": [
    "df=pd.read_csv('/Users/namanmuktha/Desktop/cbithck/Amazon ML Challenge Dataset 2023/train.csv')"
   ]
  },
  {
   "cell_type": "code",
   "execution_count": 3,
   "metadata": {},
   "outputs": [
    {
     "data": {
      "text/html": [
       "<div>\n",
       "<style scoped>\n",
       "    .dataframe tbody tr th:only-of-type {\n",
       "        vertical-align: middle;\n",
       "    }\n",
       "\n",
       "    .dataframe tbody tr th {\n",
       "        vertical-align: top;\n",
       "    }\n",
       "\n",
       "    .dataframe thead th {\n",
       "        text-align: right;\n",
       "    }\n",
       "</style>\n",
       "<table border=\"1\" class=\"dataframe\">\n",
       "  <thead>\n",
       "    <tr style=\"text-align: right;\">\n",
       "      <th></th>\n",
       "      <th>PRODUCT_ID</th>\n",
       "      <th>TITLE</th>\n",
       "      <th>BULLET_POINTS</th>\n",
       "      <th>DESCRIPTION</th>\n",
       "      <th>PRODUCT_TYPE_ID</th>\n",
       "      <th>PRODUCT_LENGTH</th>\n",
       "    </tr>\n",
       "  </thead>\n",
       "  <tbody>\n",
       "    <tr>\n",
       "      <th>0</th>\n",
       "      <td>1925202</td>\n",
       "      <td>ArtzFolio Tulip Flowers Blackout Curtain for D...</td>\n",
       "      <td>[LUXURIOUS &amp; APPEALING: Beautiful custom-made ...</td>\n",
       "      <td>NaN</td>\n",
       "      <td>1650</td>\n",
       "      <td>2125.980000</td>\n",
       "    </tr>\n",
       "    <tr>\n",
       "      <th>1</th>\n",
       "      <td>2673191</td>\n",
       "      <td>Marks &amp; Spencer Girls' Pyjama Sets T86_2561C_N...</td>\n",
       "      <td>[Harry Potter Hedwig Pyjamas (6-16 Yrs),100% c...</td>\n",
       "      <td>NaN</td>\n",
       "      <td>2755</td>\n",
       "      <td>393.700000</td>\n",
       "    </tr>\n",
       "    <tr>\n",
       "      <th>2</th>\n",
       "      <td>2765088</td>\n",
       "      <td>PRIKNIK Horn Red Electric Air Horn Compressor ...</td>\n",
       "      <td>[Loud Dual Tone Trumpet Horn, Compatible With ...</td>\n",
       "      <td>Specifications: Color: Red, Material: Aluminiu...</td>\n",
       "      <td>7537</td>\n",
       "      <td>748.031495</td>\n",
       "    </tr>\n",
       "    <tr>\n",
       "      <th>3</th>\n",
       "      <td>1594019</td>\n",
       "      <td>ALISHAH Women's Cotton Ankle Length Leggings C...</td>\n",
       "      <td>[Made By 95%cotton and 5% Lycra which gives yo...</td>\n",
       "      <td>AISHAH Women's Lycra Cotton Ankel Leggings. Br...</td>\n",
       "      <td>2996</td>\n",
       "      <td>787.401574</td>\n",
       "    </tr>\n",
       "    <tr>\n",
       "      <th>4</th>\n",
       "      <td>283658</td>\n",
       "      <td>The United Empire Loyalists: A Chronicle of th...</td>\n",
       "      <td>NaN</td>\n",
       "      <td>NaN</td>\n",
       "      <td>6112</td>\n",
       "      <td>598.424000</td>\n",
       "    </tr>\n",
       "  </tbody>\n",
       "</table>\n",
       "</div>"
      ],
      "text/plain": [
       "   PRODUCT_ID                                              TITLE  \\\n",
       "0     1925202  ArtzFolio Tulip Flowers Blackout Curtain for D...   \n",
       "1     2673191  Marks & Spencer Girls' Pyjama Sets T86_2561C_N...   \n",
       "2     2765088  PRIKNIK Horn Red Electric Air Horn Compressor ...   \n",
       "3     1594019  ALISHAH Women's Cotton Ankle Length Leggings C...   \n",
       "4      283658  The United Empire Loyalists: A Chronicle of th...   \n",
       "\n",
       "                                       BULLET_POINTS  \\\n",
       "0  [LUXURIOUS & APPEALING: Beautiful custom-made ...   \n",
       "1  [Harry Potter Hedwig Pyjamas (6-16 Yrs),100% c...   \n",
       "2  [Loud Dual Tone Trumpet Horn, Compatible With ...   \n",
       "3  [Made By 95%cotton and 5% Lycra which gives yo...   \n",
       "4                                                NaN   \n",
       "\n",
       "                                         DESCRIPTION  PRODUCT_TYPE_ID  \\\n",
       "0                                                NaN             1650   \n",
       "1                                                NaN             2755   \n",
       "2  Specifications: Color: Red, Material: Aluminiu...             7537   \n",
       "3  AISHAH Women's Lycra Cotton Ankel Leggings. Br...             2996   \n",
       "4                                                NaN             6112   \n",
       "\n",
       "   PRODUCT_LENGTH  \n",
       "0     2125.980000  \n",
       "1      393.700000  \n",
       "2      748.031495  \n",
       "3      787.401574  \n",
       "4      598.424000  "
      ]
     },
     "execution_count": 3,
     "metadata": {},
     "output_type": "execute_result"
    }
   ],
   "source": [
    "df.head()"
   ]
  },
  {
   "cell_type": "code",
   "execution_count": 4,
   "metadata": {},
   "outputs": [
    {
     "data": {
      "text/plain": [
       "(2249698, 6)"
      ]
     },
     "execution_count": 4,
     "metadata": {},
     "output_type": "execute_result"
    }
   ],
   "source": [
    "df.shape"
   ]
  },
  {
   "cell_type": "code",
   "execution_count": 5,
   "metadata": {},
   "outputs": [
    {
     "data": {
      "text/plain": [
       "PRODUCT_ID               0\n",
       "TITLE                   13\n",
       "BULLET_POINTS       837366\n",
       "DESCRIPTION        1157382\n",
       "PRODUCT_TYPE_ID          0\n",
       "PRODUCT_LENGTH           0\n",
       "dtype: int64"
      ]
     },
     "execution_count": 5,
     "metadata": {},
     "output_type": "execute_result"
    }
   ],
   "source": [
    "df.isna().sum()"
   ]
  },
  {
   "cell_type": "code",
   "execution_count": 6,
   "metadata": {},
   "outputs": [],
   "source": [
    "df=df.dropna()"
   ]
  },
  {
   "cell_type": "code",
   "execution_count": 7,
   "metadata": {},
   "outputs": [
    {
     "data": {
      "text/plain": [
       "(1038458, 6)"
      ]
     },
     "execution_count": 7,
     "metadata": {},
     "output_type": "execute_result"
    }
   ],
   "source": [
    "df.shape"
   ]
  },
  {
   "cell_type": "code",
   "execution_count": 8,
   "metadata": {},
   "outputs": [
    {
     "data": {
      "text/plain": [
       "PRODUCT_ID         0\n",
       "TITLE              0\n",
       "BULLET_POINTS      0\n",
       "DESCRIPTION        0\n",
       "PRODUCT_TYPE_ID    0\n",
       "PRODUCT_LENGTH     0\n",
       "dtype: int64"
      ]
     },
     "execution_count": 8,
     "metadata": {},
     "output_type": "execute_result"
    }
   ],
   "source": [
    "df.isna().sum()"
   ]
  },
  {
   "cell_type": "code",
   "execution_count": 9,
   "metadata": {},
   "outputs": [
    {
     "data": {
      "text/plain": [
       "PRODUCT_ID           int64\n",
       "TITLE               object\n",
       "BULLET_POINTS       object\n",
       "DESCRIPTION         object\n",
       "PRODUCT_TYPE_ID      int64\n",
       "PRODUCT_LENGTH     float64\n",
       "dtype: object"
      ]
     },
     "execution_count": 9,
     "metadata": {},
     "output_type": "execute_result"
    }
   ],
   "source": [
    "df.dtypes"
   ]
  },
  {
   "cell_type": "code",
   "execution_count": 10,
   "metadata": {},
   "outputs": [
    {
     "data": {
      "text/html": [
       "<div>\n",
       "<style scoped>\n",
       "    .dataframe tbody tr th:only-of-type {\n",
       "        vertical-align: middle;\n",
       "    }\n",
       "\n",
       "    .dataframe tbody tr th {\n",
       "        vertical-align: top;\n",
       "    }\n",
       "\n",
       "    .dataframe thead th {\n",
       "        text-align: right;\n",
       "    }\n",
       "</style>\n",
       "<table border=\"1\" class=\"dataframe\">\n",
       "  <thead>\n",
       "    <tr style=\"text-align: right;\">\n",
       "      <th></th>\n",
       "      <th>PRODUCT_ID</th>\n",
       "      <th>TITLE</th>\n",
       "      <th>BULLET_POINTS</th>\n",
       "      <th>DESCRIPTION</th>\n",
       "      <th>PRODUCT_TYPE_ID</th>\n",
       "      <th>PRODUCT_LENGTH</th>\n",
       "    </tr>\n",
       "  </thead>\n",
       "  <tbody>\n",
       "    <tr>\n",
       "      <th>2</th>\n",
       "      <td>2765088</td>\n",
       "      <td>PRIKNIK Horn Red Electric Air Horn Compressor ...</td>\n",
       "      <td>[Loud Dual Tone Trumpet Horn, Compatible With ...</td>\n",
       "      <td>Specifications: Color: Red, Material: Aluminiu...</td>\n",
       "      <td>7537</td>\n",
       "      <td>748.031495</td>\n",
       "    </tr>\n",
       "    <tr>\n",
       "      <th>3</th>\n",
       "      <td>1594019</td>\n",
       "      <td>ALISHAH Women's Cotton Ankle Length Leggings C...</td>\n",
       "      <td>[Made By 95%cotton and 5% Lycra which gives yo...</td>\n",
       "      <td>AISHAH Women's Lycra Cotton Ankel Leggings. Br...</td>\n",
       "      <td>2996</td>\n",
       "      <td>787.401574</td>\n",
       "    </tr>\n",
       "    <tr>\n",
       "      <th>5</th>\n",
       "      <td>2152929</td>\n",
       "      <td>HINS Metal Bucket Shape Plant Pot for Indoor &amp;...</td>\n",
       "      <td>[Simple and elegant, great for displaying indo...</td>\n",
       "      <td>HINS Brings you the most Elegant Looking Pot w...</td>\n",
       "      <td>5725</td>\n",
       "      <td>950.000000</td>\n",
       "    </tr>\n",
       "    <tr>\n",
       "      <th>7</th>\n",
       "      <td>2026580</td>\n",
       "      <td>Delavala Self Adhesive Kitchen Backsplash Wall...</td>\n",
       "      <td>[HIGH QUALITY PVC MATERIAL: The kitchen alumin...</td>\n",
       "      <td>&lt;p&gt;&lt;strong&gt;Aluminum Foil Stickers-good kitchen...</td>\n",
       "      <td>6030</td>\n",
       "      <td>984.251967</td>\n",
       "    </tr>\n",
       "    <tr>\n",
       "      <th>9</th>\n",
       "      <td>2998633</td>\n",
       "      <td>Hexwell Essential oil for Home Fragrance Oil A...</td>\n",
       "      <td>[100% Pure And Natural Essential Oil Or Fragra...</td>\n",
       "      <td>Transform your home, workplace or hotel room i...</td>\n",
       "      <td>8201</td>\n",
       "      <td>393.700787</td>\n",
       "    </tr>\n",
       "  </tbody>\n",
       "</table>\n",
       "</div>"
      ],
      "text/plain": [
       "   PRODUCT_ID                                              TITLE  \\\n",
       "2     2765088  PRIKNIK Horn Red Electric Air Horn Compressor ...   \n",
       "3     1594019  ALISHAH Women's Cotton Ankle Length Leggings C...   \n",
       "5     2152929  HINS Metal Bucket Shape Plant Pot for Indoor &...   \n",
       "7     2026580  Delavala Self Adhesive Kitchen Backsplash Wall...   \n",
       "9     2998633  Hexwell Essential oil for Home Fragrance Oil A...   \n",
       "\n",
       "                                       BULLET_POINTS  \\\n",
       "2  [Loud Dual Tone Trumpet Horn, Compatible With ...   \n",
       "3  [Made By 95%cotton and 5% Lycra which gives yo...   \n",
       "5  [Simple and elegant, great for displaying indo...   \n",
       "7  [HIGH QUALITY PVC MATERIAL: The kitchen alumin...   \n",
       "9  [100% Pure And Natural Essential Oil Or Fragra...   \n",
       "\n",
       "                                         DESCRIPTION  PRODUCT_TYPE_ID  \\\n",
       "2  Specifications: Color: Red, Material: Aluminiu...             7537   \n",
       "3  AISHAH Women's Lycra Cotton Ankel Leggings. Br...             2996   \n",
       "5  HINS Brings you the most Elegant Looking Pot w...             5725   \n",
       "7  <p><strong>Aluminum Foil Stickers-good kitchen...             6030   \n",
       "9  Transform your home, workplace or hotel room i...             8201   \n",
       "\n",
       "   PRODUCT_LENGTH  \n",
       "2      748.031495  \n",
       "3      787.401574  \n",
       "5      950.000000  \n",
       "7      984.251967  \n",
       "9      393.700787  "
      ]
     },
     "execution_count": 10,
     "metadata": {},
     "output_type": "execute_result"
    }
   ],
   "source": [
    "df.head()"
   ]
  },
  {
   "cell_type": "code",
   "execution_count": 11,
   "metadata": {},
   "outputs": [],
   "source": [
    "df=df.head(20000)"
   ]
  },
  {
   "cell_type": "code",
   "execution_count": 12,
   "metadata": {},
   "outputs": [],
   "source": [
    "import string"
   ]
  },
  {
   "cell_type": "code",
   "execution_count": 13,
   "metadata": {},
   "outputs": [],
   "source": [
    "df['TITLE']=df['TITLE'].str.lower()\n",
    "df['BULLET_POINTS']=df['BULLET_POINTS'].str.lower()\n",
    "df['DESCRIPTION']=df['DESCRIPTION'].str.lower()"
   ]
  },
  {
   "cell_type": "code",
   "execution_count": 14,
   "metadata": {},
   "outputs": [
    {
     "data": {
      "text/html": [
       "<div>\n",
       "<style scoped>\n",
       "    .dataframe tbody tr th:only-of-type {\n",
       "        vertical-align: middle;\n",
       "    }\n",
       "\n",
       "    .dataframe tbody tr th {\n",
       "        vertical-align: top;\n",
       "    }\n",
       "\n",
       "    .dataframe thead th {\n",
       "        text-align: right;\n",
       "    }\n",
       "</style>\n",
       "<table border=\"1\" class=\"dataframe\">\n",
       "  <thead>\n",
       "    <tr style=\"text-align: right;\">\n",
       "      <th></th>\n",
       "      <th>PRODUCT_ID</th>\n",
       "      <th>TITLE</th>\n",
       "      <th>BULLET_POINTS</th>\n",
       "      <th>DESCRIPTION</th>\n",
       "      <th>PRODUCT_TYPE_ID</th>\n",
       "      <th>PRODUCT_LENGTH</th>\n",
       "    </tr>\n",
       "  </thead>\n",
       "  <tbody>\n",
       "    <tr>\n",
       "      <th>2</th>\n",
       "      <td>2765088</td>\n",
       "      <td>priknik horn red electric air horn compressor ...</td>\n",
       "      <td>[loud dual tone trumpet horn, compatible with ...</td>\n",
       "      <td>specifications: color: red, material: aluminiu...</td>\n",
       "      <td>7537</td>\n",
       "      <td>748.031495</td>\n",
       "    </tr>\n",
       "    <tr>\n",
       "      <th>3</th>\n",
       "      <td>1594019</td>\n",
       "      <td>alishah women's cotton ankle length leggings c...</td>\n",
       "      <td>[made by 95%cotton and 5% lycra which gives yo...</td>\n",
       "      <td>aishah women's lycra cotton ankel leggings. br...</td>\n",
       "      <td>2996</td>\n",
       "      <td>787.401574</td>\n",
       "    </tr>\n",
       "    <tr>\n",
       "      <th>5</th>\n",
       "      <td>2152929</td>\n",
       "      <td>hins metal bucket shape plant pot for indoor &amp;...</td>\n",
       "      <td>[simple and elegant, great for displaying indo...</td>\n",
       "      <td>hins brings you the most elegant looking pot w...</td>\n",
       "      <td>5725</td>\n",
       "      <td>950.000000</td>\n",
       "    </tr>\n",
       "    <tr>\n",
       "      <th>7</th>\n",
       "      <td>2026580</td>\n",
       "      <td>delavala self adhesive kitchen backsplash wall...</td>\n",
       "      <td>[high quality pvc material: the kitchen alumin...</td>\n",
       "      <td>&lt;p&gt;&lt;strong&gt;aluminum foil stickers-good kitchen...</td>\n",
       "      <td>6030</td>\n",
       "      <td>984.251967</td>\n",
       "    </tr>\n",
       "    <tr>\n",
       "      <th>9</th>\n",
       "      <td>2998633</td>\n",
       "      <td>hexwell essential oil for home fragrance oil a...</td>\n",
       "      <td>[100% pure and natural essential oil or fragra...</td>\n",
       "      <td>transform your home, workplace or hotel room i...</td>\n",
       "      <td>8201</td>\n",
       "      <td>393.700787</td>\n",
       "    </tr>\n",
       "  </tbody>\n",
       "</table>\n",
       "</div>"
      ],
      "text/plain": [
       "   PRODUCT_ID                                              TITLE  \\\n",
       "2     2765088  priknik horn red electric air horn compressor ...   \n",
       "3     1594019  alishah women's cotton ankle length leggings c...   \n",
       "5     2152929  hins metal bucket shape plant pot for indoor &...   \n",
       "7     2026580  delavala self adhesive kitchen backsplash wall...   \n",
       "9     2998633  hexwell essential oil for home fragrance oil a...   \n",
       "\n",
       "                                       BULLET_POINTS  \\\n",
       "2  [loud dual tone trumpet horn, compatible with ...   \n",
       "3  [made by 95%cotton and 5% lycra which gives yo...   \n",
       "5  [simple and elegant, great for displaying indo...   \n",
       "7  [high quality pvc material: the kitchen alumin...   \n",
       "9  [100% pure and natural essential oil or fragra...   \n",
       "\n",
       "                                         DESCRIPTION  PRODUCT_TYPE_ID  \\\n",
       "2  specifications: color: red, material: aluminiu...             7537   \n",
       "3  aishah women's lycra cotton ankel leggings. br...             2996   \n",
       "5  hins brings you the most elegant looking pot w...             5725   \n",
       "7  <p><strong>aluminum foil stickers-good kitchen...             6030   \n",
       "9  transform your home, workplace or hotel room i...             8201   \n",
       "\n",
       "   PRODUCT_LENGTH  \n",
       "2      748.031495  \n",
       "3      787.401574  \n",
       "5      950.000000  \n",
       "7      984.251967  \n",
       "9      393.700787  "
      ]
     },
     "execution_count": 14,
     "metadata": {},
     "output_type": "execute_result"
    }
   ],
   "source": [
    "df.head()"
   ]
  },
  {
   "cell_type": "code",
   "execution_count": 15,
   "metadata": {},
   "outputs": [],
   "source": [
    "df['TITLE']=df['TITLE'].apply(lambda x: ''.join([c for c in x if c not in string.punctuation]))\n",
    "df['BULLET_POINTS']=df['BULLET_POINTS'].apply(lambda x: ''.join([c for c in x if c not in string.punctuation]))\n",
    "df['DESCRIPTION']=df['DESCRIPTION'].apply(lambda x: ''.join([c for c in x if c not in string.punctuation]))"
   ]
  },
  {
   "cell_type": "code",
   "execution_count": 16,
   "metadata": {},
   "outputs": [
    {
     "data": {
      "text/html": [
       "<div>\n",
       "<style scoped>\n",
       "    .dataframe tbody tr th:only-of-type {\n",
       "        vertical-align: middle;\n",
       "    }\n",
       "\n",
       "    .dataframe tbody tr th {\n",
       "        vertical-align: top;\n",
       "    }\n",
       "\n",
       "    .dataframe thead th {\n",
       "        text-align: right;\n",
       "    }\n",
       "</style>\n",
       "<table border=\"1\" class=\"dataframe\">\n",
       "  <thead>\n",
       "    <tr style=\"text-align: right;\">\n",
       "      <th></th>\n",
       "      <th>PRODUCT_ID</th>\n",
       "      <th>TITLE</th>\n",
       "      <th>BULLET_POINTS</th>\n",
       "      <th>DESCRIPTION</th>\n",
       "      <th>PRODUCT_TYPE_ID</th>\n",
       "      <th>PRODUCT_LENGTH</th>\n",
       "    </tr>\n",
       "  </thead>\n",
       "  <tbody>\n",
       "    <tr>\n",
       "      <th>2</th>\n",
       "      <td>2765088</td>\n",
       "      <td>priknik horn red electric air horn compressor ...</td>\n",
       "      <td>loud dual tone trumpet horn compatible with sx...</td>\n",
       "      <td>specifications color red material aluminium vo...</td>\n",
       "      <td>7537</td>\n",
       "      <td>748.031495</td>\n",
       "    </tr>\n",
       "    <tr>\n",
       "      <th>3</th>\n",
       "      <td>1594019</td>\n",
       "      <td>alishah womens cotton ankle length leggings co...</td>\n",
       "      <td>made by 95cotton and 5 lycra which gives you 4...</td>\n",
       "      <td>aishah womens lycra cotton ankel leggings bran...</td>\n",
       "      <td>2996</td>\n",
       "      <td>787.401574</td>\n",
       "    </tr>\n",
       "    <tr>\n",
       "      <th>5</th>\n",
       "      <td>2152929</td>\n",
       "      <td>hins metal bucket shape plant pot for indoor  ...</td>\n",
       "      <td>simple and elegant great for displaying indoor...</td>\n",
       "      <td>hins brings you the most elegant looking pot w...</td>\n",
       "      <td>5725</td>\n",
       "      <td>950.000000</td>\n",
       "    </tr>\n",
       "    <tr>\n",
       "      <th>7</th>\n",
       "      <td>2026580</td>\n",
       "      <td>delavala self adhesive kitchen backsplash wall...</td>\n",
       "      <td>high quality pvc material the kitchen aluminum...</td>\n",
       "      <td>pstrongaluminum foil stickersgood kitchen help...</td>\n",
       "      <td>6030</td>\n",
       "      <td>984.251967</td>\n",
       "    </tr>\n",
       "    <tr>\n",
       "      <th>9</th>\n",
       "      <td>2998633</td>\n",
       "      <td>hexwell essential oil for home fragrance oil a...</td>\n",
       "      <td>100 pure and natural essential oil or fragranc...</td>\n",
       "      <td>transform your home workplace or hotel room in...</td>\n",
       "      <td>8201</td>\n",
       "      <td>393.700787</td>\n",
       "    </tr>\n",
       "  </tbody>\n",
       "</table>\n",
       "</div>"
      ],
      "text/plain": [
       "   PRODUCT_ID                                              TITLE  \\\n",
       "2     2765088  priknik horn red electric air horn compressor ...   \n",
       "3     1594019  alishah womens cotton ankle length leggings co...   \n",
       "5     2152929  hins metal bucket shape plant pot for indoor  ...   \n",
       "7     2026580  delavala self adhesive kitchen backsplash wall...   \n",
       "9     2998633  hexwell essential oil for home fragrance oil a...   \n",
       "\n",
       "                                       BULLET_POINTS  \\\n",
       "2  loud dual tone trumpet horn compatible with sx...   \n",
       "3  made by 95cotton and 5 lycra which gives you 4...   \n",
       "5  simple and elegant great for displaying indoor...   \n",
       "7  high quality pvc material the kitchen aluminum...   \n",
       "9  100 pure and natural essential oil or fragranc...   \n",
       "\n",
       "                                         DESCRIPTION  PRODUCT_TYPE_ID  \\\n",
       "2  specifications color red material aluminium vo...             7537   \n",
       "3  aishah womens lycra cotton ankel leggings bran...             2996   \n",
       "5  hins brings you the most elegant looking pot w...             5725   \n",
       "7  pstrongaluminum foil stickersgood kitchen help...             6030   \n",
       "9  transform your home workplace or hotel room in...             8201   \n",
       "\n",
       "   PRODUCT_LENGTH  \n",
       "2      748.031495  \n",
       "3      787.401574  \n",
       "5      950.000000  \n",
       "7      984.251967  \n",
       "9      393.700787  "
      ]
     },
     "execution_count": 16,
     "metadata": {},
     "output_type": "execute_result"
    }
   ],
   "source": [
    "df.head()"
   ]
  },
  {
   "cell_type": "code",
   "execution_count": 17,
   "metadata": {},
   "outputs": [],
   "source": [
    "cols=['TITLE','BULLET_POINTS','DESCRIPTION']\n",
    "for x in cols:\n",
    "    df[x]=df[x].apply(lambda x: x.split())"
   ]
  },
  {
   "cell_type": "code",
   "execution_count": 18,
   "metadata": {},
   "outputs": [
    {
     "data": {
      "text/html": [
       "<div>\n",
       "<style scoped>\n",
       "    .dataframe tbody tr th:only-of-type {\n",
       "        vertical-align: middle;\n",
       "    }\n",
       "\n",
       "    .dataframe tbody tr th {\n",
       "        vertical-align: top;\n",
       "    }\n",
       "\n",
       "    .dataframe thead th {\n",
       "        text-align: right;\n",
       "    }\n",
       "</style>\n",
       "<table border=\"1\" class=\"dataframe\">\n",
       "  <thead>\n",
       "    <tr style=\"text-align: right;\">\n",
       "      <th></th>\n",
       "      <th>PRODUCT_ID</th>\n",
       "      <th>TITLE</th>\n",
       "      <th>BULLET_POINTS</th>\n",
       "      <th>DESCRIPTION</th>\n",
       "      <th>PRODUCT_TYPE_ID</th>\n",
       "      <th>PRODUCT_LENGTH</th>\n",
       "    </tr>\n",
       "  </thead>\n",
       "  <tbody>\n",
       "    <tr>\n",
       "      <th>2</th>\n",
       "      <td>2765088</td>\n",
       "      <td>[priknik, horn, red, electric, air, horn, comp...</td>\n",
       "      <td>[loud, dual, tone, trumpet, horn, compatible, ...</td>\n",
       "      <td>[specifications, color, red, material, alumini...</td>\n",
       "      <td>7537</td>\n",
       "      <td>748.031495</td>\n",
       "    </tr>\n",
       "    <tr>\n",
       "      <th>3</th>\n",
       "      <td>1594019</td>\n",
       "      <td>[alishah, womens, cotton, ankle, length, leggi...</td>\n",
       "      <td>[made, by, 95cotton, and, 5, lycra, which, giv...</td>\n",
       "      <td>[aishah, womens, lycra, cotton, ankel, legging...</td>\n",
       "      <td>2996</td>\n",
       "      <td>787.401574</td>\n",
       "    </tr>\n",
       "    <tr>\n",
       "      <th>5</th>\n",
       "      <td>2152929</td>\n",
       "      <td>[hins, metal, bucket, shape, plant, pot, for, ...</td>\n",
       "      <td>[simple, and, elegant, great, for, displaying,...</td>\n",
       "      <td>[hins, brings, you, the, most, elegant, lookin...</td>\n",
       "      <td>5725</td>\n",
       "      <td>950.000000</td>\n",
       "    </tr>\n",
       "    <tr>\n",
       "      <th>7</th>\n",
       "      <td>2026580</td>\n",
       "      <td>[delavala, self, adhesive, kitchen, backsplash...</td>\n",
       "      <td>[high, quality, pvc, material, the, kitchen, a...</td>\n",
       "      <td>[pstrongaluminum, foil, stickersgood, kitchen,...</td>\n",
       "      <td>6030</td>\n",
       "      <td>984.251967</td>\n",
       "    </tr>\n",
       "    <tr>\n",
       "      <th>9</th>\n",
       "      <td>2998633</td>\n",
       "      <td>[hexwell, essential, oil, for, home, fragrance...</td>\n",
       "      <td>[100, pure, and, natural, essential, oil, or, ...</td>\n",
       "      <td>[transform, your, home, workplace, or, hotel, ...</td>\n",
       "      <td>8201</td>\n",
       "      <td>393.700787</td>\n",
       "    </tr>\n",
       "  </tbody>\n",
       "</table>\n",
       "</div>"
      ],
      "text/plain": [
       "   PRODUCT_ID                                              TITLE  \\\n",
       "2     2765088  [priknik, horn, red, electric, air, horn, comp...   \n",
       "3     1594019  [alishah, womens, cotton, ankle, length, leggi...   \n",
       "5     2152929  [hins, metal, bucket, shape, plant, pot, for, ...   \n",
       "7     2026580  [delavala, self, adhesive, kitchen, backsplash...   \n",
       "9     2998633  [hexwell, essential, oil, for, home, fragrance...   \n",
       "\n",
       "                                       BULLET_POINTS  \\\n",
       "2  [loud, dual, tone, trumpet, horn, compatible, ...   \n",
       "3  [made, by, 95cotton, and, 5, lycra, which, giv...   \n",
       "5  [simple, and, elegant, great, for, displaying,...   \n",
       "7  [high, quality, pvc, material, the, kitchen, a...   \n",
       "9  [100, pure, and, natural, essential, oil, or, ...   \n",
       "\n",
       "                                         DESCRIPTION  PRODUCT_TYPE_ID  \\\n",
       "2  [specifications, color, red, material, alumini...             7537   \n",
       "3  [aishah, womens, lycra, cotton, ankel, legging...             2996   \n",
       "5  [hins, brings, you, the, most, elegant, lookin...             5725   \n",
       "7  [pstrongaluminum, foil, stickersgood, kitchen,...             6030   \n",
       "9  [transform, your, home, workplace, or, hotel, ...             8201   \n",
       "\n",
       "   PRODUCT_LENGTH  \n",
       "2      748.031495  \n",
       "3      787.401574  \n",
       "5      950.000000  \n",
       "7      984.251967  \n",
       "9      393.700787  "
      ]
     },
     "execution_count": 18,
     "metadata": {},
     "output_type": "execute_result"
    }
   ],
   "source": [
    "df.head()"
   ]
  },
  {
   "cell_type": "code",
   "execution_count": 19,
   "metadata": {},
   "outputs": [
    {
     "name": "stderr",
     "output_type": "stream",
     "text": [
      "[nltk_data] Downloading package stopwords to\n",
      "[nltk_data]     /Users/namanmuktha/nltk_data...\n",
      "[nltk_data]   Package stopwords is already up-to-date!\n"
     ]
    }
   ],
   "source": [
    "from nltk.corpus import stopwords\n",
    "import nltk \n",
    "nltk.download('stopwords')\n",
    "stop_words=set(stopwords.words('english'))\n",
    "for m in cols:\n",
    "    df[m] = df[m].apply(lambda x: [word for word in x if word not in stop_words])    "
   ]
  },
  {
   "cell_type": "code",
   "execution_count": 23,
   "metadata": {},
   "outputs": [
    {
     "data": {
      "text/html": [
       "<div>\n",
       "<style scoped>\n",
       "    .dataframe tbody tr th:only-of-type {\n",
       "        vertical-align: middle;\n",
       "    }\n",
       "\n",
       "    .dataframe tbody tr th {\n",
       "        vertical-align: top;\n",
       "    }\n",
       "\n",
       "    .dataframe thead th {\n",
       "        text-align: right;\n",
       "    }\n",
       "</style>\n",
       "<table border=\"1\" class=\"dataframe\">\n",
       "  <thead>\n",
       "    <tr style=\"text-align: right;\">\n",
       "      <th></th>\n",
       "      <th>PRODUCT_ID</th>\n",
       "      <th>TITLE</th>\n",
       "      <th>BULLET_POINTS</th>\n",
       "      <th>DESCRIPTION</th>\n",
       "      <th>PRODUCT_TYPE_ID</th>\n",
       "      <th>PRODUCT_LENGTH</th>\n",
       "    </tr>\n",
       "  </thead>\n",
       "  <tbody>\n",
       "    <tr>\n",
       "      <th>2</th>\n",
       "      <td>2765088</td>\n",
       "      <td>[priknik, horn, red, electric, air, horn, comp...</td>\n",
       "      <td>[loud, dual, tone, trumpet, horn, compatible, ...</td>\n",
       "      <td>[specifications, color, red, material, alumini...</td>\n",
       "      <td>7537</td>\n",
       "      <td>748.031495</td>\n",
       "    </tr>\n",
       "    <tr>\n",
       "      <th>3</th>\n",
       "      <td>1594019</td>\n",
       "      <td>[alishah, womens, cotton, ankle, length, leggi...</td>\n",
       "      <td>[made, 95cotton, 5, lycra, gives, 4, ways, str...</td>\n",
       "      <td>[aishah, womens, lycra, cotton, ankel, legging...</td>\n",
       "      <td>2996</td>\n",
       "      <td>787.401574</td>\n",
       "    </tr>\n",
       "    <tr>\n",
       "      <th>5</th>\n",
       "      <td>2152929</td>\n",
       "      <td>[hins, metal, bucket, shape, plant, pot, indoo...</td>\n",
       "      <td>[simple, elegant, great, displaying, indoor, p...</td>\n",
       "      <td>[hins, brings, elegant, looking, pot, stand, d...</td>\n",
       "      <td>5725</td>\n",
       "      <td>950.000000</td>\n",
       "    </tr>\n",
       "    <tr>\n",
       "      <th>7</th>\n",
       "      <td>2026580</td>\n",
       "      <td>[delavala, self, adhesive, kitchen, backsplash...</td>\n",
       "      <td>[high, quality, pvc, material, kitchen, alumin...</td>\n",
       "      <td>[pstrongaluminum, foil, stickersgood, kitchen,...</td>\n",
       "      <td>6030</td>\n",
       "      <td>984.251967</td>\n",
       "    </tr>\n",
       "    <tr>\n",
       "      <th>9</th>\n",
       "      <td>2998633</td>\n",
       "      <td>[hexwell, essential, oil, home, fragrance, oil...</td>\n",
       "      <td>[100, pure, natural, essential, oil, fragrance...</td>\n",
       "      <td>[transform, home, workplace, hotel, room, pers...</td>\n",
       "      <td>8201</td>\n",
       "      <td>393.700787</td>\n",
       "    </tr>\n",
       "  </tbody>\n",
       "</table>\n",
       "</div>"
      ],
      "text/plain": [
       "   PRODUCT_ID                                              TITLE  \\\n",
       "2     2765088  [priknik, horn, red, electric, air, horn, comp...   \n",
       "3     1594019  [alishah, womens, cotton, ankle, length, leggi...   \n",
       "5     2152929  [hins, metal, bucket, shape, plant, pot, indoo...   \n",
       "7     2026580  [delavala, self, adhesive, kitchen, backsplash...   \n",
       "9     2998633  [hexwell, essential, oil, home, fragrance, oil...   \n",
       "\n",
       "                                       BULLET_POINTS  \\\n",
       "2  [loud, dual, tone, trumpet, horn, compatible, ...   \n",
       "3  [made, 95cotton, 5, lycra, gives, 4, ways, str...   \n",
       "5  [simple, elegant, great, displaying, indoor, p...   \n",
       "7  [high, quality, pvc, material, kitchen, alumin...   \n",
       "9  [100, pure, natural, essential, oil, fragrance...   \n",
       "\n",
       "                                         DESCRIPTION  PRODUCT_TYPE_ID  \\\n",
       "2  [specifications, color, red, material, alumini...             7537   \n",
       "3  [aishah, womens, lycra, cotton, ankel, legging...             2996   \n",
       "5  [hins, brings, elegant, looking, pot, stand, d...             5725   \n",
       "7  [pstrongaluminum, foil, stickersgood, kitchen,...             6030   \n",
       "9  [transform, home, workplace, hotel, room, pers...             8201   \n",
       "\n",
       "   PRODUCT_LENGTH  \n",
       "2      748.031495  \n",
       "3      787.401574  \n",
       "5      950.000000  \n",
       "7      984.251967  \n",
       "9      393.700787  "
      ]
     },
     "execution_count": 23,
     "metadata": {},
     "output_type": "execute_result"
    }
   ],
   "source": [
    "df.head()"
   ]
  },
  {
   "cell_type": "code",
   "execution_count": 24,
   "metadata": {},
   "outputs": [
    {
     "name": "stderr",
     "output_type": "stream",
     "text": [
      "[nltk_data] Downloading package wordnet to\n",
      "[nltk_data]     /Users/namanmuktha/nltk_data...\n",
      "[nltk_data]   Package wordnet is already up-to-date!\n"
     ]
    }
   ],
   "source": [
    "from nltk.stem import WordNetLemmatizer \n",
    "nltk.download('wordnet')\n",
    "lemmatizer=WordNetLemmatizer()\n",
    "for m in cols:\n",
    "    df[m] = df[m].apply(lambda x: [lemmatizer.lemmatize(word) for word in x]) "
   ]
  },
  {
   "cell_type": "code",
   "execution_count": 25,
   "metadata": {},
   "outputs": [
    {
     "data": {
      "text/html": [
       "<div>\n",
       "<style scoped>\n",
       "    .dataframe tbody tr th:only-of-type {\n",
       "        vertical-align: middle;\n",
       "    }\n",
       "\n",
       "    .dataframe tbody tr th {\n",
       "        vertical-align: top;\n",
       "    }\n",
       "\n",
       "    .dataframe thead th {\n",
       "        text-align: right;\n",
       "    }\n",
       "</style>\n",
       "<table border=\"1\" class=\"dataframe\">\n",
       "  <thead>\n",
       "    <tr style=\"text-align: right;\">\n",
       "      <th></th>\n",
       "      <th>PRODUCT_ID</th>\n",
       "      <th>TITLE</th>\n",
       "      <th>BULLET_POINTS</th>\n",
       "      <th>DESCRIPTION</th>\n",
       "      <th>PRODUCT_TYPE_ID</th>\n",
       "      <th>PRODUCT_LENGTH</th>\n",
       "    </tr>\n",
       "  </thead>\n",
       "  <tbody>\n",
       "    <tr>\n",
       "      <th>2</th>\n",
       "      <td>2765088</td>\n",
       "      <td>[priknik, horn, red, electric, air, horn, comp...</td>\n",
       "      <td>[loud, dual, tone, trumpet, horn, compatible, ...</td>\n",
       "      <td>[specification, color, red, material, aluminiu...</td>\n",
       "      <td>7537</td>\n",
       "      <td>748.031495</td>\n",
       "    </tr>\n",
       "    <tr>\n",
       "      <th>3</th>\n",
       "      <td>1594019</td>\n",
       "      <td>[alishah, woman, cotton, ankle, length, leggin...</td>\n",
       "      <td>[made, 95cotton, 5, lycra, give, 4, way, stret...</td>\n",
       "      <td>[aishah, woman, lycra, cotton, ankel, legging,...</td>\n",
       "      <td>2996</td>\n",
       "      <td>787.401574</td>\n",
       "    </tr>\n",
       "    <tr>\n",
       "      <th>5</th>\n",
       "      <td>2152929</td>\n",
       "      <td>[hin, metal, bucket, shape, plant, pot, indoor...</td>\n",
       "      <td>[simple, elegant, great, displaying, indoor, p...</td>\n",
       "      <td>[hin, brings, elegant, looking, pot, stand, du...</td>\n",
       "      <td>5725</td>\n",
       "      <td>950.000000</td>\n",
       "    </tr>\n",
       "    <tr>\n",
       "      <th>7</th>\n",
       "      <td>2026580</td>\n",
       "      <td>[delavala, self, adhesive, kitchen, backsplash...</td>\n",
       "      <td>[high, quality, pvc, material, kitchen, alumin...</td>\n",
       "      <td>[pstrongaluminum, foil, stickersgood, kitchen,...</td>\n",
       "      <td>6030</td>\n",
       "      <td>984.251967</td>\n",
       "    </tr>\n",
       "    <tr>\n",
       "      <th>9</th>\n",
       "      <td>2998633</td>\n",
       "      <td>[hexwell, essential, oil, home, fragrance, oil...</td>\n",
       "      <td>[100, pure, natural, essential, oil, fragrance...</td>\n",
       "      <td>[transform, home, workplace, hotel, room, pers...</td>\n",
       "      <td>8201</td>\n",
       "      <td>393.700787</td>\n",
       "    </tr>\n",
       "  </tbody>\n",
       "</table>\n",
       "</div>"
      ],
      "text/plain": [
       "   PRODUCT_ID                                              TITLE  \\\n",
       "2     2765088  [priknik, horn, red, electric, air, horn, comp...   \n",
       "3     1594019  [alishah, woman, cotton, ankle, length, leggin...   \n",
       "5     2152929  [hin, metal, bucket, shape, plant, pot, indoor...   \n",
       "7     2026580  [delavala, self, adhesive, kitchen, backsplash...   \n",
       "9     2998633  [hexwell, essential, oil, home, fragrance, oil...   \n",
       "\n",
       "                                       BULLET_POINTS  \\\n",
       "2  [loud, dual, tone, trumpet, horn, compatible, ...   \n",
       "3  [made, 95cotton, 5, lycra, give, 4, way, stret...   \n",
       "5  [simple, elegant, great, displaying, indoor, p...   \n",
       "7  [high, quality, pvc, material, kitchen, alumin...   \n",
       "9  [100, pure, natural, essential, oil, fragrance...   \n",
       "\n",
       "                                         DESCRIPTION  PRODUCT_TYPE_ID  \\\n",
       "2  [specification, color, red, material, aluminiu...             7537   \n",
       "3  [aishah, woman, lycra, cotton, ankel, legging,...             2996   \n",
       "5  [hin, brings, elegant, looking, pot, stand, du...             5725   \n",
       "7  [pstrongaluminum, foil, stickersgood, kitchen,...             6030   \n",
       "9  [transform, home, workplace, hotel, room, pers...             8201   \n",
       "\n",
       "   PRODUCT_LENGTH  \n",
       "2      748.031495  \n",
       "3      787.401574  \n",
       "5      950.000000  \n",
       "7      984.251967  \n",
       "9      393.700787  "
      ]
     },
     "execution_count": 25,
     "metadata": {},
     "output_type": "execute_result"
    }
   ],
   "source": [
    "df.head()"
   ]
  },
  {
   "cell_type": "code",
   "execution_count": 26,
   "metadata": {},
   "outputs": [],
   "source": [
    "from nltk import SnowballStemmer\n",
    "lang=\"english\"\n",
    "steamer=SnowballStemmer(lang)\n",
    "def adding_stemming(tokens):\n",
    "    return [steamer.stem(token) for token in tokens]\n",
    "for m in  cols:\n",
    "    df[m]=df[m].apply(adding_stemming)"
   ]
  },
  {
   "cell_type": "code",
   "execution_count": 27,
   "metadata": {},
   "outputs": [
    {
     "data": {
      "text/html": [
       "<div>\n",
       "<style scoped>\n",
       "    .dataframe tbody tr th:only-of-type {\n",
       "        vertical-align: middle;\n",
       "    }\n",
       "\n",
       "    .dataframe tbody tr th {\n",
       "        vertical-align: top;\n",
       "    }\n",
       "\n",
       "    .dataframe thead th {\n",
       "        text-align: right;\n",
       "    }\n",
       "</style>\n",
       "<table border=\"1\" class=\"dataframe\">\n",
       "  <thead>\n",
       "    <tr style=\"text-align: right;\">\n",
       "      <th></th>\n",
       "      <th>PRODUCT_ID</th>\n",
       "      <th>TITLE</th>\n",
       "      <th>BULLET_POINTS</th>\n",
       "      <th>DESCRIPTION</th>\n",
       "      <th>PRODUCT_TYPE_ID</th>\n",
       "      <th>PRODUCT_LENGTH</th>\n",
       "    </tr>\n",
       "  </thead>\n",
       "  <tbody>\n",
       "    <tr>\n",
       "      <th>2</th>\n",
       "      <td>2765088</td>\n",
       "      <td>[priknik, horn, red, electr, air, horn, compre...</td>\n",
       "      <td>[loud, dual, tone, trumpet, horn, compat, sx4e...</td>\n",
       "      <td>[specif, color, red, materi, aluminium, voltag...</td>\n",
       "      <td>7537</td>\n",
       "      <td>748.031495</td>\n",
       "    </tr>\n",
       "    <tr>\n",
       "      <th>3</th>\n",
       "      <td>1594019</td>\n",
       "      <td>[alishah, woman, cotton, ankl, length, leg, co...</td>\n",
       "      <td>[made, 95cotton, 5, lycra, give, 4, way, stret...</td>\n",
       "      <td>[aishah, woman, lycra, cotton, ankel, leg, bra...</td>\n",
       "      <td>2996</td>\n",
       "      <td>787.401574</td>\n",
       "    </tr>\n",
       "    <tr>\n",
       "      <th>5</th>\n",
       "      <td>2152929</td>\n",
       "      <td>[hin, metal, bucket, shape, plant, pot, indoor...</td>\n",
       "      <td>[simpl, eleg, great, display, indoor, plant, l...</td>\n",
       "      <td>[hin, bring, eleg, look, pot, stand, durabl, l...</td>\n",
       "      <td>5725</td>\n",
       "      <td>950.000000</td>\n",
       "    </tr>\n",
       "    <tr>\n",
       "      <th>7</th>\n",
       "      <td>2026580</td>\n",
       "      <td>[delavala, self, adhes, kitchen, backsplash, w...</td>\n",
       "      <td>[high, qualiti, pvc, materi, kitchen, aluminum...</td>\n",
       "      <td>[pstrongaluminum, foil, stickersgood, kitchen,...</td>\n",
       "      <td>6030</td>\n",
       "      <td>984.251967</td>\n",
       "    </tr>\n",
       "    <tr>\n",
       "      <th>9</th>\n",
       "      <td>2998633</td>\n",
       "      <td>[hexwel, essenti, oil, home, fragranc, oil, ar...</td>\n",
       "      <td>[100, pure, natur, essenti, oil, fragranc, oil...</td>\n",
       "      <td>[transform, home, workplac, hotel, room, perso...</td>\n",
       "      <td>8201</td>\n",
       "      <td>393.700787</td>\n",
       "    </tr>\n",
       "  </tbody>\n",
       "</table>\n",
       "</div>"
      ],
      "text/plain": [
       "   PRODUCT_ID                                              TITLE  \\\n",
       "2     2765088  [priknik, horn, red, electr, air, horn, compre...   \n",
       "3     1594019  [alishah, woman, cotton, ankl, length, leg, co...   \n",
       "5     2152929  [hin, metal, bucket, shape, plant, pot, indoor...   \n",
       "7     2026580  [delavala, self, adhes, kitchen, backsplash, w...   \n",
       "9     2998633  [hexwel, essenti, oil, home, fragranc, oil, ar...   \n",
       "\n",
       "                                       BULLET_POINTS  \\\n",
       "2  [loud, dual, tone, trumpet, horn, compat, sx4e...   \n",
       "3  [made, 95cotton, 5, lycra, give, 4, way, stret...   \n",
       "5  [simpl, eleg, great, display, indoor, plant, l...   \n",
       "7  [high, qualiti, pvc, materi, kitchen, aluminum...   \n",
       "9  [100, pure, natur, essenti, oil, fragranc, oil...   \n",
       "\n",
       "                                         DESCRIPTION  PRODUCT_TYPE_ID  \\\n",
       "2  [specif, color, red, materi, aluminium, voltag...             7537   \n",
       "3  [aishah, woman, lycra, cotton, ankel, leg, bra...             2996   \n",
       "5  [hin, bring, eleg, look, pot, stand, durabl, l...             5725   \n",
       "7  [pstrongaluminum, foil, stickersgood, kitchen,...             6030   \n",
       "9  [transform, home, workplac, hotel, room, perso...             8201   \n",
       "\n",
       "   PRODUCT_LENGTH  \n",
       "2      748.031495  \n",
       "3      787.401574  \n",
       "5      950.000000  \n",
       "7      984.251967  \n",
       "9      393.700787  "
      ]
     },
     "execution_count": 27,
     "metadata": {},
     "output_type": "execute_result"
    }
   ],
   "source": [
    "df.head()"
   ]
  },
  {
   "cell_type": "code",
   "execution_count": 28,
   "metadata": {},
   "outputs": [
    {
     "data": {
      "text/plain": [
       "PRODUCT_ID         0\n",
       "TITLE              0\n",
       "BULLET_POINTS      0\n",
       "DESCRIPTION        0\n",
       "PRODUCT_TYPE_ID    0\n",
       "PRODUCT_LENGTH     0\n",
       "dtype: int64"
      ]
     },
     "execution_count": 28,
     "metadata": {},
     "output_type": "execute_result"
    }
   ],
   "source": [
    "df.isna().sum()"
   ]
  },
  {
   "cell_type": "code",
   "execution_count": 1,
   "metadata": {},
   "outputs": [],
   "source": [
    "import pandas as pd\n",
    "df_preprocessed=pd.read_csv('/Users/namanmuktha/Desktop/cbithck/Amazon ML Challenge Dataset 2023/preprocess.csv')"
   ]
  },
  {
   "cell_type": "code",
   "execution_count": 4,
   "metadata": {},
   "outputs": [
    {
     "data": {
      "text/plain": [
       "638185    1.000000e+00\n",
       "92636     1.000000e+00\n",
       "917532    1.000000e+00\n",
       "35474     1.000000e+00\n",
       "654092    1.000000e+00\n",
       "              ...     \n",
       "110054    1.774080e+08\n",
       "362224    2.249280e+08\n",
       "499842    3.937010e+08\n",
       "731493    4.803152e+08\n",
       "410191    1.885801e+09\n",
       "Name: PRODUCT_LENGTH, Length: 1038458, dtype: float64"
      ]
     },
     "execution_count": 4,
     "metadata": {},
     "output_type": "execute_result"
    }
   ],
   "source": [
    "df_preprocessed['PRODUCT_LENGTH'].sort_values(ascending=True)"
   ]
  },
  {
   "cell_type": "code",
   "execution_count": 3,
   "metadata": {},
   "outputs": [
    {
     "data": {
      "text/plain": [
       "Index([' ', 'PRODUCT_ID', 'TITLE', 'BULLET_POINTS', 'DESCRIPTION',\n",
       "       'PRODUCT_TYPE_ID', 'PRODUCT_LENGTH'],\n",
       "      dtype='object')"
      ]
     },
     "execution_count": 3,
     "metadata": {},
     "output_type": "execute_result"
    }
   ],
   "source": [
    "df_preprocessed.columns"
   ]
  },
  {
   "cell_type": "code",
   "execution_count": 5,
   "metadata": {},
   "outputs": [
    {
     "data": {
      "text/html": [
       "<div>\n",
       "<style scoped>\n",
       "    .dataframe tbody tr th:only-of-type {\n",
       "        vertical-align: middle;\n",
       "    }\n",
       "\n",
       "    .dataframe tbody tr th {\n",
       "        vertical-align: top;\n",
       "    }\n",
       "\n",
       "    .dataframe thead th {\n",
       "        text-align: right;\n",
       "    }\n",
       "</style>\n",
       "<table border=\"1\" class=\"dataframe\">\n",
       "  <thead>\n",
       "    <tr style=\"text-align: right;\">\n",
       "      <th></th>\n",
       "      <th></th>\n",
       "      <th>PRODUCT_ID</th>\n",
       "      <th>TITLE</th>\n",
       "      <th>BULLET_POINTS</th>\n",
       "      <th>DESCRIPTION</th>\n",
       "      <th>PRODUCT_TYPE_ID</th>\n",
       "      <th>PRODUCT_LENGTH</th>\n",
       "    </tr>\n",
       "  </thead>\n",
       "  <tbody>\n",
       "    <tr>\n",
       "      <th>0</th>\n",
       "      <td>2</td>\n",
       "      <td>2765088</td>\n",
       "      <td>['priknik', 'horn', 'red', 'electr', 'air', 'h...</td>\n",
       "      <td>['loud', 'dual', 'tone', 'trumpet', 'horn', 'c...</td>\n",
       "      <td>['specif', 'color', 'red', 'materi', 'aluminiu...</td>\n",
       "      <td>7537</td>\n",
       "      <td>748.031495</td>\n",
       "    </tr>\n",
       "    <tr>\n",
       "      <th>1</th>\n",
       "      <td>3</td>\n",
       "      <td>1594019</td>\n",
       "      <td>['alishah', 'woman', 'cotton', 'ankl', 'length...</td>\n",
       "      <td>['made', '95cotton', '5', 'lycra', 'give', '4'...</td>\n",
       "      <td>['aishah', 'woman', 'lycra', 'cotton', 'ankel'...</td>\n",
       "      <td>2996</td>\n",
       "      <td>787.401574</td>\n",
       "    </tr>\n",
       "    <tr>\n",
       "      <th>2</th>\n",
       "      <td>5</td>\n",
       "      <td>2152929</td>\n",
       "      <td>['hin', 'metal', 'bucket', 'shape', 'plant', '...</td>\n",
       "      <td>['simpl', 'eleg', 'great', 'display', 'indoor'...</td>\n",
       "      <td>['hin', 'bring', 'eleg', 'look', 'pot', 'stand...</td>\n",
       "      <td>5725</td>\n",
       "      <td>950.000000</td>\n",
       "    </tr>\n",
       "    <tr>\n",
       "      <th>3</th>\n",
       "      <td>7</td>\n",
       "      <td>2026580</td>\n",
       "      <td>['delavala', 'self', 'adhes', 'kitchen', 'back...</td>\n",
       "      <td>['high', 'qualiti', 'pvc', 'materi', 'kitchen'...</td>\n",
       "      <td>['pstrongaluminum', 'foil', 'stickersgood', 'k...</td>\n",
       "      <td>6030</td>\n",
       "      <td>984.251967</td>\n",
       "    </tr>\n",
       "    <tr>\n",
       "      <th>4</th>\n",
       "      <td>9</td>\n",
       "      <td>2998633</td>\n",
       "      <td>['hexwel', 'essenti', 'oil', 'home', 'fragranc...</td>\n",
       "      <td>['100', 'pure', 'natur', 'essenti', 'oil', 'fr...</td>\n",
       "      <td>['transform', 'home', 'workplac', 'hotel', 'ro...</td>\n",
       "      <td>8201</td>\n",
       "      <td>393.700787</td>\n",
       "    </tr>\n",
       "  </tbody>\n",
       "</table>\n",
       "</div>"
      ],
      "text/plain": [
       "      PRODUCT_ID                                              TITLE  \\\n",
       "0  2     2765088  ['priknik', 'horn', 'red', 'electr', 'air', 'h...   \n",
       "1  3     1594019  ['alishah', 'woman', 'cotton', 'ankl', 'length...   \n",
       "2  5     2152929  ['hin', 'metal', 'bucket', 'shape', 'plant', '...   \n",
       "3  7     2026580  ['delavala', 'self', 'adhes', 'kitchen', 'back...   \n",
       "4  9     2998633  ['hexwel', 'essenti', 'oil', 'home', 'fragranc...   \n",
       "\n",
       "                                       BULLET_POINTS  \\\n",
       "0  ['loud', 'dual', 'tone', 'trumpet', 'horn', 'c...   \n",
       "1  ['made', '95cotton', '5', 'lycra', 'give', '4'...   \n",
       "2  ['simpl', 'eleg', 'great', 'display', 'indoor'...   \n",
       "3  ['high', 'qualiti', 'pvc', 'materi', 'kitchen'...   \n",
       "4  ['100', 'pure', 'natur', 'essenti', 'oil', 'fr...   \n",
       "\n",
       "                                         DESCRIPTION  PRODUCT_TYPE_ID  \\\n",
       "0  ['specif', 'color', 'red', 'materi', 'aluminiu...             7537   \n",
       "1  ['aishah', 'woman', 'lycra', 'cotton', 'ankel'...             2996   \n",
       "2  ['hin', 'bring', 'eleg', 'look', 'pot', 'stand...             5725   \n",
       "3  ['pstrongaluminum', 'foil', 'stickersgood', 'k...             6030   \n",
       "4  ['transform', 'home', 'workplac', 'hotel', 'ro...             8201   \n",
       "\n",
       "   PRODUCT_LENGTH  \n",
       "0      748.031495  \n",
       "1      787.401574  \n",
       "2      950.000000  \n",
       "3      984.251967  \n",
       "4      393.700787  "
      ]
     },
     "execution_count": 5,
     "metadata": {},
     "output_type": "execute_result"
    }
   ],
   "source": [
    "df_preprocessed.head()"
   ]
  },
  {
   "cell_type": "code",
   "execution_count": 5,
   "metadata": {},
   "outputs": [],
   "source": [
    "df_preprocessed=df_preprocessed.drop([' '],axis=1)\n"
   ]
  },
  {
   "cell_type": "code",
   "execution_count": 6,
   "metadata": {},
   "outputs": [],
   "source": [
    "target=df_preprocessed[['PRODUCT_ID','PRODUCT_LENGTH']]"
   ]
  },
  {
   "cell_type": "code",
   "execution_count": 7,
   "metadata": {},
   "outputs": [
    {
     "data": {
      "text/html": [
       "<div>\n",
       "<style scoped>\n",
       "    .dataframe tbody tr th:only-of-type {\n",
       "        vertical-align: middle;\n",
       "    }\n",
       "\n",
       "    .dataframe tbody tr th {\n",
       "        vertical-align: top;\n",
       "    }\n",
       "\n",
       "    .dataframe thead th {\n",
       "        text-align: right;\n",
       "    }\n",
       "</style>\n",
       "<table border=\"1\" class=\"dataframe\">\n",
       "  <thead>\n",
       "    <tr style=\"text-align: right;\">\n",
       "      <th></th>\n",
       "      <th>PRODUCT_ID</th>\n",
       "      <th>PRODUCT_LENGTH</th>\n",
       "    </tr>\n",
       "  </thead>\n",
       "  <tbody>\n",
       "    <tr>\n",
       "      <th>0</th>\n",
       "      <td>2765088</td>\n",
       "      <td>748.031495</td>\n",
       "    </tr>\n",
       "    <tr>\n",
       "      <th>1</th>\n",
       "      <td>1594019</td>\n",
       "      <td>787.401574</td>\n",
       "    </tr>\n",
       "    <tr>\n",
       "      <th>2</th>\n",
       "      <td>2152929</td>\n",
       "      <td>950.000000</td>\n",
       "    </tr>\n",
       "    <tr>\n",
       "      <th>3</th>\n",
       "      <td>2026580</td>\n",
       "      <td>984.251967</td>\n",
       "    </tr>\n",
       "    <tr>\n",
       "      <th>4</th>\n",
       "      <td>2998633</td>\n",
       "      <td>393.700787</td>\n",
       "    </tr>\n",
       "  </tbody>\n",
       "</table>\n",
       "</div>"
      ],
      "text/plain": [
       "   PRODUCT_ID  PRODUCT_LENGTH\n",
       "0     2765088      748.031495\n",
       "1     1594019      787.401574\n",
       "2     2152929      950.000000\n",
       "3     2026580      984.251967\n",
       "4     2998633      393.700787"
      ]
     },
     "execution_count": 7,
     "metadata": {},
     "output_type": "execute_result"
    }
   ],
   "source": [
    "target.head()"
   ]
  },
  {
   "cell_type": "code",
   "execution_count": 8,
   "metadata": {},
   "outputs": [],
   "source": [
    "df_preprocessed['COMBINED']=df_preprocessed['TITLE']+\" \"+df_preprocessed['BULLET_POINTS']+\" \"+df_preprocessed[\"DESCRIPTION\"]"
   ]
  },
  {
   "cell_type": "code",
   "execution_count": 9,
   "metadata": {},
   "outputs": [
    {
     "data": {
      "text/html": [
       "<div>\n",
       "<style scoped>\n",
       "    .dataframe tbody tr th:only-of-type {\n",
       "        vertical-align: middle;\n",
       "    }\n",
       "\n",
       "    .dataframe tbody tr th {\n",
       "        vertical-align: top;\n",
       "    }\n",
       "\n",
       "    .dataframe thead th {\n",
       "        text-align: right;\n",
       "    }\n",
       "</style>\n",
       "<table border=\"1\" class=\"dataframe\">\n",
       "  <thead>\n",
       "    <tr style=\"text-align: right;\">\n",
       "      <th></th>\n",
       "      <th>PRODUCT_ID</th>\n",
       "      <th>TITLE</th>\n",
       "      <th>BULLET_POINTS</th>\n",
       "      <th>DESCRIPTION</th>\n",
       "      <th>PRODUCT_TYPE_ID</th>\n",
       "      <th>PRODUCT_LENGTH</th>\n",
       "      <th>COMBINED</th>\n",
       "    </tr>\n",
       "  </thead>\n",
       "  <tbody>\n",
       "    <tr>\n",
       "      <th>0</th>\n",
       "      <td>2765088</td>\n",
       "      <td>['priknik', 'horn', 'red', 'electr', 'air', 'h...</td>\n",
       "      <td>['loud', 'dual', 'tone', 'trumpet', 'horn', 'c...</td>\n",
       "      <td>['specif', 'color', 'red', 'materi', 'aluminiu...</td>\n",
       "      <td>7537</td>\n",
       "      <td>748.031495</td>\n",
       "      <td>['priknik', 'horn', 'red', 'electr', 'air', 'h...</td>\n",
       "    </tr>\n",
       "    <tr>\n",
       "      <th>1</th>\n",
       "      <td>1594019</td>\n",
       "      <td>['alishah', 'woman', 'cotton', 'ankl', 'length...</td>\n",
       "      <td>['made', '95cotton', '5', 'lycra', 'give', '4'...</td>\n",
       "      <td>['aishah', 'woman', 'lycra', 'cotton', 'ankel'...</td>\n",
       "      <td>2996</td>\n",
       "      <td>787.401574</td>\n",
       "      <td>['alishah', 'woman', 'cotton', 'ankl', 'length...</td>\n",
       "    </tr>\n",
       "    <tr>\n",
       "      <th>2</th>\n",
       "      <td>2152929</td>\n",
       "      <td>['hin', 'metal', 'bucket', 'shape', 'plant', '...</td>\n",
       "      <td>['simpl', 'eleg', 'great', 'display', 'indoor'...</td>\n",
       "      <td>['hin', 'bring', 'eleg', 'look', 'pot', 'stand...</td>\n",
       "      <td>5725</td>\n",
       "      <td>950.000000</td>\n",
       "      <td>['hin', 'metal', 'bucket', 'shape', 'plant', '...</td>\n",
       "    </tr>\n",
       "    <tr>\n",
       "      <th>3</th>\n",
       "      <td>2026580</td>\n",
       "      <td>['delavala', 'self', 'adhes', 'kitchen', 'back...</td>\n",
       "      <td>['high', 'qualiti', 'pvc', 'materi', 'kitchen'...</td>\n",
       "      <td>['pstrongaluminum', 'foil', 'stickersgood', 'k...</td>\n",
       "      <td>6030</td>\n",
       "      <td>984.251967</td>\n",
       "      <td>['delavala', 'self', 'adhes', 'kitchen', 'back...</td>\n",
       "    </tr>\n",
       "    <tr>\n",
       "      <th>4</th>\n",
       "      <td>2998633</td>\n",
       "      <td>['hexwel', 'essenti', 'oil', 'home', 'fragranc...</td>\n",
       "      <td>['100', 'pure', 'natur', 'essenti', 'oil', 'fr...</td>\n",
       "      <td>['transform', 'home', 'workplac', 'hotel', 'ro...</td>\n",
       "      <td>8201</td>\n",
       "      <td>393.700787</td>\n",
       "      <td>['hexwel', 'essenti', 'oil', 'home', 'fragranc...</td>\n",
       "    </tr>\n",
       "    <tr>\n",
       "      <th>...</th>\n",
       "      <td>...</td>\n",
       "      <td>...</td>\n",
       "      <td>...</td>\n",
       "      <td>...</td>\n",
       "      <td>...</td>\n",
       "      <td>...</td>\n",
       "      <td>...</td>\n",
       "    </tr>\n",
       "    <tr>\n",
       "      <th>995</th>\n",
       "      <td>1924576</td>\n",
       "      <td>['topow', 'farmhous', 'kitchen', 'stool', 'ind...</td>\n",
       "      <td>['ampl', 'height', 'abil', 'swivel', '360', 'd...</td>\n",
       "      <td>['bdescript', 'brbrthe', 'vintag', 'industri',...</td>\n",
       "      <td>8360</td>\n",
       "      <td>1120.000000</td>\n",
       "      <td>['topow', 'farmhous', 'kitchen', 'stool', 'ind...</td>\n",
       "    </tr>\n",
       "    <tr>\n",
       "      <th>996</th>\n",
       "      <td>1025518</td>\n",
       "      <td>['peerless', '616wh160bg', 'univers', 'shower'...</td>\n",
       "      <td>['25', 'gallon', 'per', 'minuteful', 'bodi', '...</td>\n",
       "      <td>['product', 'descript', 'replac', 'shower', 'h...</td>\n",
       "      <td>10302</td>\n",
       "      <td>256.250000</td>\n",
       "      <td>['peerless', '616wh160bg', 'univers', 'shower'...</td>\n",
       "    </tr>\n",
       "    <tr>\n",
       "      <th>997</th>\n",
       "      <td>2895912</td>\n",
       "      <td>['gadget', 'gear', 'vinyl', 'skin', 'back', 's...</td>\n",
       "      <td>['3d', 'textur', 'mobil', 'skin', 'gadgetgear'...</td>\n",
       "      <td>['gadgetgear', 'skin', 'come', 'truetextur', '...</td>\n",
       "      <td>2213</td>\n",
       "      <td>700.000000</td>\n",
       "      <td>['gadget', 'gear', 'vinyl', 'skin', 'back', 's...</td>\n",
       "    </tr>\n",
       "    <tr>\n",
       "      <th>998</th>\n",
       "      <td>2194128</td>\n",
       "      <td>['4', 'pack', 'boho', 'wide', 'headband', 'wom...</td>\n",
       "      <td>['great', 'materi', 'woman', 'headband', 'made...</td>\n",
       "      <td>['4', 'pack', 'boho', 'wide', 'headband', 'wom...</td>\n",
       "      <td>3359</td>\n",
       "      <td>866.141731</td>\n",
       "      <td>['4', 'pack', 'boho', 'wide', 'headband', 'wom...</td>\n",
       "    </tr>\n",
       "    <tr>\n",
       "      <th>999</th>\n",
       "      <td>2368376</td>\n",
       "      <td>['jehova', 'car', 'cover', 'compat', 'ford', '...</td>\n",
       "      <td>['vehicl', 'compat', 'exclus', 'car', 'cover',...</td>\n",
       "      <td>['dear', 'custom', 'pleas', 'read', 'complet',...</td>\n",
       "      <td>7332</td>\n",
       "      <td>1181.102361</td>\n",
       "      <td>['jehova', 'car', 'cover', 'compat', 'ford', '...</td>\n",
       "    </tr>\n",
       "  </tbody>\n",
       "</table>\n",
       "<p>1000 rows × 7 columns</p>\n",
       "</div>"
      ],
      "text/plain": [
       "     PRODUCT_ID                                              TITLE  \\\n",
       "0       2765088  ['priknik', 'horn', 'red', 'electr', 'air', 'h...   \n",
       "1       1594019  ['alishah', 'woman', 'cotton', 'ankl', 'length...   \n",
       "2       2152929  ['hin', 'metal', 'bucket', 'shape', 'plant', '...   \n",
       "3       2026580  ['delavala', 'self', 'adhes', 'kitchen', 'back...   \n",
       "4       2998633  ['hexwel', 'essenti', 'oil', 'home', 'fragranc...   \n",
       "..          ...                                                ...   \n",
       "995     1924576  ['topow', 'farmhous', 'kitchen', 'stool', 'ind...   \n",
       "996     1025518  ['peerless', '616wh160bg', 'univers', 'shower'...   \n",
       "997     2895912  ['gadget', 'gear', 'vinyl', 'skin', 'back', 's...   \n",
       "998     2194128  ['4', 'pack', 'boho', 'wide', 'headband', 'wom...   \n",
       "999     2368376  ['jehova', 'car', 'cover', 'compat', 'ford', '...   \n",
       "\n",
       "                                         BULLET_POINTS  \\\n",
       "0    ['loud', 'dual', 'tone', 'trumpet', 'horn', 'c...   \n",
       "1    ['made', '95cotton', '5', 'lycra', 'give', '4'...   \n",
       "2    ['simpl', 'eleg', 'great', 'display', 'indoor'...   \n",
       "3    ['high', 'qualiti', 'pvc', 'materi', 'kitchen'...   \n",
       "4    ['100', 'pure', 'natur', 'essenti', 'oil', 'fr...   \n",
       "..                                                 ...   \n",
       "995  ['ampl', 'height', 'abil', 'swivel', '360', 'd...   \n",
       "996  ['25', 'gallon', 'per', 'minuteful', 'bodi', '...   \n",
       "997  ['3d', 'textur', 'mobil', 'skin', 'gadgetgear'...   \n",
       "998  ['great', 'materi', 'woman', 'headband', 'made...   \n",
       "999  ['vehicl', 'compat', 'exclus', 'car', 'cover',...   \n",
       "\n",
       "                                           DESCRIPTION  PRODUCT_TYPE_ID  \\\n",
       "0    ['specif', 'color', 'red', 'materi', 'aluminiu...             7537   \n",
       "1    ['aishah', 'woman', 'lycra', 'cotton', 'ankel'...             2996   \n",
       "2    ['hin', 'bring', 'eleg', 'look', 'pot', 'stand...             5725   \n",
       "3    ['pstrongaluminum', 'foil', 'stickersgood', 'k...             6030   \n",
       "4    ['transform', 'home', 'workplac', 'hotel', 'ro...             8201   \n",
       "..                                                 ...              ...   \n",
       "995  ['bdescript', 'brbrthe', 'vintag', 'industri',...             8360   \n",
       "996  ['product', 'descript', 'replac', 'shower', 'h...            10302   \n",
       "997  ['gadgetgear', 'skin', 'come', 'truetextur', '...             2213   \n",
       "998  ['4', 'pack', 'boho', 'wide', 'headband', 'wom...             3359   \n",
       "999  ['dear', 'custom', 'pleas', 'read', 'complet',...             7332   \n",
       "\n",
       "     PRODUCT_LENGTH                                           COMBINED  \n",
       "0        748.031495  ['priknik', 'horn', 'red', 'electr', 'air', 'h...  \n",
       "1        787.401574  ['alishah', 'woman', 'cotton', 'ankl', 'length...  \n",
       "2        950.000000  ['hin', 'metal', 'bucket', 'shape', 'plant', '...  \n",
       "3        984.251967  ['delavala', 'self', 'adhes', 'kitchen', 'back...  \n",
       "4        393.700787  ['hexwel', 'essenti', 'oil', 'home', 'fragranc...  \n",
       "..              ...                                                ...  \n",
       "995     1120.000000  ['topow', 'farmhous', 'kitchen', 'stool', 'ind...  \n",
       "996      256.250000  ['peerless', '616wh160bg', 'univers', 'shower'...  \n",
       "997      700.000000  ['gadget', 'gear', 'vinyl', 'skin', 'back', 's...  \n",
       "998      866.141731  ['4', 'pack', 'boho', 'wide', 'headband', 'wom...  \n",
       "999     1181.102361  ['jehova', 'car', 'cover', 'compat', 'ford', '...  \n",
       "\n",
       "[1000 rows x 7 columns]"
      ]
     },
     "execution_count": 9,
     "metadata": {},
     "output_type": "execute_result"
    }
   ],
   "source": [
    "df_preprocessed"
   ]
  },
  {
   "cell_type": "code",
   "execution_count": 10,
   "metadata": {},
   "outputs": [
    {
     "data": {
      "text/plain": [
       "0      ['priknik', 'horn', 'red', 'electr', 'air', 'h...\n",
       "1      ['alishah', 'woman', 'cotton', 'ankl', 'length...\n",
       "2      ['hin', 'metal', 'bucket', 'shape', 'plant', '...\n",
       "3      ['delavala', 'self', 'adhes', 'kitchen', 'back...\n",
       "4      ['hexwel', 'essenti', 'oil', 'home', 'fragranc...\n",
       "                             ...                        \n",
       "995    ['topow', 'farmhous', 'kitchen', 'stool', 'ind...\n",
       "996    ['peerless', '616wh160bg', 'univers', 'shower'...\n",
       "997    ['gadget', 'gear', 'vinyl', 'skin', 'back', 's...\n",
       "998    ['4', 'pack', 'boho', 'wide', 'headband', 'wom...\n",
       "999    ['jehova', 'car', 'cover', 'compat', 'ford', '...\n",
       "Name: COMBINED, Length: 1000, dtype: object"
      ]
     },
     "execution_count": 10,
     "metadata": {},
     "output_type": "execute_result"
    }
   ],
   "source": [
    "df_preprocessed['COMBINED']"
   ]
  },
  {
   "cell_type": "code",
   "execution_count": null,
   "metadata": {},
   "outputs": [],
   "source": [
    "import gensim.downloader as api\n",
    "\n",
    "# Load GloVe model (choose a model that fits your needs)\n",
    "glove_model = api.load(\"glove-wiki-gigaword-300\")  # 100-dimensional GloVe model\n"
   ]
  },
  {
   "cell_type": "code",
   "execution_count": 14,
   "metadata": {},
   "outputs": [],
   "source": [
    "import numpy as np\n",
    "\n",
    "def document_vector(tokens):\n",
    "    # Filter tokens to ensure they are in the GloVe vocabulary\n",
    "    valid_tokens = [token for token in tokens if token in glove_model]\n",
    "    if not valid_tokens:\n",
    "        # Return a zero vector if no valid tokens are found\n",
    "        return np.zeros(glove_model.vector_size)\n",
    "    # Average the embeddings of valid tokens\n",
    "    return np.mean(glove_model[valid_tokens], axis=0)\n",
    "\n",
    "# Assuming 'COMBINED' is a list of tokens\n",
    "df_preprocessed['doc_vector'] = df_preprocessed['COMBINED'].apply(document_vector)\n"
   ]
  },
  {
   "cell_type": "code",
   "execution_count": 13,
   "metadata": {},
   "outputs": [],
   "source": [
    "# df_preprocessed['doc_vector']"
   ]
  },
  {
   "cell_type": "code",
   "execution_count": 15,
   "metadata": {},
   "outputs": [],
   "source": [
    "# Convert list of vectors into a matrix\n",
    "feature_matrix = np.vstack(df_preprocessed['doc_vector'])\n"
   ]
  },
  {
   "cell_type": "code",
   "execution_count": 16,
   "metadata": {},
   "outputs": [
    {
     "data": {
      "text/plain": [
       "(1000, 300)"
      ]
     },
     "execution_count": 16,
     "metadata": {},
     "output_type": "execute_result"
    }
   ],
   "source": [
    "feature_matrix.shape"
   ]
  },
  {
   "cell_type": "code",
   "execution_count": 17,
   "metadata": {},
   "outputs": [],
   "source": [
    "from sklearn.feature_extraction.text import TfidfVectorizer\n",
    "vectorizer = TfidfVectorizer(max_features=50000)  # Limit to top 100 features for simplicity\n",
    "tfidf_matrix = vectorizer.fit_transform(df_preprocessed['COMBINED'])"
   ]
  },
  {
   "cell_type": "code",
   "execution_count": 15,
   "metadata": {},
   "outputs": [],
   "source": [
    "product_id = df_preprocessed['PRODUCT_ID'].values.reshape(-1, 1)\n",
    "product_type_id = df_preprocessed['PRODUCT_TYPE_ID'].values.reshape(-1, 1)"
   ]
  },
  {
   "cell_type": "code",
   "execution_count": 18,
   "metadata": {},
   "outputs": [],
   "source": [
    "from sklearn.decomposition import TruncatedSVD\n",
    "svd = TruncatedSVD(n_components=300)\n",
    "X_reduced = svd.fit_transform(feature_matrix)\n"
   ]
  },
  {
   "cell_type": "code",
   "execution_count": 460,
   "metadata": {},
   "outputs": [
    {
     "name": "stderr",
     "output_type": "stream",
     "text": [
      "/var/folders/qk/cbjnsy590pn24y_t34wv1t500000gn/T/ipykernel_50084/1993992006.py:19: SettingWithCopyWarning: \n",
      "A value is trying to be set on a copy of a slice from a DataFrame.\n",
      "Try using .loc[row_indexer,col_indexer] = value instead\n",
      "\n",
      "See the caveats in the documentation: https://pandas.pydata.org/pandas-docs/stable/user_guide/indexing.html#returning-a-view-versus-a-copy\n",
      "  df_preprocessed['gpt_embedding'] = df_preprocessed['COMBINED'].apply(lambda x: get_gpt_embeddings(x, model, tokenizer))\n"
     ]
    }
   ],
   "source": [
    "import torch\n",
    "from transformers import GPT2Tokenizer, GPT2Model\n",
    "# Load pre-trained GPT model and tokenizer\n",
    "model_name = 'gpt2'  # You can choose a different pre-trained model if needed\n",
    "tokenizer = GPT2Tokenizer.from_pretrained(model_name)\n",
    "model = GPT2Model.from_pretrained(model_name)\n",
    "\n",
    "tokenizer.pad_token = tokenizer.eos_token\n",
    "\n",
    "# Function to get GPT-2 embeddings for text data\n",
    "def get_gpt_embeddings(text, model, tokenizer):\n",
    "    inputs = tokenizer(text, return_tensors='pt', padding=True, truncation=True)\n",
    "    with torch.no_grad():\n",
    "        outputs = model(**inputs)\n",
    "    embeddings = outputs.last_hidden_state.mean(dim=1).squeeze().numpy()\n",
    "    return embeddings\n",
    "\n",
    "# Apply the function to get embeddings for each text\n",
    "df_preprocessed['gpt_embedding'] = df_preprocessed['COMBINED'].apply(lambda x: get_gpt_embeddings(x, model, tokenizer))\n",
    "\n"
   ]
  },
  {
   "cell_type": "code",
   "execution_count": 461,
   "metadata": {},
   "outputs": [
    {
     "name": "stdout",
     "output_type": "stream",
     "text": [
      "0    [-0.79854584, 0.5039604, 0.11545144, -0.176085...\n",
      "1    [-0.30609593, 0.45206687, 0.22416879, -0.06679...\n",
      "2    [-0.45811784, 0.4040954, 0.4536416, 0.00227931...\n",
      "3    [-0.2569862, 0.3355509, 0.33961976, -0.0529973...\n",
      "4    [-0.5701827, 0.4061478, 0.16793266, -0.1085318...\n",
      "Name: bert_embedding, dtype: object\n"
     ]
    },
    {
     "name": "stderr",
     "output_type": "stream",
     "text": [
      "/var/folders/qk/cbjnsy590pn24y_t34wv1t500000gn/T/ipykernel_50084/1558847812.py:18: SettingWithCopyWarning: \n",
      "A value is trying to be set on a copy of a slice from a DataFrame.\n",
      "Try using .loc[row_indexer,col_indexer] = value instead\n",
      "\n",
      "See the caveats in the documentation: https://pandas.pydata.org/pandas-docs/stable/user_guide/indexing.html#returning-a-view-versus-a-copy\n",
      "  df_preprocessed['bert_embedding'] = df_preprocessed['COMBINED'].apply(lambda x: get_bert_embeddings(x, model, tokenizer))\n"
     ]
    }
   ],
   "source": [
    "from transformers import BertTokenizer, BertModel\n",
    "# Load pre-trained BERT model and tokenizer\n",
    "# Load pre-trained BERT model and tokenizer\n",
    "model_name = 'bert-base-uncased'\n",
    "tokenizer = BertTokenizer.from_pretrained(model_name)\n",
    "model = BertModel.from_pretrained(model_name)\n",
    "\n",
    "# Function to get BERT embeddings for text data\n",
    "def get_bert_embeddings(text, model, tokenizer):\n",
    "    inputs = tokenizer(text, return_tensors='pt', padding=True, truncation=True, max_length=512)\n",
    "    with torch.no_grad():\n",
    "        outputs = model(**inputs)\n",
    "    # Get the embeddings for the [CLS] token\n",
    "    embeddings = outputs.last_hidden_state[:, 0, :].squeeze().numpy()\n",
    "    return embeddings\n",
    "\n",
    "# Apply the function to get embeddings for each text\n",
    "df_preprocessed['bert_embedding'] = df_preprocessed['COMBINED'].apply(lambda x: get_bert_embeddings(x, model, tokenizer))\n",
    "\n",
    "# Verify if 'bert_embedding' column is correctly created\n",
    "print(df_preprocessed['bert_embedding'].head())\n",
    "\n"
   ]
  },
  {
   "cell_type": "code",
   "execution_count": 11,
   "metadata": {},
   "outputs": [
    {
     "ename": "OSError",
     "evalue": "instructor-embedding is not a local folder and is not a valid model identifier listed on 'https://huggingface.co/models'\nIf this is a private repository, make sure to pass a token having permission to this repo either by logging in with `huggingface-cli login` or by passing `token=<your_token>`",
     "output_type": "error",
     "traceback": [
      "\u001b[0;31m---------------------------------------------------------------------------\u001b[0m",
      "\u001b[0;31mHTTPError\u001b[0m                                 Traceback (most recent call last)",
      "File \u001b[0;32m~/anaconda3/lib/python3.11/site-packages/huggingface_hub/utils/_errors.py:286\u001b[0m, in \u001b[0;36mhf_raise_for_status\u001b[0;34m(response, endpoint_name)\u001b[0m\n\u001b[1;32m    285\u001b[0m \u001b[38;5;28;01mtry\u001b[39;00m:\n\u001b[0;32m--> 286\u001b[0m     response\u001b[38;5;241m.\u001b[39mraise_for_status()\n\u001b[1;32m    287\u001b[0m \u001b[38;5;28;01mexcept\u001b[39;00m HTTPError \u001b[38;5;28;01mas\u001b[39;00m e:\n",
      "File \u001b[0;32m~/anaconda3/lib/python3.11/site-packages/requests/models.py:1021\u001b[0m, in \u001b[0;36mResponse.raise_for_status\u001b[0;34m(self)\u001b[0m\n\u001b[1;32m   1020\u001b[0m \u001b[38;5;28;01mif\u001b[39;00m http_error_msg:\n\u001b[0;32m-> 1021\u001b[0m     \u001b[38;5;28;01mraise\u001b[39;00m HTTPError(http_error_msg, response\u001b[38;5;241m=\u001b[39m\u001b[38;5;28mself\u001b[39m)\n",
      "\u001b[0;31mHTTPError\u001b[0m: 401 Client Error: Unauthorized for url: https://huggingface.co/instructor-embedding/resolve/main/tokenizer_config.json",
      "\nThe above exception was the direct cause of the following exception:\n",
      "\u001b[0;31mRepositoryNotFoundError\u001b[0m                   Traceback (most recent call last)",
      "File \u001b[0;32m~/anaconda3/lib/python3.11/site-packages/transformers/utils/hub.py:385\u001b[0m, in \u001b[0;36mcached_file\u001b[0;34m(path_or_repo_id, filename, cache_dir, force_download, resume_download, proxies, token, revision, local_files_only, subfolder, repo_type, user_agent, _raise_exceptions_for_missing_entries, _raise_exceptions_for_connection_errors, _commit_hash, **deprecated_kwargs)\u001b[0m\n\u001b[1;32m    383\u001b[0m \u001b[38;5;28;01mtry\u001b[39;00m:\n\u001b[1;32m    384\u001b[0m     \u001b[38;5;66;03m# Load from URL or cache if already cached\u001b[39;00m\n\u001b[0;32m--> 385\u001b[0m     resolved_file \u001b[38;5;241m=\u001b[39m hf_hub_download(\n\u001b[1;32m    386\u001b[0m         path_or_repo_id,\n\u001b[1;32m    387\u001b[0m         filename,\n\u001b[1;32m    388\u001b[0m         subfolder\u001b[38;5;241m=\u001b[39m\u001b[38;5;28;01mNone\u001b[39;00m \u001b[38;5;28;01mif\u001b[39;00m \u001b[38;5;28mlen\u001b[39m(subfolder) \u001b[38;5;241m==\u001b[39m \u001b[38;5;241m0\u001b[39m \u001b[38;5;28;01melse\u001b[39;00m subfolder,\n\u001b[1;32m    389\u001b[0m         repo_type\u001b[38;5;241m=\u001b[39mrepo_type,\n\u001b[1;32m    390\u001b[0m         revision\u001b[38;5;241m=\u001b[39mrevision,\n\u001b[1;32m    391\u001b[0m         cache_dir\u001b[38;5;241m=\u001b[39mcache_dir,\n\u001b[1;32m    392\u001b[0m         user_agent\u001b[38;5;241m=\u001b[39muser_agent,\n\u001b[1;32m    393\u001b[0m         force_download\u001b[38;5;241m=\u001b[39mforce_download,\n\u001b[1;32m    394\u001b[0m         proxies\u001b[38;5;241m=\u001b[39mproxies,\n\u001b[1;32m    395\u001b[0m         resume_download\u001b[38;5;241m=\u001b[39mresume_download,\n\u001b[1;32m    396\u001b[0m         token\u001b[38;5;241m=\u001b[39mtoken,\n\u001b[1;32m    397\u001b[0m         local_files_only\u001b[38;5;241m=\u001b[39mlocal_files_only,\n\u001b[1;32m    398\u001b[0m     )\n\u001b[1;32m    399\u001b[0m \u001b[38;5;28;01mexcept\u001b[39;00m GatedRepoError \u001b[38;5;28;01mas\u001b[39;00m e:\n",
      "File \u001b[0;32m~/anaconda3/lib/python3.11/site-packages/huggingface_hub/utils/_validators.py:118\u001b[0m, in \u001b[0;36mvalidate_hf_hub_args.<locals>._inner_fn\u001b[0;34m(*args, **kwargs)\u001b[0m\n\u001b[1;32m    116\u001b[0m     kwargs \u001b[38;5;241m=\u001b[39m smoothly_deprecate_use_auth_token(fn_name\u001b[38;5;241m=\u001b[39mfn\u001b[38;5;241m.\u001b[39m\u001b[38;5;18m__name__\u001b[39m, has_token\u001b[38;5;241m=\u001b[39mhas_token, kwargs\u001b[38;5;241m=\u001b[39mkwargs)\n\u001b[0;32m--> 118\u001b[0m \u001b[38;5;28;01mreturn\u001b[39;00m fn(\u001b[38;5;241m*\u001b[39margs, \u001b[38;5;241m*\u001b[39m\u001b[38;5;241m*\u001b[39mkwargs)\n",
      "File \u001b[0;32m~/anaconda3/lib/python3.11/site-packages/huggingface_hub/file_download.py:1368\u001b[0m, in \u001b[0;36mhf_hub_download\u001b[0;34m(repo_id, filename, subfolder, repo_type, revision, library_name, library_version, cache_dir, local_dir, local_dir_use_symlinks, user_agent, force_download, force_filename, proxies, etag_timeout, resume_download, token, local_files_only, legacy_cache_layout, endpoint)\u001b[0m\n\u001b[1;32m   1366\u001b[0m \u001b[38;5;28;01melif\u001b[39;00m \u001b[38;5;28misinstance\u001b[39m(head_call_error, RepositoryNotFoundError) \u001b[38;5;129;01mor\u001b[39;00m \u001b[38;5;28misinstance\u001b[39m(head_call_error, GatedRepoError):\n\u001b[1;32m   1367\u001b[0m     \u001b[38;5;66;03m# Repo not found => let's raise the actual error\u001b[39;00m\n\u001b[0;32m-> 1368\u001b[0m     \u001b[38;5;28;01mraise\u001b[39;00m head_call_error\n\u001b[1;32m   1369\u001b[0m \u001b[38;5;28;01melse\u001b[39;00m:\n\u001b[1;32m   1370\u001b[0m     \u001b[38;5;66;03m# Otherwise: most likely a connection issue or Hub downtime => let's warn the user\u001b[39;00m\n",
      "File \u001b[0;32m~/anaconda3/lib/python3.11/site-packages/huggingface_hub/file_download.py:1238\u001b[0m, in \u001b[0;36mhf_hub_download\u001b[0;34m(repo_id, filename, subfolder, repo_type, revision, library_name, library_version, cache_dir, local_dir, local_dir_use_symlinks, user_agent, force_download, force_filename, proxies, etag_timeout, resume_download, token, local_files_only, legacy_cache_layout, endpoint)\u001b[0m\n\u001b[1;32m   1237\u001b[0m \u001b[38;5;28;01mtry\u001b[39;00m:\n\u001b[0;32m-> 1238\u001b[0m     metadata \u001b[38;5;241m=\u001b[39m get_hf_file_metadata(\n\u001b[1;32m   1239\u001b[0m         url\u001b[38;5;241m=\u001b[39murl,\n\u001b[1;32m   1240\u001b[0m         token\u001b[38;5;241m=\u001b[39mtoken,\n\u001b[1;32m   1241\u001b[0m         proxies\u001b[38;5;241m=\u001b[39mproxies,\n\u001b[1;32m   1242\u001b[0m         timeout\u001b[38;5;241m=\u001b[39metag_timeout,\n\u001b[1;32m   1243\u001b[0m         library_name\u001b[38;5;241m=\u001b[39mlibrary_name,\n\u001b[1;32m   1244\u001b[0m         library_version\u001b[38;5;241m=\u001b[39mlibrary_version,\n\u001b[1;32m   1245\u001b[0m         user_agent\u001b[38;5;241m=\u001b[39muser_agent,\n\u001b[1;32m   1246\u001b[0m     )\n\u001b[1;32m   1247\u001b[0m \u001b[38;5;28;01mexcept\u001b[39;00m EntryNotFoundError \u001b[38;5;28;01mas\u001b[39;00m http_error:\n\u001b[1;32m   1248\u001b[0m     \u001b[38;5;66;03m# Cache the non-existence of the file and raise\u001b[39;00m\n",
      "File \u001b[0;32m~/anaconda3/lib/python3.11/site-packages/huggingface_hub/utils/_validators.py:118\u001b[0m, in \u001b[0;36mvalidate_hf_hub_args.<locals>._inner_fn\u001b[0;34m(*args, **kwargs)\u001b[0m\n\u001b[1;32m    116\u001b[0m     kwargs \u001b[38;5;241m=\u001b[39m smoothly_deprecate_use_auth_token(fn_name\u001b[38;5;241m=\u001b[39mfn\u001b[38;5;241m.\u001b[39m\u001b[38;5;18m__name__\u001b[39m, has_token\u001b[38;5;241m=\u001b[39mhas_token, kwargs\u001b[38;5;241m=\u001b[39mkwargs)\n\u001b[0;32m--> 118\u001b[0m \u001b[38;5;28;01mreturn\u001b[39;00m fn(\u001b[38;5;241m*\u001b[39margs, \u001b[38;5;241m*\u001b[39m\u001b[38;5;241m*\u001b[39mkwargs)\n",
      "File \u001b[0;32m~/anaconda3/lib/python3.11/site-packages/huggingface_hub/file_download.py:1631\u001b[0m, in \u001b[0;36mget_hf_file_metadata\u001b[0;34m(url, token, proxies, timeout, library_name, library_version, user_agent)\u001b[0m\n\u001b[1;32m   1630\u001b[0m \u001b[38;5;66;03m# Retrieve metadata\u001b[39;00m\n\u001b[0;32m-> 1631\u001b[0m r \u001b[38;5;241m=\u001b[39m _request_wrapper(\n\u001b[1;32m   1632\u001b[0m     method\u001b[38;5;241m=\u001b[39m\u001b[38;5;124m\"\u001b[39m\u001b[38;5;124mHEAD\u001b[39m\u001b[38;5;124m\"\u001b[39m,\n\u001b[1;32m   1633\u001b[0m     url\u001b[38;5;241m=\u001b[39murl,\n\u001b[1;32m   1634\u001b[0m     headers\u001b[38;5;241m=\u001b[39mheaders,\n\u001b[1;32m   1635\u001b[0m     allow_redirects\u001b[38;5;241m=\u001b[39m\u001b[38;5;28;01mFalse\u001b[39;00m,\n\u001b[1;32m   1636\u001b[0m     follow_relative_redirects\u001b[38;5;241m=\u001b[39m\u001b[38;5;28;01mTrue\u001b[39;00m,\n\u001b[1;32m   1637\u001b[0m     proxies\u001b[38;5;241m=\u001b[39mproxies,\n\u001b[1;32m   1638\u001b[0m     timeout\u001b[38;5;241m=\u001b[39mtimeout,\n\u001b[1;32m   1639\u001b[0m )\n\u001b[1;32m   1640\u001b[0m hf_raise_for_status(r)\n",
      "File \u001b[0;32m~/anaconda3/lib/python3.11/site-packages/huggingface_hub/file_download.py:385\u001b[0m, in \u001b[0;36m_request_wrapper\u001b[0;34m(method, url, follow_relative_redirects, **params)\u001b[0m\n\u001b[1;32m    384\u001b[0m \u001b[38;5;28;01mif\u001b[39;00m follow_relative_redirects:\n\u001b[0;32m--> 385\u001b[0m     response \u001b[38;5;241m=\u001b[39m _request_wrapper(\n\u001b[1;32m    386\u001b[0m         method\u001b[38;5;241m=\u001b[39mmethod,\n\u001b[1;32m    387\u001b[0m         url\u001b[38;5;241m=\u001b[39murl,\n\u001b[1;32m    388\u001b[0m         follow_relative_redirects\u001b[38;5;241m=\u001b[39m\u001b[38;5;28;01mFalse\u001b[39;00m,\n\u001b[1;32m    389\u001b[0m         \u001b[38;5;241m*\u001b[39m\u001b[38;5;241m*\u001b[39mparams,\n\u001b[1;32m    390\u001b[0m     )\n\u001b[1;32m    392\u001b[0m     \u001b[38;5;66;03m# If redirection, we redirect only relative paths.\u001b[39;00m\n\u001b[1;32m    393\u001b[0m     \u001b[38;5;66;03m# This is useful in case of a renamed repository.\u001b[39;00m\n",
      "File \u001b[0;32m~/anaconda3/lib/python3.11/site-packages/huggingface_hub/file_download.py:409\u001b[0m, in \u001b[0;36m_request_wrapper\u001b[0;34m(method, url, follow_relative_redirects, **params)\u001b[0m\n\u001b[1;32m    408\u001b[0m response \u001b[38;5;241m=\u001b[39m get_session()\u001b[38;5;241m.\u001b[39mrequest(method\u001b[38;5;241m=\u001b[39mmethod, url\u001b[38;5;241m=\u001b[39murl, \u001b[38;5;241m*\u001b[39m\u001b[38;5;241m*\u001b[39mparams)\n\u001b[0;32m--> 409\u001b[0m hf_raise_for_status(response)\n\u001b[1;32m    410\u001b[0m \u001b[38;5;28;01mreturn\u001b[39;00m response\n",
      "File \u001b[0;32m~/anaconda3/lib/python3.11/site-packages/huggingface_hub/utils/_errors.py:323\u001b[0m, in \u001b[0;36mhf_raise_for_status\u001b[0;34m(response, endpoint_name)\u001b[0m\n\u001b[1;32m    315\u001b[0m     message \u001b[38;5;241m=\u001b[39m (\n\u001b[1;32m    316\u001b[0m         \u001b[38;5;124mf\u001b[39m\u001b[38;5;124m\"\u001b[39m\u001b[38;5;132;01m{\u001b[39;00mresponse\u001b[38;5;241m.\u001b[39mstatus_code\u001b[38;5;132;01m}\u001b[39;00m\u001b[38;5;124m Client Error.\u001b[39m\u001b[38;5;124m\"\u001b[39m\n\u001b[1;32m    317\u001b[0m         \u001b[38;5;241m+\u001b[39m \u001b[38;5;124m\"\u001b[39m\u001b[38;5;130;01m\\n\u001b[39;00m\u001b[38;5;130;01m\\n\u001b[39;00m\u001b[38;5;124m\"\u001b[39m\n\u001b[0;32m   (...)\u001b[0m\n\u001b[1;32m    321\u001b[0m         \u001b[38;5;124m\"\u001b[39m\u001b[38;5;124m make sure you are authenticated.\u001b[39m\u001b[38;5;124m\"\u001b[39m\n\u001b[1;32m    322\u001b[0m     )\n\u001b[0;32m--> 323\u001b[0m     \u001b[38;5;28;01mraise\u001b[39;00m RepositoryNotFoundError(message, response) \u001b[38;5;28;01mfrom\u001b[39;00m \u001b[38;5;21;01me\u001b[39;00m\n\u001b[1;32m    325\u001b[0m \u001b[38;5;28;01melif\u001b[39;00m response\u001b[38;5;241m.\u001b[39mstatus_code \u001b[38;5;241m==\u001b[39m \u001b[38;5;241m400\u001b[39m:\n",
      "\u001b[0;31mRepositoryNotFoundError\u001b[0m: 401 Client Error. (Request ID: Root=1-664db9ed-606776f265ab8349295ddcdb;918a2732-e52a-40d6-b28f-e613be58bc78)\n\nRepository Not Found for url: https://huggingface.co/instructor-embedding/resolve/main/tokenizer_config.json.\nPlease make sure you specified the correct `repo_id` and `repo_type`.\nIf you are trying to access a private or gated repo, make sure you are authenticated.\nInvalid username or password.",
      "\nThe above exception was the direct cause of the following exception:\n",
      "\u001b[0;31mOSError\u001b[0m                                   Traceback (most recent call last)",
      "Cell \u001b[0;32mIn[11], line 8\u001b[0m\n\u001b[1;32m      6\u001b[0m \u001b[38;5;66;03m# Load pre-trained Instructor model and tokenizer\u001b[39;00m\n\u001b[1;32m      7\u001b[0m model_name \u001b[38;5;241m=\u001b[39m \u001b[38;5;124m'\u001b[39m\u001b[38;5;124minstructor-embedding\u001b[39m\u001b[38;5;124m'\u001b[39m  \u001b[38;5;66;03m# Replace with the actual model name\u001b[39;00m\n\u001b[0;32m----> 8\u001b[0m tokenizer \u001b[38;5;241m=\u001b[39m AutoTokenizer\u001b[38;5;241m.\u001b[39mfrom_pretrained(model_name)\n\u001b[1;32m      9\u001b[0m model \u001b[38;5;241m=\u001b[39m AutoModel\u001b[38;5;241m.\u001b[39mfrom_pretrained(model_name)\n\u001b[1;32m     11\u001b[0m \u001b[38;5;66;03m# Function to get Instructor embeddings for text data\u001b[39;00m\n",
      "File \u001b[0;32m~/anaconda3/lib/python3.11/site-packages/transformers/models/auto/tokenization_auto.py:758\u001b[0m, in \u001b[0;36mAutoTokenizer.from_pretrained\u001b[0;34m(cls, pretrained_model_name_or_path, *inputs, **kwargs)\u001b[0m\n\u001b[1;32m    755\u001b[0m     \u001b[38;5;28;01mreturn\u001b[39;00m tokenizer_class\u001b[38;5;241m.\u001b[39mfrom_pretrained(pretrained_model_name_or_path, \u001b[38;5;241m*\u001b[39minputs, \u001b[38;5;241m*\u001b[39m\u001b[38;5;241m*\u001b[39mkwargs)\n\u001b[1;32m    757\u001b[0m \u001b[38;5;66;03m# Next, let's try to use the tokenizer_config file to get the tokenizer class.\u001b[39;00m\n\u001b[0;32m--> 758\u001b[0m tokenizer_config \u001b[38;5;241m=\u001b[39m get_tokenizer_config(pretrained_model_name_or_path, \u001b[38;5;241m*\u001b[39m\u001b[38;5;241m*\u001b[39mkwargs)\n\u001b[1;32m    759\u001b[0m \u001b[38;5;28;01mif\u001b[39;00m \u001b[38;5;124m\"\u001b[39m\u001b[38;5;124m_commit_hash\u001b[39m\u001b[38;5;124m\"\u001b[39m \u001b[38;5;129;01min\u001b[39;00m tokenizer_config:\n\u001b[1;32m    760\u001b[0m     kwargs[\u001b[38;5;124m\"\u001b[39m\u001b[38;5;124m_commit_hash\u001b[39m\u001b[38;5;124m\"\u001b[39m] \u001b[38;5;241m=\u001b[39m tokenizer_config[\u001b[38;5;124m\"\u001b[39m\u001b[38;5;124m_commit_hash\u001b[39m\u001b[38;5;124m\"\u001b[39m]\n",
      "File \u001b[0;32m~/anaconda3/lib/python3.11/site-packages/transformers/models/auto/tokenization_auto.py:590\u001b[0m, in \u001b[0;36mget_tokenizer_config\u001b[0;34m(pretrained_model_name_or_path, cache_dir, force_download, resume_download, proxies, token, revision, local_files_only, subfolder, **kwargs)\u001b[0m\n\u001b[1;32m    587\u001b[0m     token \u001b[38;5;241m=\u001b[39m use_auth_token\n\u001b[1;32m    589\u001b[0m commit_hash \u001b[38;5;241m=\u001b[39m kwargs\u001b[38;5;241m.\u001b[39mget(\u001b[38;5;124m\"\u001b[39m\u001b[38;5;124m_commit_hash\u001b[39m\u001b[38;5;124m\"\u001b[39m, \u001b[38;5;28;01mNone\u001b[39;00m)\n\u001b[0;32m--> 590\u001b[0m resolved_config_file \u001b[38;5;241m=\u001b[39m cached_file(\n\u001b[1;32m    591\u001b[0m     pretrained_model_name_or_path,\n\u001b[1;32m    592\u001b[0m     TOKENIZER_CONFIG_FILE,\n\u001b[1;32m    593\u001b[0m     cache_dir\u001b[38;5;241m=\u001b[39mcache_dir,\n\u001b[1;32m    594\u001b[0m     force_download\u001b[38;5;241m=\u001b[39mforce_download,\n\u001b[1;32m    595\u001b[0m     resume_download\u001b[38;5;241m=\u001b[39mresume_download,\n\u001b[1;32m    596\u001b[0m     proxies\u001b[38;5;241m=\u001b[39mproxies,\n\u001b[1;32m    597\u001b[0m     token\u001b[38;5;241m=\u001b[39mtoken,\n\u001b[1;32m    598\u001b[0m     revision\u001b[38;5;241m=\u001b[39mrevision,\n\u001b[1;32m    599\u001b[0m     local_files_only\u001b[38;5;241m=\u001b[39mlocal_files_only,\n\u001b[1;32m    600\u001b[0m     subfolder\u001b[38;5;241m=\u001b[39msubfolder,\n\u001b[1;32m    601\u001b[0m     _raise_exceptions_for_missing_entries\u001b[38;5;241m=\u001b[39m\u001b[38;5;28;01mFalse\u001b[39;00m,\n\u001b[1;32m    602\u001b[0m     _raise_exceptions_for_connection_errors\u001b[38;5;241m=\u001b[39m\u001b[38;5;28;01mFalse\u001b[39;00m,\n\u001b[1;32m    603\u001b[0m     _commit_hash\u001b[38;5;241m=\u001b[39mcommit_hash,\n\u001b[1;32m    604\u001b[0m )\n\u001b[1;32m    605\u001b[0m \u001b[38;5;28;01mif\u001b[39;00m resolved_config_file \u001b[38;5;129;01mis\u001b[39;00m \u001b[38;5;28;01mNone\u001b[39;00m:\n\u001b[1;32m    606\u001b[0m     logger\u001b[38;5;241m.\u001b[39minfo(\u001b[38;5;124m\"\u001b[39m\u001b[38;5;124mCould not locate the tokenizer configuration file, will try to use the model config instead.\u001b[39m\u001b[38;5;124m\"\u001b[39m)\n",
      "File \u001b[0;32m~/anaconda3/lib/python3.11/site-packages/transformers/utils/hub.py:406\u001b[0m, in \u001b[0;36mcached_file\u001b[0;34m(path_or_repo_id, filename, cache_dir, force_download, resume_download, proxies, token, revision, local_files_only, subfolder, repo_type, user_agent, _raise_exceptions_for_missing_entries, _raise_exceptions_for_connection_errors, _commit_hash, **deprecated_kwargs)\u001b[0m\n\u001b[1;32m    400\u001b[0m     \u001b[38;5;28;01mraise\u001b[39;00m \u001b[38;5;167;01mEnvironmentError\u001b[39;00m(\n\u001b[1;32m    401\u001b[0m         \u001b[38;5;124m\"\u001b[39m\u001b[38;5;124mYou are trying to access a gated repo.\u001b[39m\u001b[38;5;130;01m\\n\u001b[39;00m\u001b[38;5;124mMake sure to request access at \u001b[39m\u001b[38;5;124m\"\u001b[39m\n\u001b[1;32m    402\u001b[0m         \u001b[38;5;124mf\u001b[39m\u001b[38;5;124m\"\u001b[39m\u001b[38;5;124mhttps://huggingface.co/\u001b[39m\u001b[38;5;132;01m{\u001b[39;00mpath_or_repo_id\u001b[38;5;132;01m}\u001b[39;00m\u001b[38;5;124m and pass a token having permission to this repo either \u001b[39m\u001b[38;5;124m\"\u001b[39m\n\u001b[1;32m    403\u001b[0m         \u001b[38;5;124m\"\u001b[39m\u001b[38;5;124mby logging in with `huggingface-cli login` or by passing `token=<your_token>`.\u001b[39m\u001b[38;5;124m\"\u001b[39m\n\u001b[1;32m    404\u001b[0m     ) \u001b[38;5;28;01mfrom\u001b[39;00m \u001b[38;5;21;01me\u001b[39;00m\n\u001b[1;32m    405\u001b[0m \u001b[38;5;28;01mexcept\u001b[39;00m RepositoryNotFoundError \u001b[38;5;28;01mas\u001b[39;00m e:\n\u001b[0;32m--> 406\u001b[0m     \u001b[38;5;28;01mraise\u001b[39;00m \u001b[38;5;167;01mEnvironmentError\u001b[39;00m(\n\u001b[1;32m    407\u001b[0m         \u001b[38;5;124mf\u001b[39m\u001b[38;5;124m\"\u001b[39m\u001b[38;5;132;01m{\u001b[39;00mpath_or_repo_id\u001b[38;5;132;01m}\u001b[39;00m\u001b[38;5;124m is not a local folder and is not a valid model identifier \u001b[39m\u001b[38;5;124m\"\u001b[39m\n\u001b[1;32m    408\u001b[0m         \u001b[38;5;124m\"\u001b[39m\u001b[38;5;124mlisted on \u001b[39m\u001b[38;5;124m'\u001b[39m\u001b[38;5;124mhttps://huggingface.co/models\u001b[39m\u001b[38;5;124m'\u001b[39m\u001b[38;5;130;01m\\n\u001b[39;00m\u001b[38;5;124mIf this is a private repository, make sure to pass a token \u001b[39m\u001b[38;5;124m\"\u001b[39m\n\u001b[1;32m    409\u001b[0m         \u001b[38;5;124m\"\u001b[39m\u001b[38;5;124mhaving permission to this repo either by logging in with `huggingface-cli login` or by passing \u001b[39m\u001b[38;5;124m\"\u001b[39m\n\u001b[1;32m    410\u001b[0m         \u001b[38;5;124m\"\u001b[39m\u001b[38;5;124m`token=<your_token>`\u001b[39m\u001b[38;5;124m\"\u001b[39m\n\u001b[1;32m    411\u001b[0m     ) \u001b[38;5;28;01mfrom\u001b[39;00m \u001b[38;5;21;01me\u001b[39;00m\n\u001b[1;32m    412\u001b[0m \u001b[38;5;28;01mexcept\u001b[39;00m RevisionNotFoundError \u001b[38;5;28;01mas\u001b[39;00m e:\n\u001b[1;32m    413\u001b[0m     \u001b[38;5;28;01mraise\u001b[39;00m \u001b[38;5;167;01mEnvironmentError\u001b[39;00m(\n\u001b[1;32m    414\u001b[0m         \u001b[38;5;124mf\u001b[39m\u001b[38;5;124m\"\u001b[39m\u001b[38;5;132;01m{\u001b[39;00mrevision\u001b[38;5;132;01m}\u001b[39;00m\u001b[38;5;124m is not a valid git identifier (branch name, tag name or commit id) that exists \u001b[39m\u001b[38;5;124m\"\u001b[39m\n\u001b[1;32m    415\u001b[0m         \u001b[38;5;124m\"\u001b[39m\u001b[38;5;124mfor this model name. Check the model page at \u001b[39m\u001b[38;5;124m\"\u001b[39m\n\u001b[1;32m    416\u001b[0m         \u001b[38;5;124mf\u001b[39m\u001b[38;5;124m\"\u001b[39m\u001b[38;5;124m'\u001b[39m\u001b[38;5;124mhttps://huggingface.co/\u001b[39m\u001b[38;5;132;01m{\u001b[39;00mpath_or_repo_id\u001b[38;5;132;01m}\u001b[39;00m\u001b[38;5;124m'\u001b[39m\u001b[38;5;124m for available revisions.\u001b[39m\u001b[38;5;124m\"\u001b[39m\n\u001b[1;32m    417\u001b[0m     ) \u001b[38;5;28;01mfrom\u001b[39;00m \u001b[38;5;21;01me\u001b[39;00m\n",
      "\u001b[0;31mOSError\u001b[0m: instructor-embedding is not a local folder and is not a valid model identifier listed on 'https://huggingface.co/models'\nIf this is a private repository, make sure to pass a token having permission to this repo either by logging in with `huggingface-cli login` or by passing `token=<your_token>`"
     ]
    }
   ],
   "source": [
    "# Example installation, if necessary\n",
    "# !pip install instructor-embedding\n",
    "\n",
    "from transformers import AutoTokenizer, AutoModel\n",
    "\n",
    "# Load pre-trained Instructor model and tokenizer\n",
    "model_name = 'instructor-embedding'  # Replace with the actual model name\n",
    "tokenizer = AutoTokenizer.from_pretrained(model_name)\n",
    "model = AutoModel.from_pretrained(model_name)\n",
    "\n",
    "# Function to get Instructor embeddings for text data\n",
    "def get_instructor_embeddings(text, model, tokenizer):\n",
    "    inputs = tokenizer(text, return_tensors='pt', padding=True, truncation=True, max_length=512)\n",
    "    with torch.no_grad():\n",
    "        outputs = model(**inputs)\n",
    "    # Get the embeddings for the [CLS] token (or appropriate token for Instructor embeddings)\n",
    "        embeddings = outputs.last_hidden_state[:, 0, :].squeeze().numpy()\n",
    "    return embeddings\n",
    "\n",
    "# Apply the function to get embeddings for each text\n",
    "df_preprocessed['instructor_embedding'] = df_preprocessed['COMBINED'].apply(lambda x: get_instructor_embeddings(x, model, tokenizer))\n",
    "\n",
    "# Verify if 'instructor_embedding' column is correctly created\n",
    "print(df_preprocessed['instructor_embedding'].head())\n"
   ]
  },
  {
   "cell_type": "code",
   "execution_count": 462,
   "metadata": {},
   "outputs": [
    {
     "data": {
      "text/plain": [
       "0      [-0.79854584, 0.5039604, 0.11545144, -0.176085...\n",
       "1      [-0.30609593, 0.45206687, 0.22416879, -0.06679...\n",
       "2      [-0.45811784, 0.4040954, 0.4536416, 0.00227931...\n",
       "3      [-0.2569862, 0.3355509, 0.33961976, -0.0529973...\n",
       "4      [-0.5701827, 0.4061478, 0.16793266, -0.1085318...\n",
       "                             ...                        \n",
       "995    [-0.4235385, 0.36414298, 0.2643394, -0.1386073...\n",
       "996    [-0.30066976, 0.64854145, 0.39408708, -0.00065...\n",
       "997    [-0.33978215, 0.48002696, 0.3680922, 0.2128662...\n",
       "998    [-0.87551904, 0.14078686, -0.02929226, -0.3257...\n",
       "999    [-0.6438004, 0.48500547, 0.18298662, -0.196143...\n",
       "Name: bert_embedding, Length: 1000, dtype: object"
      ]
     },
     "execution_count": 462,
     "metadata": {},
     "output_type": "execute_result"
    }
   ],
   "source": [
    "df_preprocessed['bert_embedding']"
   ]
  },
  {
   "cell_type": "code",
   "execution_count": 463,
   "metadata": {},
   "outputs": [],
   "source": [
    "# Convert embeddings to a numpy array\n",
    "embeddings = np.vstack(df_preprocessed['gpt_embedding'].values)\n"
   ]
  },
  {
   "cell_type": "code",
   "execution_count": 464,
   "metadata": {},
   "outputs": [],
   "source": [
    "combined_features=np.hstack((embeddings,np.vstack(df_preprocessed['bert_embedding'].values)))"
   ]
  },
  {
   "cell_type": "code",
   "execution_count": 465,
   "metadata": {},
   "outputs": [
    {
     "data": {
      "text/plain": [
       "array([[ 0.02320801, -0.14110456, -0.35508487, ..., -0.3462479 ,\n",
       "         0.36017126,  0.5288499 ],\n",
       "       [-0.12109176,  0.17225403, -0.72666144, ..., -0.32833835,\n",
       "         0.2038836 ,  0.16749488],\n",
       "       [ 0.01393954, -0.12326314, -0.52447367, ..., -0.16595463,\n",
       "        -0.00079611,  0.67962134],\n",
       "       ...,\n",
       "       [ 0.00372659, -0.03251521, -0.3652771 , ...,  0.07635952,\n",
       "        -0.13696037,  0.64622134],\n",
       "       [ 0.07358525, -0.1186664 , -0.6600033 , ..., -0.62903696,\n",
       "         0.13857451,  0.3226976 ],\n",
       "       [ 0.09508742, -0.05480634, -0.423302  , ..., -0.13424127,\n",
       "        -0.0448215 ,  0.6511184 ]], dtype=float32)"
      ]
     },
     "execution_count": 465,
     "metadata": {},
     "output_type": "execute_result"
    }
   ],
   "source": [
    "combined_features"
   ]
  },
  {
   "cell_type": "code",
   "execution_count": 466,
   "metadata": {},
   "outputs": [],
   "source": [
    "X_reduced=df_preprocessed[['gpt_embedding']]"
   ]
  },
  {
   "cell_type": "code",
   "execution_count": 467,
   "metadata": {},
   "outputs": [
    {
     "data": {
      "text/plain": [
       "(1000, 1)"
      ]
     },
     "execution_count": 467,
     "metadata": {},
     "output_type": "execute_result"
    }
   ],
   "source": [
    "X_reduced.shape"
   ]
  },
  {
   "cell_type": "code",
   "execution_count": 468,
   "metadata": {},
   "outputs": [
    {
     "data": {
      "text/plain": [
       "0       748.031495\n",
       "1       787.401574\n",
       "2       950.000000\n",
       "3       984.251967\n",
       "4       393.700787\n",
       "          ...     \n",
       "995    1120.000000\n",
       "996     256.250000\n",
       "997     700.000000\n",
       "998     866.141731\n",
       "999    1181.102361\n",
       "Name: PRODUCT_LENGTH, Length: 1000, dtype: float64"
      ]
     },
     "execution_count": 468,
     "metadata": {},
     "output_type": "execute_result"
    }
   ],
   "source": [
    "df_preprocessed['PRODUCT_LENGTH']"
   ]
  },
  {
   "cell_type": "code",
   "execution_count": 469,
   "metadata": {},
   "outputs": [
    {
     "data": {
      "text/plain": [
       "numpy.ndarray"
      ]
     },
     "execution_count": 469,
     "metadata": {},
     "output_type": "execute_result"
    }
   ],
   "source": [
    "type(embeddings)"
   ]
  },
  {
   "cell_type": "markdown",
   "metadata": {},
   "source": []
  },
  {
   "cell_type": "code",
   "execution_count": 470,
   "metadata": {},
   "outputs": [],
   "source": [
    "from sklearn.preprocessing import StandardScaler\n",
    "\n",
    "scaler = StandardScaler()\n",
    "X_scaled = scaler.fit_transform(combined_features)\n"
   ]
  },
  {
   "cell_type": "code",
   "execution_count": 471,
   "metadata": {},
   "outputs": [
    {
     "data": {
      "text/plain": [
       "(1000, 1536)"
      ]
     },
     "execution_count": 471,
     "metadata": {},
     "output_type": "execute_result"
    }
   ],
   "source": [
    "X_scaled.shape"
   ]
  },
  {
   "cell_type": "code",
   "execution_count": 472,
   "metadata": {},
   "outputs": [
    {
     "name": "stderr",
     "output_type": "stream",
     "text": [
      "/Users/namanmuktha/anaconda3/lib/python3.11/site-packages/sklearn/cluster/_kmeans.py:1412: FutureWarning: The default value of `n_init` will change from 10 to 'auto' in 1.4. Set the value of `n_init` explicitly to suppress the warning\n",
      "  super()._check_params_vs_input(X, default_n_init=10)\n"
     ]
    },
    {
     "data": {
      "image/png": "[encoded data removed]",
      "text/plain": [
       "<Figure size 1000x800 with 2 Axes>"
      ]
     },
     "metadata": {},
     "output_type": "display_data"
    }
   ],
   "source": [
    "from sklearn.cluster import KMeans\n",
    "\n",
    "kmeans = KMeans(n_clusters=5, random_state=0)\n",
    "clusters = kmeans.fit_predict(X_scaled)\n",
    "\n",
    "# Visualizing clusters can be done using PCA to reduce dimensions to 2D for plotting\n",
    "from sklearn.decomposition import PCA\n",
    "\n",
    "pca = PCA(n_components=500)\n",
    "X_pca = pca.fit_transform(X_scaled)\n",
    "\n",
    "import matplotlib.pyplot as plt\n",
    "\n",
    "plt.figure(figsize=(10, 8))\n",
    "plt.scatter(X_pca[:, 0], X_pca[:, 1], c=clusters, cmap='viridis', marker='o', edgecolor='black', s=50, alpha=0.6)\n",
    "plt.title('Visualization of Clustered Data')\n",
    "plt.xlabel('Principal Component 1')\n",
    "plt.ylabel('Principal Component 2')\n",
    "plt.colorbar()\n",
    "plt.show()\n"
   ]
  },
  {
   "cell_type": "code",
   "execution_count": 473,
   "metadata": {},
   "outputs": [
    {
     "data": {
      "text/plain": [
       "array([[  8.589601  ,  12.515272  ,  11.847268  , ...,  -0.0564213 ,\n",
       "          0.691849  ,   0.36828157],\n",
       "       [ -7.309293  ,  -0.5705514 , -13.550643  , ...,   0.10954434,\n",
       "          0.49541575,  -0.25546032],\n",
       "       [ -8.671579  ,  -1.6777622 ,  -1.1155766 , ...,   0.04960076,\n",
       "         -0.08770578,  -0.02972106],\n",
       "       ...,\n",
       "       [-17.760874  ,  -7.2864704 ,   4.484987  , ...,   0.162794  ,\n",
       "          0.73923326,   0.32527658],\n",
       "       [  1.3996328 ,  16.653782  , -14.497782  , ...,   0.45777062,\n",
       "          0.42398092,   0.10535198],\n",
       "       [  4.239429  ,  -2.4113708 ,   1.8614022 , ...,   0.6718418 ,\n",
       "         -0.3114977 ,  -0.10323139]], dtype=float32)"
      ]
     },
     "execution_count": 473,
     "metadata": {},
     "output_type": "execute_result"
    }
   ],
   "source": [
    "X_pca"
   ]
  },
  {
   "cell_type": "code",
   "execution_count": 474,
   "metadata": {},
   "outputs": [],
   "source": [
    "from sklearn.decomposition import TruncatedSVD\n",
    "svd = TruncatedSVD(n_components=600)\n",
    "X_reduced = svd.fit_transform(embeddings)\n"
   ]
  },
  {
   "cell_type": "code",
   "execution_count": 476,
   "metadata": {},
   "outputs": [],
   "source": [
    "import tensorflow as tf\n",
    "from tensorflow.keras.models import Sequential\n",
    "from tensorflow.keras.layers import Dense, Dropout,BatchNormalization\n",
    "\n",
    "model = Sequential([\n",
    "    Dense(512, activation='relu', input_dim=X_pca.shape[1]),  # Adjusted input dimension\n",
    "    BatchNormalization(),\n",
    "    Dropout(0.2),\n",
    "    Dense(256, activation='relu'),\n",
    "    BatchNormalization(),\n",
    "    Dropout(0.2),\n",
    "    Dense(128, activation='relu'),\n",
    "    BatchNormalization(),\n",
    "    Dropout(0.2),\n",
    "    Dense(64, activation='relu'),\n",
    "    BatchNormalization(),\n",
    "    Dropout(0.2),\n",
    "    Dense(32, activation='relu'),\n",
    "    BatchNormalization(),\n",
    "    Dropout(0.1),\n",
    "    Dense(1, activation='linear')  # Output layer for regression\n",
    "])\n",
    "\n",
    "\n",
    "model.compile(optimizer='adam',\n",
    "              loss='mean_absolute_error',  # Common loss function for regression\n",
    "              metrics=['mean_absolute_error'])\n"
   ]
  },
  {
   "cell_type": "code",
   "execution_count": 477,
   "metadata": {},
   "outputs": [],
   "source": [
    "y=target['PRODUCT_LENGTH']"
   ]
  },
  {
   "cell_type": "code",
   "execution_count": 478,
   "metadata": {},
   "outputs": [
    {
     "data": {
      "text/plain": [
       "array([[ 1.4002792e+02,  1.3848491e+00,  9.5007133e-01, ...,\n",
       "         4.4779107e-03,  4.9288571e-03, -1.1844322e-02],\n",
       "       [ 1.5610638e+02, -1.0467092e+00,  2.9242964e+00, ...,\n",
       "        -3.5010837e-03, -7.8267641e-03, -1.5172442e-02],\n",
       "       [ 1.4678346e+02,  2.8367794e-01, -2.0366874e+00, ...,\n",
       "        -1.2650654e-02, -4.0117502e-03, -1.2389593e-02],\n",
       "       ...,\n",
       "       [ 1.6583034e+02,  1.0508527e+01, -2.5168705e-01, ...,\n",
       "         4.9542091e-03, -3.1275274e-03, -2.0386279e-02],\n",
       "       [ 1.5049501e+02,  5.9903536e+00, -9.8642349e-01, ...,\n",
       "         8.1935525e-04, -7.1444795e-03,  2.0059973e-02],\n",
       "       [ 1.4366240e+02,  2.8376715e+00, -1.5417700e+00, ...,\n",
       "         1.0051428e-02,  3.5641422e-03,  6.4171068e-03]], dtype=float32)"
      ]
     },
     "execution_count": 478,
     "metadata": {},
     "output_type": "execute_result"
    }
   ],
   "source": [
    "X_reduced"
   ]
  },
  {
   "cell_type": "code",
   "execution_count": 479,
   "metadata": {},
   "outputs": [
    {
     "name": "stdout",
     "output_type": "stream",
     "text": [
      "(800, 500)\n",
      "(200, 500)\n"
     ]
    }
   ],
   "source": [
    "print(X_train.shape)  # Should show (number_of_samples, 302)\n",
    "print(X_test.shape)   # Should show (number_of_samples, 302)\n"
   ]
  },
  {
   "cell_type": "code",
   "execution_count": 480,
   "metadata": {},
   "outputs": [
    {
     "data": {
      "text/plain": [
       "(1000, 1536)"
      ]
     },
     "execution_count": 480,
     "metadata": {},
     "output_type": "execute_result"
    }
   ],
   "source": [
    "X_scaled.shape"
   ]
  },
  {
   "cell_type": "code",
   "execution_count": 481,
   "metadata": {},
   "outputs": [],
   "source": [
    "from sklearn.model_selection import train_test_split\n",
    "\n",
    "X_train, X_test, y_train, y_test = train_test_split(X_pca, y, test_size=0.2, random_state=42)\n",
    "\n"
   ]
  },
  {
   "cell_type": "code",
   "execution_count": 482,
   "metadata": {},
   "outputs": [
    {
     "name": "stdout",
     "output_type": "stream",
     "text": [
      "Epoch 1/200\n",
      "25/25 [==============================] - 3s 18ms/step - loss: 1330.1455 - mean_absolute_error: 1330.1455 - val_loss: 1209.1870 - val_mean_absolute_error: 1209.1870\n",
      "Epoch 2/200\n",
      "25/25 [==============================] - 0s 3ms/step - loss: 1329.9700 - mean_absolute_error: 1329.9700 - val_loss: 1208.9404 - val_mean_absolute_error: 1208.9404\n",
      "Epoch 3/200\n",
      "25/25 [==============================] - 0s 3ms/step - loss: 1329.7019 - mean_absolute_error: 1329.7019 - val_loss: 1208.7230 - val_mean_absolute_error: 1208.7230\n",
      "Epoch 4/200\n",
      "25/25 [==============================] - 0s 3ms/step - loss: 1329.4374 - mean_absolute_error: 1329.4374 - val_loss: 1208.4270 - val_mean_absolute_error: 1208.4270\n",
      "Epoch 5/200\n",
      "25/25 [==============================] - 0s 4ms/step - loss: 1329.0476 - mean_absolute_error: 1329.0476 - val_loss: 1208.0685 - val_mean_absolute_error: 1208.0685\n",
      "Epoch 6/200\n",
      "25/25 [==============================] - 0s 4ms/step - loss: 1328.6544 - mean_absolute_error: 1328.6544 - val_loss: 1207.3195 - val_mean_absolute_error: 1207.3195\n",
      "Epoch 7/200\n",
      "25/25 [==============================] - 0s 3ms/step - loss: 1328.0685 - mean_absolute_error: 1328.0685 - val_loss: 1206.4325 - val_mean_absolute_error: 1206.4325\n",
      "Epoch 8/200\n",
      "25/25 [==============================] - 0s 3ms/step - loss: 1327.4235 - mean_absolute_error: 1327.4235 - val_loss: 1205.9114 - val_mean_absolute_error: 1205.9114\n",
      "Epoch 9/200\n",
      "25/25 [==============================] - 0s 3ms/step - loss: 1326.7091 - mean_absolute_error: 1326.7091 - val_loss: 1205.1257 - val_mean_absolute_error: 1205.1257\n",
      "Epoch 10/200\n",
      "25/25 [==============================] - 0s 3ms/step - loss: 1325.8068 - mean_absolute_error: 1325.8068 - val_loss: 1204.1652 - val_mean_absolute_error: 1204.1652\n",
      "Epoch 11/200\n",
      "25/25 [==============================] - 0s 3ms/step - loss: 1324.8422 - mean_absolute_error: 1324.8422 - val_loss: 1203.2827 - val_mean_absolute_error: 1203.2827\n",
      "Epoch 12/200\n",
      "25/25 [==============================] - 0s 3ms/step - loss: 1323.7711 - mean_absolute_error: 1323.7711 - val_loss: 1202.3430 - val_mean_absolute_error: 1202.3430\n",
      "Epoch 13/200\n",
      "25/25 [==============================] - 0s 3ms/step - loss: 1322.5842 - mean_absolute_error: 1322.5842 - val_loss: 1201.0472 - val_mean_absolute_error: 1201.0472\n",
      "Epoch 14/200\n",
      "25/25 [==============================] - 0s 3ms/step - loss: 1321.4353 - mean_absolute_error: 1321.4353 - val_loss: 1199.6709 - val_mean_absolute_error: 1199.6709\n",
      "Epoch 15/200\n",
      "25/25 [==============================] - 0s 3ms/step - loss: 1320.0138 - mean_absolute_error: 1320.0138 - val_loss: 1198.2571 - val_mean_absolute_error: 1198.2571\n",
      "Epoch 16/200\n",
      "25/25 [==============================] - 0s 4ms/step - loss: 1318.4860 - mean_absolute_error: 1318.4860 - val_loss: 1196.7959 - val_mean_absolute_error: 1196.7959\n",
      "Epoch 17/200\n",
      "25/25 [==============================] - 0s 3ms/step - loss: 1316.9183 - mean_absolute_error: 1316.9183 - val_loss: 1194.5925 - val_mean_absolute_error: 1194.5925\n",
      "Epoch 18/200\n",
      "25/25 [==============================] - 0s 3ms/step - loss: 1315.1462 - mean_absolute_error: 1315.1462 - val_loss: 1192.1489 - val_mean_absolute_error: 1192.1489\n",
      "Epoch 19/200\n",
      "25/25 [==============================] - 0s 4ms/step - loss: 1313.5490 - mean_absolute_error: 1313.5490 - val_loss: 1190.0647 - val_mean_absolute_error: 1190.0647\n",
      "Epoch 20/200\n",
      "25/25 [==============================] - 0s 3ms/step - loss: 1311.5142 - mean_absolute_error: 1311.5142 - val_loss: 1188.5175 - val_mean_absolute_error: 1188.5175\n",
      "Epoch 21/200\n",
      "25/25 [==============================] - 0s 3ms/step - loss: 1309.3610 - mean_absolute_error: 1309.3610 - val_loss: 1186.9487 - val_mean_absolute_error: 1186.9487\n",
      "Epoch 22/200\n",
      "25/25 [==============================] - 0s 3ms/step - loss: 1307.2761 - mean_absolute_error: 1307.2761 - val_loss: 1184.6936 - val_mean_absolute_error: 1184.6936\n",
      "Epoch 23/200\n",
      "25/25 [==============================] - 0s 6ms/step - loss: 1305.0787 - mean_absolute_error: 1305.0787 - val_loss: 1182.2327 - val_mean_absolute_error: 1182.2327\n",
      "Epoch 24/200\n",
      "25/25 [==============================] - 0s 3ms/step - loss: 1302.6465 - mean_absolute_error: 1302.6465 - val_loss: 1179.8992 - val_mean_absolute_error: 1179.8992\n",
      "Epoch 25/200\n",
      "25/25 [==============================] - 0s 3ms/step - loss: 1300.2914 - mean_absolute_error: 1300.2914 - val_loss: 1177.7811 - val_mean_absolute_error: 1177.7811\n",
      "Epoch 26/200\n",
      "25/25 [==============================] - 0s 3ms/step - loss: 1297.8417 - mean_absolute_error: 1297.8417 - val_loss: 1173.9955 - val_mean_absolute_error: 1173.9955\n",
      "Epoch 27/200\n",
      "25/25 [==============================] - 0s 3ms/step - loss: 1295.1960 - mean_absolute_error: 1295.1960 - val_loss: 1171.6140 - val_mean_absolute_error: 1171.6140\n",
      "Epoch 28/200\n",
      "25/25 [==============================] - 0s 3ms/step - loss: 1292.6755 - mean_absolute_error: 1292.6755 - val_loss: 1169.0283 - val_mean_absolute_error: 1169.0283\n",
      "Epoch 29/200\n",
      "25/25 [==============================] - 0s 4ms/step - loss: 1290.0126 - mean_absolute_error: 1290.0126 - val_loss: 1165.9126 - val_mean_absolute_error: 1165.9126\n",
      "Epoch 30/200\n",
      "25/25 [==============================] - 0s 3ms/step - loss: 1287.0571 - mean_absolute_error: 1287.0571 - val_loss: 1162.5431 - val_mean_absolute_error: 1162.5431\n",
      "Epoch 31/200\n",
      "25/25 [==============================] - 0s 3ms/step - loss: 1283.7616 - mean_absolute_error: 1283.7616 - val_loss: 1160.0737 - val_mean_absolute_error: 1160.0737\n",
      "Epoch 32/200\n",
      "25/25 [==============================] - 0s 3ms/step - loss: 1280.7985 - mean_absolute_error: 1280.7985 - val_loss: 1156.5264 - val_mean_absolute_error: 1156.5264\n",
      "Epoch 33/200\n",
      "25/25 [==============================] - 0s 3ms/step - loss: 1277.6727 - mean_absolute_error: 1277.6727 - val_loss: 1154.0323 - val_mean_absolute_error: 1154.0323\n",
      "Epoch 34/200\n",
      "25/25 [==============================] - 0s 3ms/step - loss: 1274.5369 - mean_absolute_error: 1274.5369 - val_loss: 1151.8778 - val_mean_absolute_error: 1151.8778\n",
      "Epoch 35/200\n",
      "25/25 [==============================] - 0s 3ms/step - loss: 1271.0590 - mean_absolute_error: 1271.0590 - val_loss: 1148.0953 - val_mean_absolute_error: 1148.0953\n",
      "Epoch 36/200\n",
      "25/25 [==============================] - 0s 3ms/step - loss: 1267.5452 - mean_absolute_error: 1267.5452 - val_loss: 1144.3628 - val_mean_absolute_error: 1144.3628\n",
      "Epoch 37/200\n",
      "25/25 [==============================] - 0s 3ms/step - loss: 1264.1826 - mean_absolute_error: 1264.1826 - val_loss: 1140.7740 - val_mean_absolute_error: 1140.7740\n",
      "Epoch 38/200\n",
      "25/25 [==============================] - 0s 3ms/step - loss: 1260.5381 - mean_absolute_error: 1260.5381 - val_loss: 1140.1930 - val_mean_absolute_error: 1140.1930\n",
      "Epoch 39/200\n",
      "25/25 [==============================] - 0s 3ms/step - loss: 1256.9893 - mean_absolute_error: 1256.9893 - val_loss: 1139.2566 - val_mean_absolute_error: 1139.2566\n",
      "Epoch 40/200\n",
      "25/25 [==============================] - 0s 3ms/step - loss: 1253.4431 - mean_absolute_error: 1253.4431 - val_loss: 1134.8185 - val_mean_absolute_error: 1134.8185\n",
      "Epoch 41/200\n",
      "25/25 [==============================] - 0s 3ms/step - loss: 1249.2080 - mean_absolute_error: 1249.2080 - val_loss: 1128.5118 - val_mean_absolute_error: 1128.5118\n",
      "Epoch 42/200\n",
      "25/25 [==============================] - 0s 3ms/step - loss: 1245.6843 - mean_absolute_error: 1245.6843 - val_loss: 1123.2596 - val_mean_absolute_error: 1123.2596\n",
      "Epoch 43/200\n",
      "25/25 [==============================] - 0s 6ms/step - loss: 1241.3282 - mean_absolute_error: 1241.3282 - val_loss: 1120.9897 - val_mean_absolute_error: 1120.9897\n",
      "Epoch 44/200\n",
      "25/25 [==============================] - 0s 3ms/step - loss: 1237.3451 - mean_absolute_error: 1237.3451 - val_loss: 1119.5946 - val_mean_absolute_error: 1119.5946\n",
      "Epoch 45/200\n",
      "25/25 [==============================] - 0s 3ms/step - loss: 1233.1548 - mean_absolute_error: 1233.1548 - val_loss: 1114.3203 - val_mean_absolute_error: 1114.3203\n",
      "Epoch 46/200\n",
      "25/25 [==============================] - 0s 3ms/step - loss: 1229.4194 - mean_absolute_error: 1229.4194 - val_loss: 1109.3447 - val_mean_absolute_error: 1109.3447\n",
      "Epoch 47/200\n",
      "25/25 [==============================] - 0s 3ms/step - loss: 1224.8059 - mean_absolute_error: 1224.8059 - val_loss: 1104.7877 - val_mean_absolute_error: 1104.7877\n",
      "Epoch 48/200\n",
      "25/25 [==============================] - 0s 3ms/step - loss: 1219.8521 - mean_absolute_error: 1219.8521 - val_loss: 1103.1333 - val_mean_absolute_error: 1103.1333\n",
      "Epoch 49/200\n",
      "25/25 [==============================] - 0s 3ms/step - loss: 1215.8005 - mean_absolute_error: 1215.8005 - val_loss: 1100.8009 - val_mean_absolute_error: 1100.8009\n",
      "Epoch 50/200\n",
      "25/25 [==============================] - 0s 3ms/step - loss: 1211.2433 - mean_absolute_error: 1211.2433 - val_loss: 1096.1979 - val_mean_absolute_error: 1096.1979\n",
      "Epoch 51/200\n",
      "25/25 [==============================] - 0s 4ms/step - loss: 1207.0496 - mean_absolute_error: 1207.0496 - val_loss: 1092.1243 - val_mean_absolute_error: 1092.1243\n",
      "Epoch 52/200\n",
      "25/25 [==============================] - 0s 3ms/step - loss: 1202.0668 - mean_absolute_error: 1202.0668 - val_loss: 1088.1554 - val_mean_absolute_error: 1088.1554\n",
      "Epoch 53/200\n",
      "25/25 [==============================] - 0s 3ms/step - loss: 1197.3154 - mean_absolute_error: 1197.3154 - val_loss: 1083.5160 - val_mean_absolute_error: 1083.5160\n",
      "Epoch 54/200\n",
      "25/25 [==============================] - 0s 3ms/step - loss: 1192.4203 - mean_absolute_error: 1192.4203 - val_loss: 1079.7968 - val_mean_absolute_error: 1079.7968\n",
      "Epoch 55/200\n",
      "25/25 [==============================] - 0s 3ms/step - loss: 1187.5342 - mean_absolute_error: 1187.5342 - val_loss: 1075.9313 - val_mean_absolute_error: 1075.9313\n",
      "Epoch 56/200\n",
      "25/25 [==============================] - 0s 4ms/step - loss: 1183.0986 - mean_absolute_error: 1183.0986 - val_loss: 1072.5869 - val_mean_absolute_error: 1072.5869\n",
      "Epoch 57/200\n",
      "25/25 [==============================] - 0s 3ms/step - loss: 1178.2245 - mean_absolute_error: 1178.2245 - val_loss: 1067.2013 - val_mean_absolute_error: 1067.2013\n",
      "Epoch 58/200\n",
      "25/25 [==============================] - 0s 3ms/step - loss: 1173.2485 - mean_absolute_error: 1173.2485 - val_loss: 1059.7290 - val_mean_absolute_error: 1059.7290\n",
      "Epoch 59/200\n",
      "25/25 [==============================] - 0s 3ms/step - loss: 1167.1606 - mean_absolute_error: 1167.1606 - val_loss: 1055.0540 - val_mean_absolute_error: 1055.0540\n",
      "Epoch 60/200\n",
      "25/25 [==============================] - 0s 3ms/step - loss: 1162.7480 - mean_absolute_error: 1162.7480 - val_loss: 1050.8956 - val_mean_absolute_error: 1050.8956\n",
      "Epoch 61/200\n",
      "25/25 [==============================] - 0s 3ms/step - loss: 1156.1820 - mean_absolute_error: 1156.1820 - val_loss: 1045.5409 - val_mean_absolute_error: 1045.5409\n",
      "Epoch 62/200\n",
      "25/25 [==============================] - 0s 3ms/step - loss: 1152.1001 - mean_absolute_error: 1152.1001 - val_loss: 1040.6938 - val_mean_absolute_error: 1040.6938\n",
      "Epoch 63/200\n",
      "25/25 [==============================] - 0s 5ms/step - loss: 1145.5293 - mean_absolute_error: 1145.5293 - val_loss: 1042.5526 - val_mean_absolute_error: 1042.5526\n",
      "Epoch 64/200\n",
      "25/25 [==============================] - 0s 3ms/step - loss: 1140.6019 - mean_absolute_error: 1140.6019 - val_loss: 1034.7336 - val_mean_absolute_error: 1034.7336\n",
      "Epoch 65/200\n",
      "25/25 [==============================] - 0s 3ms/step - loss: 1135.1943 - mean_absolute_error: 1135.1943 - val_loss: 1025.9238 - val_mean_absolute_error: 1025.9238\n",
      "Epoch 66/200\n",
      "25/25 [==============================] - 0s 3ms/step - loss: 1130.3048 - mean_absolute_error: 1130.3048 - val_loss: 1020.5139 - val_mean_absolute_error: 1020.5139\n",
      "Epoch 67/200\n",
      "25/25 [==============================] - 0s 3ms/step - loss: 1123.0975 - mean_absolute_error: 1123.0975 - val_loss: 1016.8546 - val_mean_absolute_error: 1016.8546\n",
      "Epoch 68/200\n",
      "25/25 [==============================] - 0s 3ms/step - loss: 1117.5911 - mean_absolute_error: 1117.5911 - val_loss: 1011.5348 - val_mean_absolute_error: 1011.5348\n",
      "Epoch 69/200\n",
      "25/25 [==============================] - 0s 3ms/step - loss: 1111.2983 - mean_absolute_error: 1111.2983 - val_loss: 1006.6462 - val_mean_absolute_error: 1006.6462\n",
      "Epoch 70/200\n",
      "25/25 [==============================] - 0s 3ms/step - loss: 1106.5292 - mean_absolute_error: 1106.5292 - val_loss: 1001.0378 - val_mean_absolute_error: 1001.0378\n",
      "Epoch 71/200\n",
      "25/25 [==============================] - 0s 3ms/step - loss: 1100.0649 - mean_absolute_error: 1100.0649 - val_loss: 996.7982 - val_mean_absolute_error: 996.7982\n",
      "Epoch 72/200\n",
      "25/25 [==============================] - 0s 3ms/step - loss: 1094.3273 - mean_absolute_error: 1094.3273 - val_loss: 988.9373 - val_mean_absolute_error: 988.9373\n",
      "Epoch 73/200\n",
      "25/25 [==============================] - 0s 3ms/step - loss: 1087.4210 - mean_absolute_error: 1087.4210 - val_loss: 982.6157 - val_mean_absolute_error: 982.6157\n",
      "Epoch 74/200\n",
      "25/25 [==============================] - 0s 3ms/step - loss: 1081.9153 - mean_absolute_error: 1081.9153 - val_loss: 972.8780 - val_mean_absolute_error: 972.8780\n",
      "Epoch 75/200\n",
      "25/25 [==============================] - 0s 3ms/step - loss: 1075.8950 - mean_absolute_error: 1075.8950 - val_loss: 964.2417 - val_mean_absolute_error: 964.2417\n",
      "Epoch 76/200\n",
      "25/25 [==============================] - 0s 3ms/step - loss: 1068.7104 - mean_absolute_error: 1068.7104 - val_loss: 958.8185 - val_mean_absolute_error: 958.8185\n",
      "Epoch 77/200\n",
      "25/25 [==============================] - 0s 3ms/step - loss: 1063.3723 - mean_absolute_error: 1063.3723 - val_loss: 951.7866 - val_mean_absolute_error: 951.7866\n",
      "Epoch 78/200\n",
      "25/25 [==============================] - 0s 3ms/step - loss: 1056.2354 - mean_absolute_error: 1056.2354 - val_loss: 944.3379 - val_mean_absolute_error: 944.3379\n",
      "Epoch 79/200\n",
      "25/25 [==============================] - 0s 3ms/step - loss: 1049.7375 - mean_absolute_error: 1049.7375 - val_loss: 940.7164 - val_mean_absolute_error: 940.7164\n",
      "Epoch 80/200\n",
      "25/25 [==============================] - 0s 3ms/step - loss: 1044.6278 - mean_absolute_error: 1044.6278 - val_loss: 938.6345 - val_mean_absolute_error: 938.6345\n",
      "Epoch 81/200\n",
      "25/25 [==============================] - 0s 2ms/step - loss: 1038.5801 - mean_absolute_error: 1038.5801 - val_loss: 946.3259 - val_mean_absolute_error: 946.3259\n",
      "Epoch 82/200\n",
      "25/25 [==============================] - 0s 2ms/step - loss: 1033.3174 - mean_absolute_error: 1033.3174 - val_loss: 934.2578 - val_mean_absolute_error: 934.2578\n",
      "Epoch 83/200\n",
      "25/25 [==============================] - 0s 3ms/step - loss: 1025.6479 - mean_absolute_error: 1025.6479 - val_loss: 927.1202 - val_mean_absolute_error: 927.1202\n",
      "Epoch 84/200\n",
      "25/25 [==============================] - 0s 2ms/step - loss: 1019.4674 - mean_absolute_error: 1019.4674 - val_loss: 931.6382 - val_mean_absolute_error: 931.6382\n",
      "Epoch 85/200\n",
      "25/25 [==============================] - 0s 4ms/step - loss: 1013.4731 - mean_absolute_error: 1013.4731 - val_loss: 928.7808 - val_mean_absolute_error: 928.7808\n",
      "Epoch 86/200\n",
      "25/25 [==============================] - 0s 2ms/step - loss: 1005.8883 - mean_absolute_error: 1005.8883 - val_loss: 922.3447 - val_mean_absolute_error: 922.3447\n",
      "Epoch 87/200\n",
      "25/25 [==============================] - 0s 3ms/step - loss: 999.7595 - mean_absolute_error: 999.7595 - val_loss: 916.3411 - val_mean_absolute_error: 916.3411\n",
      "Epoch 88/200\n",
      "25/25 [==============================] - 0s 2ms/step - loss: 991.7804 - mean_absolute_error: 991.7804 - val_loss: 915.6969 - val_mean_absolute_error: 915.6969\n",
      "Epoch 89/200\n",
      "25/25 [==============================] - 0s 3ms/step - loss: 986.5847 - mean_absolute_error: 986.5847 - val_loss: 911.4858 - val_mean_absolute_error: 911.4858\n",
      "Epoch 90/200\n",
      "25/25 [==============================] - 0s 2ms/step - loss: 979.6699 - mean_absolute_error: 979.6699 - val_loss: 908.3666 - val_mean_absolute_error: 908.3666\n",
      "Epoch 91/200\n",
      "25/25 [==============================] - 0s 2ms/step - loss: 972.6831 - mean_absolute_error: 972.6831 - val_loss: 905.0090 - val_mean_absolute_error: 905.0090\n",
      "Epoch 92/200\n",
      "25/25 [==============================] - 0s 3ms/step - loss: 965.7075 - mean_absolute_error: 965.7075 - val_loss: 896.2441 - val_mean_absolute_error: 896.2441\n",
      "Epoch 93/200\n",
      "25/25 [==============================] - 0s 2ms/step - loss: 958.6129 - mean_absolute_error: 958.6129 - val_loss: 891.0547 - val_mean_absolute_error: 891.0547\n",
      "Epoch 94/200\n",
      "25/25 [==============================] - 0s 5ms/step - loss: 953.6534 - mean_absolute_error: 953.6534 - val_loss: 887.5588 - val_mean_absolute_error: 887.5588\n",
      "Epoch 95/200\n",
      "25/25 [==============================] - 0s 3ms/step - loss: 943.6506 - mean_absolute_error: 943.6506 - val_loss: 886.4522 - val_mean_absolute_error: 886.4522\n",
      "Epoch 96/200\n",
      "25/25 [==============================] - 0s 2ms/step - loss: 935.0286 - mean_absolute_error: 935.0286 - val_loss: 884.8940 - val_mean_absolute_error: 884.8940\n",
      "Epoch 97/200\n",
      "25/25 [==============================] - 0s 3ms/step - loss: 927.5712 - mean_absolute_error: 927.5712 - val_loss: 879.4086 - val_mean_absolute_error: 879.4086\n",
      "Epoch 98/200\n",
      "25/25 [==============================] - 0s 3ms/step - loss: 920.3730 - mean_absolute_error: 920.3730 - val_loss: 874.8663 - val_mean_absolute_error: 874.8663\n",
      "Epoch 99/200\n",
      "25/25 [==============================] - 0s 3ms/step - loss: 917.8689 - mean_absolute_error: 917.8689 - val_loss: 870.0962 - val_mean_absolute_error: 870.0962\n",
      "Epoch 100/200\n",
      "25/25 [==============================] - 0s 3ms/step - loss: 906.4013 - mean_absolute_error: 906.4013 - val_loss: 863.9559 - val_mean_absolute_error: 863.9559\n",
      "Epoch 101/200\n",
      "25/25 [==============================] - 0s 2ms/step - loss: 901.2095 - mean_absolute_error: 901.2095 - val_loss: 864.3716 - val_mean_absolute_error: 864.3716\n",
      "Epoch 102/200\n",
      "25/25 [==============================] - 0s 3ms/step - loss: 894.2258 - mean_absolute_error: 894.2258 - val_loss: 854.3320 - val_mean_absolute_error: 854.3320\n",
      "Epoch 103/200\n",
      "25/25 [==============================] - 0s 3ms/step - loss: 887.1962 - mean_absolute_error: 887.1962 - val_loss: 852.9985 - val_mean_absolute_error: 852.9985\n",
      "Epoch 104/200\n",
      "25/25 [==============================] - 0s 3ms/step - loss: 879.8924 - mean_absolute_error: 879.8924 - val_loss: 846.7531 - val_mean_absolute_error: 846.7531\n",
      "Epoch 105/200\n",
      "25/25 [==============================] - 0s 5ms/step - loss: 870.4969 - mean_absolute_error: 870.4969 - val_loss: 844.0094 - val_mean_absolute_error: 844.0094\n",
      "Epoch 106/200\n",
      "25/25 [==============================] - 0s 2ms/step - loss: 866.0880 - mean_absolute_error: 866.0880 - val_loss: 840.1470 - val_mean_absolute_error: 840.1470\n",
      "Epoch 107/200\n",
      "25/25 [==============================] - 0s 2ms/step - loss: 863.5740 - mean_absolute_error: 863.5740 - val_loss: 842.5117 - val_mean_absolute_error: 842.5117\n",
      "Epoch 108/200\n",
      "25/25 [==============================] - 0s 3ms/step - loss: 851.7796 - mean_absolute_error: 851.7796 - val_loss: 837.2562 - val_mean_absolute_error: 837.2562\n",
      "Epoch 109/200\n",
      "25/25 [==============================] - 0s 3ms/step - loss: 848.5151 - mean_absolute_error: 848.5151 - val_loss: 827.2374 - val_mean_absolute_error: 827.2374\n",
      "Epoch 110/200\n",
      "25/25 [==============================] - 0s 3ms/step - loss: 843.9180 - mean_absolute_error: 843.9180 - val_loss: 828.7946 - val_mean_absolute_error: 828.7946\n",
      "Epoch 111/200\n",
      "25/25 [==============================] - 0s 3ms/step - loss: 833.8067 - mean_absolute_error: 833.8067 - val_loss: 825.7820 - val_mean_absolute_error: 825.7820\n",
      "Epoch 112/200\n",
      "25/25 [==============================] - 0s 3ms/step - loss: 824.5304 - mean_absolute_error: 824.5304 - val_loss: 830.0717 - val_mean_absolute_error: 830.0717\n",
      "Epoch 113/200\n",
      "25/25 [==============================] - 0s 3ms/step - loss: 819.8845 - mean_absolute_error: 819.8845 - val_loss: 825.2054 - val_mean_absolute_error: 825.2054\n",
      "Epoch 114/200\n",
      "25/25 [==============================] - 0s 3ms/step - loss: 815.5605 - mean_absolute_error: 815.5605 - val_loss: 821.7745 - val_mean_absolute_error: 821.7745\n",
      "Epoch 115/200\n",
      "25/25 [==============================] - 0s 2ms/step - loss: 806.3268 - mean_absolute_error: 806.3268 - val_loss: 825.3483 - val_mean_absolute_error: 825.3483\n",
      "Epoch 116/200\n",
      "25/25 [==============================] - 0s 3ms/step - loss: 797.3476 - mean_absolute_error: 797.3476 - val_loss: 820.1169 - val_mean_absolute_error: 820.1169\n",
      "Epoch 117/200\n",
      "25/25 [==============================] - 0s 3ms/step - loss: 792.4217 - mean_absolute_error: 792.4217 - val_loss: 814.0256 - val_mean_absolute_error: 814.0256\n",
      "Epoch 118/200\n",
      "25/25 [==============================] - 0s 3ms/step - loss: 788.1371 - mean_absolute_error: 788.1371 - val_loss: 817.1448 - val_mean_absolute_error: 817.1448\n",
      "Epoch 119/200\n",
      "25/25 [==============================] - 0s 3ms/step - loss: 783.4665 - mean_absolute_error: 783.4665 - val_loss: 812.9813 - val_mean_absolute_error: 812.9813\n",
      "Epoch 120/200\n",
      "25/25 [==============================] - 0s 3ms/step - loss: 776.0108 - mean_absolute_error: 776.0108 - val_loss: 804.9763 - val_mean_absolute_error: 804.9763\n",
      "Epoch 121/200\n",
      "25/25 [==============================] - 0s 3ms/step - loss: 772.5162 - mean_absolute_error: 772.5162 - val_loss: 801.9982 - val_mean_absolute_error: 801.9982\n",
      "Epoch 122/200\n",
      "25/25 [==============================] - 0s 3ms/step - loss: 760.4489 - mean_absolute_error: 760.4489 - val_loss: 801.2132 - val_mean_absolute_error: 801.2132\n",
      "Epoch 123/200\n",
      "25/25 [==============================] - 0s 3ms/step - loss: 754.8645 - mean_absolute_error: 754.8645 - val_loss: 802.1244 - val_mean_absolute_error: 802.1244\n",
      "Epoch 124/200\n",
      "25/25 [==============================] - 0s 3ms/step - loss: 751.1809 - mean_absolute_error: 751.1809 - val_loss: 800.5701 - val_mean_absolute_error: 800.5701\n",
      "Epoch 125/200\n",
      "25/25 [==============================] - 0s 4ms/step - loss: 742.9178 - mean_absolute_error: 742.9178 - val_loss: 799.6294 - val_mean_absolute_error: 799.6294\n",
      "Epoch 126/200\n",
      "25/25 [==============================] - 0s 3ms/step - loss: 744.0930 - mean_absolute_error: 744.0930 - val_loss: 800.8599 - val_mean_absolute_error: 800.8599\n",
      "Epoch 127/200\n",
      "25/25 [==============================] - 0s 3ms/step - loss: 735.9399 - mean_absolute_error: 735.9399 - val_loss: 794.6922 - val_mean_absolute_error: 794.6922\n",
      "Epoch 128/200\n",
      "25/25 [==============================] - 0s 3ms/step - loss: 722.7473 - mean_absolute_error: 722.7473 - val_loss: 791.8879 - val_mean_absolute_error: 791.8879\n",
      "Epoch 129/200\n",
      "25/25 [==============================] - 0s 3ms/step - loss: 720.8008 - mean_absolute_error: 720.8008 - val_loss: 793.2982 - val_mean_absolute_error: 793.2982\n",
      "Epoch 130/200\n",
      "25/25 [==============================] - 0s 3ms/step - loss: 713.3948 - mean_absolute_error: 713.3948 - val_loss: 788.8817 - val_mean_absolute_error: 788.8817\n",
      "Epoch 131/200\n",
      "25/25 [==============================] - 0s 3ms/step - loss: 709.4537 - mean_absolute_error: 709.4537 - val_loss: 786.1875 - val_mean_absolute_error: 786.1875\n",
      "Epoch 132/200\n",
      "25/25 [==============================] - 0s 3ms/step - loss: 703.7637 - mean_absolute_error: 703.7637 - val_loss: 780.3069 - val_mean_absolute_error: 780.3069\n",
      "Epoch 133/200\n",
      "25/25 [==============================] - 0s 3ms/step - loss: 696.0792 - mean_absolute_error: 696.0792 - val_loss: 780.7902 - val_mean_absolute_error: 780.7902\n",
      "Epoch 134/200\n",
      "25/25 [==============================] - 0s 3ms/step - loss: 698.4346 - mean_absolute_error: 698.4346 - val_loss: 780.5903 - val_mean_absolute_error: 780.5903\n",
      "Epoch 135/200\n",
      "25/25 [==============================] - 0s 3ms/step - loss: 686.1921 - mean_absolute_error: 686.1921 - val_loss: 774.2579 - val_mean_absolute_error: 774.2579\n",
      "Epoch 136/200\n",
      "25/25 [==============================] - 0s 3ms/step - loss: 689.9394 - mean_absolute_error: 689.9394 - val_loss: 773.6865 - val_mean_absolute_error: 773.6865\n",
      "Epoch 137/200\n",
      "25/25 [==============================] - 0s 3ms/step - loss: 684.6001 - mean_absolute_error: 684.6001 - val_loss: 775.1877 - val_mean_absolute_error: 775.1877\n",
      "Epoch 138/200\n",
      "25/25 [==============================] - 0s 3ms/step - loss: 676.9717 - mean_absolute_error: 676.9717 - val_loss: 774.4254 - val_mean_absolute_error: 774.4254\n",
      "Epoch 139/200\n",
      "25/25 [==============================] - 0s 3ms/step - loss: 675.4316 - mean_absolute_error: 675.4316 - val_loss: 773.5552 - val_mean_absolute_error: 773.5552\n",
      "Epoch 140/200\n",
      "25/25 [==============================] - 0s 3ms/step - loss: 666.4391 - mean_absolute_error: 666.4391 - val_loss: 774.9315 - val_mean_absolute_error: 774.9315\n",
      "Epoch 141/200\n",
      "25/25 [==============================] - 0s 3ms/step - loss: 658.7793 - mean_absolute_error: 658.7793 - val_loss: 770.1984 - val_mean_absolute_error: 770.1984\n",
      "Epoch 142/200\n",
      "25/25 [==============================] - 0s 3ms/step - loss: 663.4012 - mean_absolute_error: 663.4012 - val_loss: 765.3767 - val_mean_absolute_error: 765.3767\n",
      "Epoch 143/200\n",
      "25/25 [==============================] - 0s 6ms/step - loss: 652.5810 - mean_absolute_error: 652.5810 - val_loss: 766.2836 - val_mean_absolute_error: 766.2836\n",
      "Epoch 144/200\n",
      "25/25 [==============================] - 0s 3ms/step - loss: 651.3267 - mean_absolute_error: 651.3267 - val_loss: 767.4441 - val_mean_absolute_error: 767.4441\n",
      "Epoch 145/200\n",
      "25/25 [==============================] - 0s 3ms/step - loss: 652.8086 - mean_absolute_error: 652.8086 - val_loss: 770.3816 - val_mean_absolute_error: 770.3816\n",
      "Epoch 146/200\n",
      "25/25 [==============================] - 0s 3ms/step - loss: 651.6414 - mean_absolute_error: 651.6414 - val_loss: 766.6718 - val_mean_absolute_error: 766.6718\n",
      "Epoch 147/200\n",
      "25/25 [==============================] - 0s 3ms/step - loss: 633.9060 - mean_absolute_error: 633.9060 - val_loss: 766.9344 - val_mean_absolute_error: 766.9344\n"
     ]
    }
   ],
   "source": [
    "from tensorflow.keras.callbacks import EarlyStopping\n",
    "\n",
    "callbacks = [EarlyStopping(monitor='val_loss', patience=5, restore_best_weights=True)]\n",
    "\n",
    "# Assuming you have already split your data into X_train, X_val, y_train, y_val\n",
    "history = model.fit(X_train, y_train, epochs=200, batch_size=32,\n",
    "                    validation_data=(X_test, y_test), callbacks=callbacks)\n"
   ]
  },
  {
   "cell_type": "code",
   "execution_count": 325,
   "metadata": {},
   "outputs": [
    {
     "name": "stderr",
     "output_type": "stream",
     "text": [
      "/Users/namanmuktha/anaconda3/lib/python3.11/site-packages/keras/src/engine/training.py:3103: UserWarning: You are saving your model as an HDF5 file via `model.save()`. This file format is considered legacy. We recommend using instead the native Keras format, e.g. `model.save('my_model.keras')`.\n",
      "  saving_api.save_model(\n"
     ]
    }
   ],
   "source": [
    "model.save('my_model.h5')"
   ]
  },
  {
   "cell_type": "code",
   "execution_count": 483,
   "metadata": {},
   "outputs": [
    {
     "name": "stdout",
     "output_type": "stream",
     "text": [
      "7/7 - 0s - loss: 765.3767 - mean_absolute_error: 765.3767 - 21ms/epoch - 3ms/step\n",
      "Test MSE: [765.376708984375, 765.376708984375]\n"
     ]
    },
    {
     "data": {
      "image/png": "[encoded data removed]",
      "text/plain": [
       "<Figure size 640x480 with 1 Axes>"
      ]
     },
     "metadata": {},
     "output_type": "display_data"
    }
   ],
   "source": [
    "# Evaluate the model on the test data\n",
    "test_loss = model.evaluate(X_test, y_test, verbose=2)\n",
    "print(f\"Test MSE: {test_loss}\")\n",
    "\n",
    "# Plot training & validation loss values\n",
    "plt.plot(history.history['loss'])\n",
    "plt.plot(history.history['val_loss'])\n",
    "plt.title('Model loss')\n",
    "plt.ylabel('Loss')\n",
    "plt.xlabel('Epoch')\n",
    "plt.legend(['Train', 'Test'], loc='upper left')\n",
    "plt.show()\n"
   ]
  },
  {
   "cell_type": "code",
   "execution_count": 484,
   "metadata": {},
   "outputs": [
    {
     "name": "stdout",
     "output_type": "stream",
     "text": [
      "7/7 [==============================] - 0s 773us/step\n"
     ]
    }
   ],
   "source": [
    "smp=model.predict(X_test)"
   ]
  },
  {
   "cell_type": "code",
   "execution_count": 485,
   "metadata": {},
   "outputs": [
    {
     "data": {
      "text/plain": [
       "array([[ 930.6801  ],\n",
       "       [ 669.41266 ],\n",
       "       [ 645.5522  ],\n",
       "       [1094.5088  ],\n",
       "       [ 996.191   ],\n",
       "       [ 782.10187 ],\n",
       "       [ 410.4447  ],\n",
       "       [1101.8291  ],\n",
       "       [ 128.33905 ],\n",
       "       [  96.228455],\n",
       "       [ 473.88153 ],\n",
       "       [1105.4557  ],\n",
       "       [ 178.21793 ],\n",
       "       [ 772.51935 ],\n",
       "       [ 561.4366  ],\n",
       "       [ 835.70514 ],\n",
       "       [ 614.02203 ],\n",
       "       [ 320.8994  ],\n",
       "       [ 582.1466  ],\n",
       "       [ 208.49782 ],\n",
       "       [ 185.78346 ],\n",
       "       [ 816.43427 ],\n",
       "       [1017.7357  ],\n",
       "       [ 647.8274  ],\n",
       "       [ 818.3545  ],\n",
       "       [ 860.6017  ],\n",
       "       [ 593.52856 ],\n",
       "       [1089.7797  ],\n",
       "       [1046.1455  ],\n",
       "       [ 634.0011  ],\n",
       "       [ 262.64352 ],\n",
       "       [ 621.47144 ],\n",
       "       [ 425.83627 ],\n",
       "       [ 421.3607  ],\n",
       "       [ 613.34296 ],\n",
       "       [ 464.47253 ],\n",
       "       [ 393.10776 ],\n",
       "       [ 437.63486 ],\n",
       "       [ 301.18918 ],\n",
       "       [ 569.6585  ],\n",
       "       [ 565.8357  ],\n",
       "       [1066.1364  ],\n",
       "       [ 493.48483 ],\n",
       "       [ 607.21893 ],\n",
       "       [ 508.45682 ],\n",
       "       [ 470.5792  ],\n",
       "       [ 600.7599  ],\n",
       "       [ 723.8686  ],\n",
       "       [ 607.19293 ],\n",
       "       [ 263.59146 ],\n",
       "       [ 150.64984 ],\n",
       "       [ 536.3094  ],\n",
       "       [ 908.5319  ],\n",
       "       [ 449.8933  ],\n",
       "       [ 693.8015  ],\n",
       "       [ 906.6707  ],\n",
       "       [ 674.0356  ],\n",
       "       [ 757.67645 ],\n",
       "       [1235.6661  ],\n",
       "       [1094.631   ],\n",
       "       [ 571.7833  ],\n",
       "       [ 603.0254  ],\n",
       "       [ 939.62085 ],\n",
       "       [ 398.10928 ],\n",
       "       [1086.8632  ],\n",
       "       [1059.8741  ],\n",
       "       [ 654.3944  ],\n",
       "       [1144.0704  ],\n",
       "       [1031.0637  ],\n",
       "       [ 646.5623  ],\n",
       "       [ 688.7654  ],\n",
       "       [ 586.32697 ],\n",
       "       [ 367.8564  ],\n",
       "       [ 593.78107 ],\n",
       "       [1086.938   ],\n",
       "       [1059.2848  ],\n",
       "       [ 777.36804 ],\n",
       "       [ 551.2069  ],\n",
       "       [ 155.67953 ],\n",
       "       [ 228.18051 ],\n",
       "       [1055.6608  ],\n",
       "       [ 463.9606  ],\n",
       "       [ 342.41415 ],\n",
       "       [ 635.31067 ],\n",
       "       [ 524.03705 ],\n",
       "       [ 991.29724 ],\n",
       "       [ 157.29395 ],\n",
       "       [ 999.9626  ],\n",
       "       [1095.6566  ],\n",
       "       [ 513.97394 ],\n",
       "       [1132.3312  ],\n",
       "       [1267.4757  ],\n",
       "       [1210.2296  ],\n",
       "       [ 469.76743 ],\n",
       "       [ 638.58014 ],\n",
       "       [1308.3833  ],\n",
       "       [ 573.3492  ],\n",
       "       [ 239.50278 ],\n",
       "       [ 598.2131  ],\n",
       "       [1170.9486  ],\n",
       "       [ 166.29315 ],\n",
       "       [ 321.20602 ],\n",
       "       [1183.5096  ],\n",
       "       [ 280.1859  ],\n",
       "       [1019.5093  ],\n",
       "       [ 371.19156 ],\n",
       "       [ 700.6183  ],\n",
       "       [ 237.6311  ],\n",
       "       [1247.1119  ],\n",
       "       [ 552.7403  ],\n",
       "       [ 595.0937  ],\n",
       "       [ 417.462   ],\n",
       "       [ 388.38318 ],\n",
       "       [1103.2867  ],\n",
       "       [ 730.0048  ],\n",
       "       [ 575.5004  ],\n",
       "       [ 996.6988  ],\n",
       "       [1180.0576  ],\n",
       "       [ 452.62875 ],\n",
       "       [ 507.54562 ],\n",
       "       [1083.213   ],\n",
       "       [1087.4791  ],\n",
       "       [1132.3329  ],\n",
       "       [ 573.4882  ],\n",
       "       [ 578.85785 ],\n",
       "       [ 360.26102 ],\n",
       "       [1014.92053 ],\n",
       "       [ 527.7369  ],\n",
       "       [ 321.3464  ],\n",
       "       [ 219.95578 ],\n",
       "       [ 644.0722  ],\n",
       "       [ 166.93109 ],\n",
       "       [ 811.2933  ],\n",
       "       [1195.2212  ],\n",
       "       [ 480.29022 ],\n",
       "       [ 512.05133 ],\n",
       "       [ 277.8302  ],\n",
       "       [ 476.73706 ],\n",
       "       [ 225.89859 ],\n",
       "       [ 555.2762  ],\n",
       "       [ 922.18396 ],\n",
       "       [ 222.04756 ],\n",
       "       [ 314.89615 ],\n",
       "       [ 736.3733  ],\n",
       "       [ 580.4191  ],\n",
       "       [ 607.0858  ],\n",
       "       [ 882.987   ],\n",
       "       [ 464.1547  ],\n",
       "       [ 770.3708  ],\n",
       "       [ 683.9363  ],\n",
       "       [1325.1118  ],\n",
       "       [1182.5338  ],\n",
       "       [ 578.6635  ],\n",
       "       [ 248.88626 ],\n",
       "       [ 620.3465  ],\n",
       "       [ 305.75687 ],\n",
       "       [1140.2631  ],\n",
       "       [1074.9615  ],\n",
       "       [ 584.763   ],\n",
       "       [ 773.71655 ],\n",
       "       [ 103.20517 ],\n",
       "       [ 224.27724 ],\n",
       "       [ 326.44983 ],\n",
       "       [ 829.159   ],\n",
       "       [ 654.7772  ],\n",
       "       [ 920.2256  ],\n",
       "       [ 553.7451  ],\n",
       "       [ 370.17886 ],\n",
       "       [1080.6781  ],\n",
       "       [ 775.8707  ],\n",
       "       [ 507.58978 ],\n",
       "       [ 723.6025  ],\n",
       "       [ 925.29376 ],\n",
       "       [ 575.7531  ],\n",
       "       [1161.9496  ],\n",
       "       [ 963.55615 ],\n",
       "       [ 685.8698  ],\n",
       "       [ 534.7994  ],\n",
       "       [ 395.08667 ],\n",
       "       [ 788.52716 ],\n",
       "       [ 160.75821 ],\n",
       "       [ 564.15826 ],\n",
       "       [ 360.99716 ],\n",
       "       [ 521.7351  ],\n",
       "       [ 483.56137 ],\n",
       "       [ 496.76053 ],\n",
       "       [ 653.86365 ],\n",
       "       [ 743.2646  ],\n",
       "       [ 631.10144 ],\n",
       "       [ 187.41635 ],\n",
       "       [1104.8368  ],\n",
       "       [ 568.4483  ],\n",
       "       [1030.6704  ],\n",
       "       [ 614.32074 ],\n",
       "       [ 414.8876  ],\n",
       "       [ 687.8883  ],\n",
       "       [1231.4635  ],\n",
       "       [ 599.30426 ],\n",
       "       [ 227.25468 ],\n",
       "       [1266.0482  ]], dtype=float32)"
      ]
     },
     "execution_count": 485,
     "metadata": {},
     "output_type": "execute_result"
    },
    {
     "ename": "",
     "evalue": "",
     "output_type": "error",
     "traceback": [
      "\u001b[1;31mThe Kernel crashed while executing code in the current cell or a previous cell. \n",
      "\u001b[1;31mPlease review the code in the cell(s) to identify a possible cause of the failure. \n",
      "\u001b[1;31mClick <a href='https://aka.ms/vscodeJupyterKernelCrash'>here</a> for more info. \n",
      "\u001b[1;31mView Jupyter <a href='command:jupyter.viewOutput'>log</a> for further details."
     ]
    }
   ],
   "source": [
    "smp"
   ]
  },
  {
   "cell_type": "code",
   "execution_count": 438,
   "metadata": {},
   "outputs": [
    {
     "data": {
      "text/plain": [
       "521    1400.000000\n",
       "737     590.551180\n",
       "740      39.370079\n",
       "660     393.700787\n",
       "411     826.771653\n",
       "          ...     \n",
       "408     354.330708\n",
       "332    8400.000000\n",
       "208     875.000000\n",
       "613     590.551180\n",
       "78     1800.000000\n",
       "Name: PRODUCT_LENGTH, Length: 200, dtype: float64"
      ]
     },
     "execution_count": 438,
     "metadata": {},
     "output_type": "execute_result"
    }
   ],
   "source": [
    "y_test"
   ]
  },
  {
   "cell_type": "code",
   "execution_count": 326,
   "metadata": {},
   "outputs": [],
   "source": [
    "import joblib\n",
    "\n",
    "# Assuming these objects have been properly defined and trained elsewhere in your code\n",
    "# svd_model, scaler, lemmatizer, stop_words, adding_stemming, model\n",
    "\n",
    "# Save the TruncatedSVD model\n",
    "joblib.dump(svd, 'svd_model.pkl')\n",
    "\n",
    "# Save the scaler\n",
    "joblib.dump(scaler, 'scaler.pkl')\n",
    "\n",
    "# Save the lemmatizer\n",
    "#joblib.dump(lemmatizer, 'lemmatizer.pkl')\n",
    "\n",
    "# Save the stop words set\n",
    "#joblib.dump(stop_words, 'stop_words.pkl')\n",
    "\n",
    "# Save the stemming function (ensure this function is defined in a way that it can be serialized)\n",
    "#joblib.dump(adding_stemming, 'stemming_function.pkl')\n",
    "\n",
    "# Save the trained Keras model\n",
    "model.save('trained_model.h5')  # Note: Use .h5 for Keras models specifically\n"
   ]
  },
  {
   "cell_type": "code",
   "execution_count": 327,
   "metadata": {},
   "outputs": [
    {
     "data": {
      "text/plain": [
       "['glove_model.pkl']"
      ]
     },
     "execution_count": 327,
     "metadata": {},
     "output_type": "execute_result"
    }
   ],
   "source": [
    "joblib.dump(, 'glove_model.pkl')"
   ]
  },
  {
   "cell_type": "code",
   "execution_count": 64,
   "metadata": {},
   "outputs": [
    {
     "ename": "AttributeError",
     "evalue": "Can't get attribute 'adding_stemming' on <module '__main__'>",
     "output_type": "error",
     "traceback": [
      "\u001b[0;31m---------------------------------------------------------------------------\u001b[0m",
      "\u001b[0;31mAttributeError\u001b[0m                            Traceback (most recent call last)",
      "Cell \u001b[0;32mIn[64], line 19\u001b[0m\n\u001b[1;32m     17\u001b[0m lemmatizer \u001b[38;5;241m=\u001b[39m joblib\u001b[38;5;241m.\u001b[39mload(\u001b[38;5;124m'\u001b[39m\u001b[38;5;124mlemmatizer.pkl\u001b[39m\u001b[38;5;124m'\u001b[39m)  \u001b[38;5;66;03m# Load your lemmatizer if you've saved one\u001b[39;00m\n\u001b[1;32m     18\u001b[0m stop_words \u001b[38;5;241m=\u001b[39m \u001b[38;5;28mset\u001b[39m(joblib\u001b[38;5;241m.\u001b[39mload(\u001b[38;5;124m'\u001b[39m\u001b[38;5;124mstop_words.pkl\u001b[39m\u001b[38;5;124m'\u001b[39m))  \u001b[38;5;66;03m# Load your set of stop words\u001b[39;00m\n\u001b[0;32m---> 19\u001b[0m adding_stemming \u001b[38;5;241m=\u001b[39m joblib\u001b[38;5;241m.\u001b[39mload(\u001b[38;5;124m'\u001b[39m\u001b[38;5;124mstemming_function.pkl\u001b[39m\u001b[38;5;124m'\u001b[39m)  \u001b[38;5;66;03m# Assuming this is a function you've defined and saved\u001b[39;00m\n\u001b[1;32m     20\u001b[0m \u001b[38;5;66;03m#model = joblib.load('trained_model.pkl')  # Load your trained Keras model\u001b[39;00m\n\u001b[1;32m     22\u001b[0m \u001b[38;5;28;01mdef\u001b[39;00m \u001b[38;5;21mdocument_vector\u001b[39m(words):\n",
      "File \u001b[0;32m~/anaconda3/lib/python3.11/site-packages/joblib/numpy_pickle.py:658\u001b[0m, in \u001b[0;36mload\u001b[0;34m(filename, mmap_mode)\u001b[0m\n\u001b[1;32m    652\u001b[0m             \u001b[38;5;28;01mif\u001b[39;00m \u001b[38;5;28misinstance\u001b[39m(fobj, \u001b[38;5;28mstr\u001b[39m):\n\u001b[1;32m    653\u001b[0m                 \u001b[38;5;66;03m# if the returned file object is a string, this means we\u001b[39;00m\n\u001b[1;32m    654\u001b[0m                 \u001b[38;5;66;03m# try to load a pickle file generated with an version of\u001b[39;00m\n\u001b[1;32m    655\u001b[0m                 \u001b[38;5;66;03m# Joblib so we load it with joblib compatibility function.\u001b[39;00m\n\u001b[1;32m    656\u001b[0m                 \u001b[38;5;28;01mreturn\u001b[39;00m load_compatibility(fobj)\n\u001b[0;32m--> 658\u001b[0m             obj \u001b[38;5;241m=\u001b[39m _unpickle(fobj, filename, mmap_mode)\n\u001b[1;32m    659\u001b[0m \u001b[38;5;28;01mreturn\u001b[39;00m obj\n",
      "File \u001b[0;32m~/anaconda3/lib/python3.11/site-packages/joblib/numpy_pickle.py:577\u001b[0m, in \u001b[0;36m_unpickle\u001b[0;34m(fobj, filename, mmap_mode)\u001b[0m\n\u001b[1;32m    575\u001b[0m obj \u001b[38;5;241m=\u001b[39m \u001b[38;5;28;01mNone\u001b[39;00m\n\u001b[1;32m    576\u001b[0m \u001b[38;5;28;01mtry\u001b[39;00m:\n\u001b[0;32m--> 577\u001b[0m     obj \u001b[38;5;241m=\u001b[39m unpickler\u001b[38;5;241m.\u001b[39mload()\n\u001b[1;32m    578\u001b[0m     \u001b[38;5;28;01mif\u001b[39;00m unpickler\u001b[38;5;241m.\u001b[39mcompat_mode:\n\u001b[1;32m    579\u001b[0m         warnings\u001b[38;5;241m.\u001b[39mwarn(\u001b[38;5;124m\"\u001b[39m\u001b[38;5;124mThe file \u001b[39m\u001b[38;5;124m'\u001b[39m\u001b[38;5;132;01m%s\u001b[39;00m\u001b[38;5;124m'\u001b[39m\u001b[38;5;124m has been generated with a \u001b[39m\u001b[38;5;124m\"\u001b[39m\n\u001b[1;32m    580\u001b[0m                       \u001b[38;5;124m\"\u001b[39m\u001b[38;5;124mjoblib version less than 0.10. \u001b[39m\u001b[38;5;124m\"\u001b[39m\n\u001b[1;32m    581\u001b[0m                       \u001b[38;5;124m\"\u001b[39m\u001b[38;5;124mPlease regenerate this pickle file.\u001b[39m\u001b[38;5;124m\"\u001b[39m\n\u001b[1;32m    582\u001b[0m                       \u001b[38;5;241m%\u001b[39m filename,\n\u001b[1;32m    583\u001b[0m                       \u001b[38;5;167;01mDeprecationWarning\u001b[39;00m, stacklevel\u001b[38;5;241m=\u001b[39m\u001b[38;5;241m3\u001b[39m)\n",
      "File \u001b[0;32m~/anaconda3/lib/python3.11/pickle.py:1213\u001b[0m, in \u001b[0;36m_Unpickler.load\u001b[0;34m(self)\u001b[0m\n\u001b[1;32m   1211\u001b[0m             \u001b[38;5;28;01mraise\u001b[39;00m \u001b[38;5;167;01mEOFError\u001b[39;00m\n\u001b[1;32m   1212\u001b[0m         \u001b[38;5;28;01massert\u001b[39;00m \u001b[38;5;28misinstance\u001b[39m(key, bytes_types)\n\u001b[0;32m-> 1213\u001b[0m         dispatch[key[\u001b[38;5;241m0\u001b[39m]](\u001b[38;5;28mself\u001b[39m)\n\u001b[1;32m   1214\u001b[0m \u001b[38;5;28;01mexcept\u001b[39;00m _Stop \u001b[38;5;28;01mas\u001b[39;00m stopinst:\n\u001b[1;32m   1215\u001b[0m     \u001b[38;5;28;01mreturn\u001b[39;00m stopinst\u001b[38;5;241m.\u001b[39mvalue\n",
      "File \u001b[0;32m~/anaconda3/lib/python3.11/pickle.py:1538\u001b[0m, in \u001b[0;36m_Unpickler.load_stack_global\u001b[0;34m(self)\u001b[0m\n\u001b[1;32m   1536\u001b[0m \u001b[38;5;28;01mif\u001b[39;00m \u001b[38;5;28mtype\u001b[39m(name) \u001b[38;5;129;01mis\u001b[39;00m \u001b[38;5;129;01mnot\u001b[39;00m \u001b[38;5;28mstr\u001b[39m \u001b[38;5;129;01mor\u001b[39;00m \u001b[38;5;28mtype\u001b[39m(module) \u001b[38;5;129;01mis\u001b[39;00m \u001b[38;5;129;01mnot\u001b[39;00m \u001b[38;5;28mstr\u001b[39m:\n\u001b[1;32m   1537\u001b[0m     \u001b[38;5;28;01mraise\u001b[39;00m UnpicklingError(\u001b[38;5;124m\"\u001b[39m\u001b[38;5;124mSTACK_GLOBAL requires str\u001b[39m\u001b[38;5;124m\"\u001b[39m)\n\u001b[0;32m-> 1538\u001b[0m \u001b[38;5;28mself\u001b[39m\u001b[38;5;241m.\u001b[39mappend(\u001b[38;5;28mself\u001b[39m\u001b[38;5;241m.\u001b[39mfind_class(module, name))\n",
      "File \u001b[0;32m~/anaconda3/lib/python3.11/pickle.py:1582\u001b[0m, in \u001b[0;36m_Unpickler.find_class\u001b[0;34m(self, module, name)\u001b[0m\n\u001b[1;32m   1580\u001b[0m \u001b[38;5;28m__import__\u001b[39m(module, level\u001b[38;5;241m=\u001b[39m\u001b[38;5;241m0\u001b[39m)\n\u001b[1;32m   1581\u001b[0m \u001b[38;5;28;01mif\u001b[39;00m \u001b[38;5;28mself\u001b[39m\u001b[38;5;241m.\u001b[39mproto \u001b[38;5;241m>\u001b[39m\u001b[38;5;241m=\u001b[39m \u001b[38;5;241m4\u001b[39m:\n\u001b[0;32m-> 1582\u001b[0m     \u001b[38;5;28;01mreturn\u001b[39;00m _getattribute(sys\u001b[38;5;241m.\u001b[39mmodules[module], name)[\u001b[38;5;241m0\u001b[39m]\n\u001b[1;32m   1583\u001b[0m \u001b[38;5;28;01melse\u001b[39;00m:\n\u001b[1;32m   1584\u001b[0m     \u001b[38;5;28;01mreturn\u001b[39;00m \u001b[38;5;28mgetattr\u001b[39m(sys\u001b[38;5;241m.\u001b[39mmodules[module], name)\n",
      "File \u001b[0;32m~/anaconda3/lib/python3.11/pickle.py:331\u001b[0m, in \u001b[0;36m_getattribute\u001b[0;34m(obj, name)\u001b[0m\n\u001b[1;32m    329\u001b[0m         obj \u001b[38;5;241m=\u001b[39m \u001b[38;5;28mgetattr\u001b[39m(obj, subpath)\n\u001b[1;32m    330\u001b[0m     \u001b[38;5;28;01mexcept\u001b[39;00m \u001b[38;5;167;01mAttributeError\u001b[39;00m:\n\u001b[0;32m--> 331\u001b[0m         \u001b[38;5;28;01mraise\u001b[39;00m \u001b[38;5;167;01mAttributeError\u001b[39;00m(\u001b[38;5;124m\"\u001b[39m\u001b[38;5;124mCan\u001b[39m\u001b[38;5;124m'\u001b[39m\u001b[38;5;124mt get attribute \u001b[39m\u001b[38;5;132;01m{!r}\u001b[39;00m\u001b[38;5;124m on \u001b[39m\u001b[38;5;132;01m{!r}\u001b[39;00m\u001b[38;5;124m\"\u001b[39m\n\u001b[1;32m    332\u001b[0m                              \u001b[38;5;241m.\u001b[39mformat(name, obj)) \u001b[38;5;28;01mfrom\u001b[39;00m \u001b[38;5;28;01mNone\u001b[39;00m\n\u001b[1;32m    333\u001b[0m \u001b[38;5;28;01mreturn\u001b[39;00m obj, parent\n",
      "\u001b[0;31mAttributeError\u001b[0m: Can't get attribute 'adding_stemming' on <module '__main__'>"
     ]
    }
   ],
   "source": [
    "import warnings\n",
    "warnings.filterwarnings(\"ignore\")\n",
    "import gensim.downloader as api\n",
    "import numpy as np\n",
    "import string\n",
    "import joblib\n",
    "from tensorflow.keras.callbacks import EarlyStopping\n",
    "from tensorflow.keras.models import load_model\n",
    "\n",
    "# Load the entire model back.\n",
    "restored_model = load_model('my_model.h5')\n",
    "\n",
    "# Load necessary assets\n",
    "glove_model = api.load(\"glove-wiki-gigaword-300\")  # Adjust dimensionality as necessary\n",
    "svd_model = joblib.load('svd_model.pkl')  # Your saved TruncatedSVD model\n",
    "scaler = joblib.load('scaler.pkl')  # Your saved scaler\n",
    "lemmatizer = joblib.load('lemmatizer.pkl')  # Load your lemmatizer if you've saved one\n",
    "stop_words = set(joblib.load('stop_words.pkl'))  # Load your set of stop words\n",
    "adding_stemming = joblib.load('stemming_function.pkl')  # Assuming this is a function you've defined and saved\n",
    "#model = joblib.load('trained_model.pkl')  # Load your trained Keras model\n",
    "\n",
    "def document_vector(words):\n",
    "    valid_words = [word for word in words if word in glove_model]\n",
    "    if not valid_words:\n",
    "        return np.zeros(glove_model.vector_size)\n",
    "    return np.mean(glove_model[valid_words], axis=0)\n",
    "\n",
    "def preprocess_text(text):\n",
    "    text = text.lower()\n",
    "    text = ''.join([c for c in text if c not in string.punctuation])\n",
    "    words = text.split()\n",
    "    words = [word for word in words if word not in stop_words]\n",
    "    words = [lemmatizer.lemmatize(word) for word in words]\n",
    "    words = adding_stemming(words)\n",
    "    return ' '.join(words)\n",
    "\n",
    "# Example preprocessing and vectorization for a new text\n",
    "#new_text = \"Twisted Swirl Vintage Blue Phone Case Compatible with iPhone 13,Orange Fluid Abstract Design Cover for Men Girl Women,Unique Soft TPU Bumper Case Cover\",\"[❤【Compatible mode】:This mobile phone case is only compatible with iPhone 13.It supports wireless charging. The precise cutout allows easy access to the charging port, buttons and camera.,❤【Screen & Camera Protection】: Made of high quality shockproof TPU material that protects against falls,drops ,scratches, bumps and more.The raised screen and camera edges help protect screen and camera from scratches.,❤【Clear Vivid Patterns】 : The Clear and fashionable patterns make your mobile phone look very personalized. Made with an unique printing technique, these patterns won’t rub off, fade or smudge.,❤【Perfect Gifts& Anti-yellow】: Fashionable and unique design and exquisite patterns are a good choice for gifts. High quality printing technology ensures that the pattern will not fade, turn yellow or fall off during use.,❤【After-sale Service】:Worry free after sales. If you have any questions, feel free to contact and we will reply within 24 hours.]\",\"<b>Welcome to our store. We aim to offer unique and special case for you. </b><br> <b>Compatibility</b><br> Compatible with iPhone 13. <br>This case is durable, sturdy and scratch-resistant, perfect for self use or gifts.<br> <b>Features</b><br> ❤Made of soft resilient TPU material, this case is durable and lightweight, easy to take on and off. <br> ❤Raised camera and screen edges provide best protection for phones from falls, scratches or bumps. <br>Designed with four air cushion corners, it perfectly mitigates pressure from drops o falls.<br> ❤Independent buttons and precise cutouts. <br>This case fits buttons, camera, speakers, and ports perfectly.<br> ❤The print is vivid and clear, making your phone look unique and and aesthetic. <br>We use supreme scratch resistant ink, the pattern will not peel over time.<br> <b>PACKAGE LIST</b><br> Including 1 x Phone Case<br>\"\n",
    "new_text = (\"Twisted Swirl Vintage Blue Phone Case Compatible with iPhone 13, Orange Fluid Abstract Design Cover for Men Girl Women, Unique Soft TPU Bumper Case Cover \"\n",
    "            \"[❤【Compatible mode】: This mobile phone case is only compatible with iPhone 13. It supports wireless charging. The precise cutout allows easy access to the charging port, buttons and camera. \"\n",
    "            \"❤【Screen & Camera Protection】: Made of high quality shockproof TPU material that protects against falls, drops, scratches, bumps and more. The raised screen and camera edges help protect screen and camera from scratches. \"\n",
    "            \"❤【Clear Vivid Patterns】: The Clear and fashionable patterns make your mobile phone look very personalized. Made with a unique printing technique, these patterns won’t rub off, fade or smudge. \"\n",
    "            \"❤【Perfect Gifts & Anti-yellow】: Fashionable and unique design and exquisite patterns are a good choice for gifts. High quality printing technology ensures that the pattern will not fade, turn yellow or fall off during use. \"\n",
    "            \"❤【After-sale Service】: Worry free after sales. If you have any questions, feel free to contact and we will reply within 24 hours. \"\n",
    "            \"<b>Welcome to our store. We aim to offer unique and special case for you. </b><br> <b>Compatibility</b><br> Compatible with iPhone 13. <br>This case is durable, sturdy and scratch-resistant, perfect for self use or gifts.<br> \"\n",
    "            \"<b>Features</b><br> ❤Made of soft resilient TPU material, this case is durable and lightweight, easy to take on and off. <br> ❤Raised camera and screen edges provide best protection for phones from falls, scratches or bumps. <br> \"\n",
    "            \"Designed with four air cushion corners, it perfectly mitigates pressure from drops or falls.<br> ❤Independent buttons and precise cutouts. <br>This case fits buttons, camera, speakers, and ports perfectly.<br> \"\n",
    "            \"❤The print is vivid and clear, making your phone look unique and aesthetic. <br>We use supreme scratch resistant ink, the pattern will not peel over time.<br> \"\n",
    "            \"<b>PACKAGE LIST</b><br> Including 1 x Phone Case<br>\")\n",
    "\n",
    "processed_words = preprocess_text(new_text)\n",
    "doc_vec = document_vector(processed_words.split())\n",
    "doc_vec = doc_vec.reshape(1, -1)  # Reshape for a single sample\n",
    "\n",
    "# Apply SVD and scaling\n",
    "reduced_vec = svd_model.transform(doc_vec)\n",
    "scaled_vec = scaler.transform(reduced_vec)\n",
    "\n",
    "# Prediction\n",
    "prediction = restored_model.predict(scaled_vec)\n",
    "print(\"Prediction:\", prediction)\n"
   ]
  },
  {
   "cell_type": "code",
   "execution_count": 33,
   "metadata": {},
   "outputs": [
    {
     "data": {
      "text/plain": [
       "('Twisted Swirl Vintage Blue Phone Case Compatible with iPhone 13,Orange Fluid Abstract Design Cover for Men Girl Women,Unique Soft TPU Bumper Case Cover',\n",
       " '[❤【Compatible mode】:This mobile phone case is only compatible with iPhone 13.It supports wireless charging. The precise cutout allows easy access to the charging port, buttons and camera.,❤【Screen & Camera Protection】: Made of high quality shockproof TPU material that protects against falls,drops ,scratches, bumps and more.The raised screen and camera edges help protect screen and camera from scratches.,❤【Clear Vivid Patterns】 : The Clear and fashionable patterns make your mobile phone look very personalized. Made with an unique printing technique, these patterns won’t rub off, fade or smudge.,❤【Perfect Gifts& Anti-yellow】: Fashionable and unique design and exquisite patterns are a good choice for gifts. High quality printing technology ensures that the pattern will not fade, turn yellow or fall off during use.,❤【After-sale Service】:Worry free after sales. If you have any questions, feel free to contact and we will reply within 24 hours.]',\n",
       " '<b>Welcome to our store. We aim to offer unique and special case for you. </b><br> <b>Compatibility</b><br> Compatible with iPhone 13. <br>This case is durable, sturdy and scratch-resistant, perfect for self use or gifts.<br> <b>Features</b><br> ❤Made of soft resilient TPU material, this case is durable and lightweight, easy to take on and off. <br> ❤Raised camera and screen edges provide best protection for phones from falls, scratches or bumps. <br>Designed with four air cushion corners, it perfectly mitigates pressure from drops o falls.<br> ❤Independent buttons and precise cutouts. <br>This case fits buttons, camera, speakers, and ports perfectly.<br> ❤The print is vivid and clear, making your phone look unique and and aesthetic. <br>We use supreme scratch resistant ink, the pattern will not peel over time.<br> <b>PACKAGE LIST</b><br> Including 1 x Phone Case<br>')"
      ]
     },
     "execution_count": 33,
     "metadata": {},
     "output_type": "execute_result"
    }
   ],
   "source": [
    "\"Twisted Swirl Vintage Blue Phone Case Compatible with iPhone 13,Orange Fluid Abstract Design Cover for Men Girl Women,Unique Soft TPU Bumper Case Cover\",\"[❤【Compatible mode】:This mobile phone case is only compatible with iPhone 13.It supports wireless charging. The precise cutout allows easy access to the charging port, buttons and camera.,❤【Screen & Camera Protection】: Made of high quality shockproof TPU material that protects against falls,drops ,scratches, bumps and more.The raised screen and camera edges help protect screen and camera from scratches.,❤【Clear Vivid Patterns】 : The Clear and fashionable patterns make your mobile phone look very personalized. Made with an unique printing technique, these patterns won’t rub off, fade or smudge.,❤【Perfect Gifts& Anti-yellow】: Fashionable and unique design and exquisite patterns are a good choice for gifts. High quality printing technology ensures that the pattern will not fade, turn yellow or fall off during use.,❤【After-sale Service】:Worry free after sales. If you have any questions, feel free to contact and we will reply within 24 hours.]\",\"<b>Welcome to our store. We aim to offer unique and special case for you. </b><br> <b>Compatibility</b><br> Compatible with iPhone 13. <br>This case is durable, sturdy and scratch-resistant, perfect for self use or gifts.<br> <b>Features</b><br> ❤Made of soft resilient TPU material, this case is durable and lightweight, easy to take on and off. <br> ❤Raised camera and screen edges provide best protection for phones from falls, scratches or bumps. <br>Designed with four air cushion corners, it perfectly mitigates pressure from drops o falls.<br> ❤Independent buttons and precise cutouts. <br>This case fits buttons, camera, speakers, and ports perfectly.<br> ❤The print is vivid and clear, making your phone look unique and and aesthetic. <br>We use supreme scratch resistant ink, the pattern will not peel over time.<br> <b>PACKAGE LIST</b><br> Including 1 x Phone Case<br>\""
   ]
  },
  {
   "cell_type": "code",
   "execution_count": 35,
   "metadata": {},
   "outputs": [
    {
     "ename": "NameError",
     "evalue": "name 'df' is not defined",
     "output_type": "error",
     "traceback": [
      "\u001b[0;31m---------------------------------------------------------------------------\u001b[0m",
      "\u001b[0;31mNameError\u001b[0m                                 Traceback (most recent call last)",
      "Cell \u001b[0;32mIn[35], line 1\u001b[0m\n\u001b[0;32m----> 1\u001b[0m df\u001b[38;5;241m.\u001b[39mhead()\n",
      "\u001b[0;31mNameError\u001b[0m: name 'df' is not defined"
     ]
    }
   ],
   "source": [
    "df.head()"
   ]
  },
  {
   "cell_type": "code",
   "execution_count": null,
   "metadata": {},
   "outputs": [],
   "source": [
    "\"Caroline's Treasures BB5451GF The Mountain is Waiting Flag Garden Size, Small, Multicolor [The Mountain is Waiting Flag Garden Size BB5451GF Ships from our store in Mobile, AL usually in 24-48 hours. Transit times are usually about 2-3 days.,Double Sided 2 Ply Heavy Weight Garden Flag Printed on Both Sides,This flag is fade resistant and weather proof and measures approximately 11 inches x 15 inches,Made in the USA,Caroline's Treasures products are made in the USA! Make sure to buy all of our products from an authorized US distributor.]\""
   ]
  },
  {
   "cell_type": "code",
   "execution_count": 22,
   "metadata": {},
   "outputs": [],
   "source": [
    "import torch"
   ]
  },
  {
   "cell_type": "code",
   "execution_count": 23,
   "metadata": {},
   "outputs": [],
   "source": [
    "from transformers import GPT2Tokenizer, GPT2Model"
   ]
  },
  {
   "cell_type": "code",
   "execution_count": 24,
   "metadata": {},
   "outputs": [
    {
     "data": {
      "text/html": [
       "<div>\n",
       "<style scoped>\n",
       "    .dataframe tbody tr th:only-of-type {\n",
       "        vertical-align: middle;\n",
       "    }\n",
       "\n",
       "    .dataframe tbody tr th {\n",
       "        vertical-align: top;\n",
       "    }\n",
       "\n",
       "    .dataframe thead th {\n",
       "        text-align: right;\n",
       "    }\n",
       "</style>\n",
       "<table border=\"1\" class=\"dataframe\">\n",
       "  <thead>\n",
       "    <tr style=\"text-align: right;\">\n",
       "      <th></th>\n",
       "      <th>PRODUCT_ID</th>\n",
       "      <th>TITLE</th>\n",
       "      <th>BULLET_POINTS</th>\n",
       "      <th>DESCRIPTION</th>\n",
       "      <th>PRODUCT_TYPE_ID</th>\n",
       "      <th>PRODUCT_LENGTH</th>\n",
       "    </tr>\n",
       "  </thead>\n",
       "  <tbody>\n",
       "    <tr>\n",
       "      <th>2</th>\n",
       "      <td>2765088</td>\n",
       "      <td>[priknik, horn, red, electric, air, horn, comp...</td>\n",
       "      <td>[loud, dual, tone, trumpet, horn, compatible, ...</td>\n",
       "      <td>[specifications, color, red, material, alumini...</td>\n",
       "      <td>7537</td>\n",
       "      <td>748.031495</td>\n",
       "    </tr>\n",
       "    <tr>\n",
       "      <th>3</th>\n",
       "      <td>1594019</td>\n",
       "      <td>[alishah, womens, cotton, ankle, length, leggi...</td>\n",
       "      <td>[made, 95cotton, 5, lycra, gives, 4, ways, str...</td>\n",
       "      <td>[aishah, womens, lycra, cotton, ankel, legging...</td>\n",
       "      <td>2996</td>\n",
       "      <td>787.401574</td>\n",
       "    </tr>\n",
       "    <tr>\n",
       "      <th>5</th>\n",
       "      <td>2152929</td>\n",
       "      <td>[hins, metal, bucket, shape, plant, pot, indoo...</td>\n",
       "      <td>[simple, elegant, great, displaying, indoor, p...</td>\n",
       "      <td>[hins, brings, elegant, looking, pot, stand, d...</td>\n",
       "      <td>5725</td>\n",
       "      <td>950.000000</td>\n",
       "    </tr>\n",
       "    <tr>\n",
       "      <th>7</th>\n",
       "      <td>2026580</td>\n",
       "      <td>[delavala, self, adhesive, kitchen, backsplash...</td>\n",
       "      <td>[high, quality, pvc, material, kitchen, alumin...</td>\n",
       "      <td>[pstrongaluminum, foil, stickersgood, kitchen,...</td>\n",
       "      <td>6030</td>\n",
       "      <td>984.251967</td>\n",
       "    </tr>\n",
       "    <tr>\n",
       "      <th>9</th>\n",
       "      <td>2998633</td>\n",
       "      <td>[hexwell, essential, oil, home, fragrance, oil...</td>\n",
       "      <td>[100, pure, natural, essential, oil, fragrance...</td>\n",
       "      <td>[transform, home, workplace, hotel, room, pers...</td>\n",
       "      <td>8201</td>\n",
       "      <td>393.700787</td>\n",
       "    </tr>\n",
       "  </tbody>\n",
       "</table>\n",
       "</div>"
      ],
      "text/plain": [
       "   PRODUCT_ID                                              TITLE  \\\n",
       "2     2765088  [priknik, horn, red, electric, air, horn, comp...   \n",
       "3     1594019  [alishah, womens, cotton, ankle, length, leggi...   \n",
       "5     2152929  [hins, metal, bucket, shape, plant, pot, indoo...   \n",
       "7     2026580  [delavala, self, adhesive, kitchen, backsplash...   \n",
       "9     2998633  [hexwell, essential, oil, home, fragrance, oil...   \n",
       "\n",
       "                                       BULLET_POINTS  \\\n",
       "2  [loud, dual, tone, trumpet, horn, compatible, ...   \n",
       "3  [made, 95cotton, 5, lycra, gives, 4, ways, str...   \n",
       "5  [simple, elegant, great, displaying, indoor, p...   \n",
       "7  [high, quality, pvc, material, kitchen, alumin...   \n",
       "9  [100, pure, natural, essential, oil, fragrance...   \n",
       "\n",
       "                                         DESCRIPTION  PRODUCT_TYPE_ID  \\\n",
       "2  [specifications, color, red, material, alumini...             7537   \n",
       "3  [aishah, womens, lycra, cotton, ankel, legging...             2996   \n",
       "5  [hins, brings, elegant, looking, pot, stand, d...             5725   \n",
       "7  [pstrongaluminum, foil, stickersgood, kitchen,...             6030   \n",
       "9  [transform, home, workplace, hotel, room, pers...             8201   \n",
       "\n",
       "   PRODUCT_LENGTH  \n",
       "2      748.031495  \n",
       "3      787.401574  \n",
       "5      950.000000  \n",
       "7      984.251967  \n",
       "9      393.700787  "
      ]
     },
     "execution_count": 24,
     "metadata": {},
     "output_type": "execute_result"
    }
   ],
   "source": [
    "df.head()"
   ]
  },
  {
   "cell_type": "code",
   "execution_count": null,
   "metadata": {},
   "outputs": [],
   "source": []
  }
 ],
 "metadata": {
  "kernelspec": {
   "display_name": "base",
   "language": "python",
   "name": "python3"
  },
  "language_info": {
   "codemirror_mode": {
    "name": "ipython",
    "version": 3
   },
   "file_extension": ".py",
   "mimetype": "text/x-python",
   "name": "python",
   "nbconvert_exporter": "python",
   "pygments_lexer": "ipython3",
   "version": "3.11.5"
  }
 },
 "nbformat": 4,
 "nbformat_minor": 2
}
