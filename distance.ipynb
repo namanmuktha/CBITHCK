{
 "cells": [
  {
   "cell_type": "code",
   "execution_count": 4,
   "metadata": {},
   "outputs": [
    {
     "ename": "",
     "evalue": "",
     "output_type": "error",
     "traceback": [
      "\u001b[1;31mThe Kernel crashed while executing code in the current cell or a previous cell. \n",
      "\u001b[1;31mPlease review the code in the cell(s) to identify a possible cause of the failure. \n",
      "\u001b[1;31mClick <a href='https://aka.ms/vscodeJupyterKernelCrash'>here</a> for more info. \n",
      "\u001b[1;31mView Jupyter <a href='command:jupyter.viewOutput'>log</a> for further details."
     ]
    }
   ],
   "source": [
    "import cv2\n",
    "import numpy as np\n",
    "\n",
    "def find_marker(image):\n",
    "    if image is None:\n",
    "        raise ValueError(\"Image not loaded. Please check the file path.\")\n",
    "    \n",
    "    # Convert the image to grayscale\n",
    "    gray = cv2.cvtColor(image, cv2.COLOR_BGR2GRAY)\n",
    "    gray = cv2.GaussianBlur(gray, (5, 5), 0)\n",
    "    edged = cv2.Canny(gray, 35, 125)\n",
    "\n",
    "    # Find the contours of the edged image\n",
    "    contours, _ = cv2.findContours(edged.copy(), cv2.RETR_LIST, cv2.CHAIN_APPROX_SIMPLE)\n",
    "    if not contours:\n",
    "        raise ValueError(\"No contours found in the image. Check image quality or parameters.\")\n",
    "    c = max(contours, key=cv2.contourArea)\n",
    "\n",
    "    return cv2.minAreaRect(c)\n",
    "\n",
    "def distance_to_camera(knownWidth, focalLength, perWidth):\n",
    "    # Compute and return the distance from the marker to the camera\n",
    "    return (knownWidth * focalLength) / perWidth\n",
    "\n",
    "# Initialize known parameters\n",
    "KNOWN_DISTANCE = 24.0  # distance from camera to object in inches\n",
    "KNOWN_WIDTH = 11.0     # width of the object in inches (e.g., width of standard A4 paper)\n",
    "\n",
    "# Load the reference image that contains an object that has a known width\n",
    "image = cv2.imread(\"/Users/namanmuktha/Desktop/cbithck/flower.jpeg\")\n",
    "if image is None:\n",
    "    raise FileNotFoundError(\"Reference image not found. Please check the path.\")\n",
    "marker = find_marker(image)\n",
    "focalLength = (marker[1][0] * KNOWN_DISTANCE) / KNOWN_WIDTH\n",
    "\n",
    "# Load the image to find the size of new objects\n",
    "image = cv2.imread(\"/Users/namanmuktha/Desktop/cbithck/flower.jpeg\")\n",
    "if image is None:\n",
    "    raise FileNotFoundError(\"New image not found. Please check the path.\")\n",
    "marker = find_marker(image)\n",
    "inches = distance_to_camera(KNOWN_WIDTH, focalLength, marker[1][0])\n",
    "\n",
    "# Draw a bounding box around the image and display it\n",
    "box = cv2.boxPoints(marker)\n",
    "box = np.int0(box)\n",
    "cv2.drawContours(image, [box], -1, (0, 255, 0), 2)\n",
    "cv2.putText(image, f\"{inches:.2f}in\", (image.shape[1] - 200, image.shape[0] - 20), cv2.FONT_HERSHEY_SIMPLEX,\n",
    "            2.0, (0, 255, 0), 3)\n",
    "cv2.imshow(\"image\", image)\n",
    "cv2.waitKey(0)\n",
    "cv2.destroyAllWindows()\n"
   ]
  },
  {
   "cell_type": "code",
   "execution_count": null,
   "metadata": {},
   "outputs": [],
   "source": []
  }
 ],
 "metadata": {
  "kernelspec": {
   "display_name": "base",
   "language": "python",
   "name": "python3"
  },
  "language_info": {
   "codemirror_mode": {
    "name": "ipython",
    "version": 3
   },
   "file_extension": ".py",
   "mimetype": "text/x-python",
   "name": "python",
   "nbconvert_exporter": "python",
   "pygments_lexer": "ipython3",
   "version": "3.11.5"
  }
 },
 "nbformat": 4,
 "nbformat_minor": 2
}
